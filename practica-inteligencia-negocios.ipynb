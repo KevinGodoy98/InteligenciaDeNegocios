{
 "metadata": {
  "kernelspec": {
   "language": "python",
   "display_name": "Python 3",
   "name": "python3"
  },
  "language_info": {
   "name": "python",
   "version": "3.7.10",
   "mimetype": "text/x-python",
   "codemirror_mode": {
    "name": "ipython",
    "version": 3
   },
   "pygments_lexer": "ipython3",
   "nbconvert_exporter": "python",
   "file_extension": ".py"
  }
 },
 "nbformat_minor": 4,
 "nbformat": 4,
 "cells": [
  {
   "cell_type": "code",
   "source": [
    "import numpy as np # linear algebra\n",
    "import pandas as pd\n",
    "import os"
   ],
   "metadata": {
    "_uuid": "8f2839f25d086af736a60e9eeb907d3b93b6e0e5",
    "_cell_guid": "b1076dfc-b9ad-4769-8c92-a6c4dae69d19",
    "execution": {
     "iopub.status.busy": "2021-12-02T17:48:35.660726Z",
     "iopub.execute_input": "2021-12-02T17:48:35.661023Z",
     "iopub.status.idle": "2021-12-02T17:48:35.665308Z",
     "shell.execute_reply.started": "2021-12-02T17:48:35.660992Z",
     "shell.execute_reply": "2021-12-02T17:48:35.664488Z"
    },
    "trusted": true
   },
   "execution_count": 320,
   "outputs": []
  },
  {
   "cell_type": "markdown",
   "source": [
    "## Leemos el dataset desde kaggle"
   ],
   "metadata": {}
  },
  {
   "cell_type": "code",
   "source": [
    "dataframe = pd.read_csv('kaggle_survey_2020_responses.csv')"
   ],
   "metadata": {
    "execution": {
     "iopub.status.busy": "2021-12-02T17:48:35.666759Z",
     "iopub.execute_input": "2021-12-02T17:48:35.667224Z",
     "iopub.status.idle": "2021-12-02T17:48:36.4949Z",
     "shell.execute_reply.started": "2021-12-02T17:48:35.66719Z",
     "shell.execute_reply": "2021-12-02T17:48:36.493597Z"
    },
    "trusted": true
   },
   "execution_count": 321,
   "outputs": [
    {
     "name": "stderr",
     "output_type": "stream",
     "text": [
      "/home/leo/miniconda3/envs/python3_10/lib/python3.10/site-packages/IPython/core/interactiveshell.py:3457: DtypeWarning:\n",
      "\n",
      "Columns (0) have mixed types.Specify dtype option on import or set low_memory=False.\n",
      "\n"
     ]
    }
   ]
  },
  {
   "cell_type": "markdown",
   "source": [
    "## Analizamos la cabecera del dataset"
   ],
   "metadata": {}
  },
  {
   "cell_type": "code",
   "source": [
    "dataframe.head()"
   ],
   "metadata": {
    "execution": {
     "iopub.status.busy": "2021-12-02T17:48:36.497029Z",
     "iopub.execute_input": "2021-12-02T17:48:36.497934Z",
     "iopub.status.idle": "2021-12-02T17:48:36.526397Z",
     "shell.execute_reply.started": "2021-12-02T17:48:36.497885Z",
     "shell.execute_reply": "2021-12-02T17:48:36.525689Z"
    },
    "trusted": true
   },
   "execution_count": 322,
   "outputs": [
    {
     "data": {
      "text/plain": "  Time from Start to Finish (seconds)                           Q1  \\\n0               Duration (in seconds)  What is your age (# years)?   \n1                                1838                        35-39   \n2                              289287                        30-34   \n3                                 860                        35-39   \n4                                 507                        30-34   \n\n                                       Q2  \\\n0  What is your gender? - Selected Choice   \n1                                     Man   \n2                                     Man   \n3                                     Man   \n4                                     Man   \n\n                                          Q3  \\\n0  In which country do you currently reside?   \n1                                   Colombia   \n2                   United States of America   \n3                                  Argentina   \n4                   United States of America   \n\n                                                  Q4  \\\n0  What is the highest level of formal education ...   \n1                                    Doctoral degree   \n2                                    Master’s degree   \n3                                  Bachelor’s degree   \n4                                    Master’s degree   \n\n                                                  Q5  \\\n0  Select the title most similar to your current ...   \n1                                            Student   \n2                                      Data Engineer   \n3                                  Software Engineer   \n4                                     Data Scientist   \n\n                                                  Q6  \\\n0  For how many years have you been writing code ...   \n1                                         5-10 years   \n2                                         5-10 years   \n3                                        10-20 years   \n4                                         5-10 years   \n\n                                           Q7_Part_1  \\\n0  What programming languages do you use on a reg...   \n1                                             Python   \n2                                             Python   \n3                                                NaN   \n4                                             Python   \n\n                                           Q7_Part_2  \\\n0  What programming languages do you use on a reg...   \n1                                                  R   \n2                                                  R   \n3                                                NaN   \n4                                                NaN   \n\n                                           Q7_Part_3  ...  \\\n0  What programming languages do you use on a reg...  ...   \n1                                                SQL  ...   \n2                                                SQL  ...   \n3                                                NaN  ...   \n4                                                SQL  ...   \n\n                                        Q35_B_Part_2  \\\n0  In the next 2 years, do you hope to become mor...   \n1                                                NaN   \n2                                                NaN   \n3                                                NaN   \n4                                                NaN   \n\n                                        Q35_B_Part_3  \\\n0  In the next 2 years, do you hope to become mor...   \n1                                                NaN   \n2                                                NaN   \n3                                                NaN   \n4                                                NaN   \n\n                                        Q35_B_Part_4  \\\n0  In the next 2 years, do you hope to become mor...   \n1                                                NaN   \n2                                                NaN   \n3                                                NaN   \n4                                                NaN   \n\n                                        Q35_B_Part_5  \\\n0  In the next 2 years, do you hope to become mor...   \n1                                       TensorBoard    \n2                                                NaN   \n3                                                NaN   \n4                                                NaN   \n\n                                        Q35_B_Part_6  \\\n0  In the next 2 years, do you hope to become mor...   \n1                                                NaN   \n2                                                NaN   \n3                                                NaN   \n4                                                NaN   \n\n                                        Q35_B_Part_7  \\\n0  In the next 2 years, do you hope to become mor...   \n1                                                NaN   \n2                                                NaN   \n3                                                NaN   \n4                                                NaN   \n\n                                        Q35_B_Part_8  \\\n0  In the next 2 years, do you hope to become mor...   \n1                                                NaN   \n2                                                NaN   \n3                                                NaN   \n4                                                NaN   \n\n                                        Q35_B_Part_9  \\\n0  In the next 2 years, do you hope to become mor...   \n1                                                NaN   \n2                                                NaN   \n3                                                NaN   \n4                                                NaN   \n\n                                       Q35_B_Part_10  \\\n0  In the next 2 years, do you hope to become mor...   \n1                                                NaN   \n2                                                NaN   \n3                                               None   \n4                                                NaN   \n\n                                         Q35_B_OTHER  \n0  In the next 2 years, do you hope to become mor...  \n1                                                NaN  \n2                                                NaN  \n3                                                NaN  \n4                                                NaN  \n\n[5 rows x 355 columns]",
      "text/html": "<div>\n<style scoped>\n    .dataframe tbody tr th:only-of-type {\n        vertical-align: middle;\n    }\n\n    .dataframe tbody tr th {\n        vertical-align: top;\n    }\n\n    .dataframe thead th {\n        text-align: right;\n    }\n</style>\n<table border=\"1\" class=\"dataframe\">\n  <thead>\n    <tr style=\"text-align: right;\">\n      <th></th>\n      <th>Time from Start to Finish (seconds)</th>\n      <th>Q1</th>\n      <th>Q2</th>\n      <th>Q3</th>\n      <th>Q4</th>\n      <th>Q5</th>\n      <th>Q6</th>\n      <th>Q7_Part_1</th>\n      <th>Q7_Part_2</th>\n      <th>Q7_Part_3</th>\n      <th>...</th>\n      <th>Q35_B_Part_2</th>\n      <th>Q35_B_Part_3</th>\n      <th>Q35_B_Part_4</th>\n      <th>Q35_B_Part_5</th>\n      <th>Q35_B_Part_6</th>\n      <th>Q35_B_Part_7</th>\n      <th>Q35_B_Part_8</th>\n      <th>Q35_B_Part_9</th>\n      <th>Q35_B_Part_10</th>\n      <th>Q35_B_OTHER</th>\n    </tr>\n  </thead>\n  <tbody>\n    <tr>\n      <th>0</th>\n      <td>Duration (in seconds)</td>\n      <td>What is your age (# years)?</td>\n      <td>What is your gender? - Selected Choice</td>\n      <td>In which country do you currently reside?</td>\n      <td>What is the highest level of formal education ...</td>\n      <td>Select the title most similar to your current ...</td>\n      <td>For how many years have you been writing code ...</td>\n      <td>What programming languages do you use on a reg...</td>\n      <td>What programming languages do you use on a reg...</td>\n      <td>What programming languages do you use on a reg...</td>\n      <td>...</td>\n      <td>In the next 2 years, do you hope to become mor...</td>\n      <td>In the next 2 years, do you hope to become mor...</td>\n      <td>In the next 2 years, do you hope to become mor...</td>\n      <td>In the next 2 years, do you hope to become mor...</td>\n      <td>In the next 2 years, do you hope to become mor...</td>\n      <td>In the next 2 years, do you hope to become mor...</td>\n      <td>In the next 2 years, do you hope to become mor...</td>\n      <td>In the next 2 years, do you hope to become mor...</td>\n      <td>In the next 2 years, do you hope to become mor...</td>\n      <td>In the next 2 years, do you hope to become mor...</td>\n    </tr>\n    <tr>\n      <th>1</th>\n      <td>1838</td>\n      <td>35-39</td>\n      <td>Man</td>\n      <td>Colombia</td>\n      <td>Doctoral degree</td>\n      <td>Student</td>\n      <td>5-10 years</td>\n      <td>Python</td>\n      <td>R</td>\n      <td>SQL</td>\n      <td>...</td>\n      <td>NaN</td>\n      <td>NaN</td>\n      <td>NaN</td>\n      <td>TensorBoard</td>\n      <td>NaN</td>\n      <td>NaN</td>\n      <td>NaN</td>\n      <td>NaN</td>\n      <td>NaN</td>\n      <td>NaN</td>\n    </tr>\n    <tr>\n      <th>2</th>\n      <td>289287</td>\n      <td>30-34</td>\n      <td>Man</td>\n      <td>United States of America</td>\n      <td>Master’s degree</td>\n      <td>Data Engineer</td>\n      <td>5-10 years</td>\n      <td>Python</td>\n      <td>R</td>\n      <td>SQL</td>\n      <td>...</td>\n      <td>NaN</td>\n      <td>NaN</td>\n      <td>NaN</td>\n      <td>NaN</td>\n      <td>NaN</td>\n      <td>NaN</td>\n      <td>NaN</td>\n      <td>NaN</td>\n      <td>NaN</td>\n      <td>NaN</td>\n    </tr>\n    <tr>\n      <th>3</th>\n      <td>860</td>\n      <td>35-39</td>\n      <td>Man</td>\n      <td>Argentina</td>\n      <td>Bachelor’s degree</td>\n      <td>Software Engineer</td>\n      <td>10-20 years</td>\n      <td>NaN</td>\n      <td>NaN</td>\n      <td>NaN</td>\n      <td>...</td>\n      <td>NaN</td>\n      <td>NaN</td>\n      <td>NaN</td>\n      <td>NaN</td>\n      <td>NaN</td>\n      <td>NaN</td>\n      <td>NaN</td>\n      <td>NaN</td>\n      <td>None</td>\n      <td>NaN</td>\n    </tr>\n    <tr>\n      <th>4</th>\n      <td>507</td>\n      <td>30-34</td>\n      <td>Man</td>\n      <td>United States of America</td>\n      <td>Master’s degree</td>\n      <td>Data Scientist</td>\n      <td>5-10 years</td>\n      <td>Python</td>\n      <td>NaN</td>\n      <td>SQL</td>\n      <td>...</td>\n      <td>NaN</td>\n      <td>NaN</td>\n      <td>NaN</td>\n      <td>NaN</td>\n      <td>NaN</td>\n      <td>NaN</td>\n      <td>NaN</td>\n      <td>NaN</td>\n      <td>NaN</td>\n      <td>NaN</td>\n    </tr>\n  </tbody>\n</table>\n<p>5 rows × 355 columns</p>\n</div>"
     },
     "execution_count": 322,
     "metadata": {},
     "output_type": "execute_result"
    }
   ]
  },
  {
   "cell_type": "markdown",
   "source": [
    "# Paso 1: Eliminar las filas y columnas con valores nulos."
   ],
   "metadata": {}
  },
  {
   "cell_type": "markdown",
   "source": [
    "## 1.1 Imprimimos la cantidad de filas y columnas antes de eliminar filas y columnas nulas"
   ],
   "metadata": {}
  },
  {
   "cell_type": "code",
   "source": [
    "rows, cols = dataframe.shape\n",
    "print(rows, cols)"
   ],
   "metadata": {
    "execution": {
     "iopub.status.busy": "2021-12-02T17:48:36.528498Z",
     "iopub.execute_input": "2021-12-02T17:48:36.529451Z",
     "iopub.status.idle": "2021-12-02T17:48:36.535832Z",
     "shell.execute_reply.started": "2021-12-02T17:48:36.5294Z",
     "shell.execute_reply": "2021-12-02T17:48:36.534814Z"
    },
    "trusted": true
   },
   "execution_count": 323,
   "outputs": [
    {
     "name": "stdout",
     "output_type": "stream",
     "text": [
      "20037 355\n"
     ]
    }
   ]
  },
  {
   "cell_type": "markdown",
   "source": [
    "## 1.2 Analizamos el porcentaje de valores nulos por columna"
   ],
   "metadata": {}
  },
  {
   "cell_type": "code",
   "source": [
    "cantidad_null_por_columna = list(dataframe.isnull().sum().items())\n",
    "\n",
    "sorted(cantidad_null_por_columna, key=lambda x: x[1], reverse=True)[:25]"
   ],
   "metadata": {
    "execution": {
     "iopub.status.busy": "2021-12-02T17:48:36.537909Z",
     "iopub.execute_input": "2021-12-02T17:48:36.538322Z",
     "iopub.status.idle": "2021-12-02T17:48:36.94157Z",
     "shell.execute_reply.started": "2021-12-02T17:48:36.538286Z",
     "shell.execute_reply": "2021-12-02T17:48:36.940669Z"
    },
    "trusted": true
   },
   "execution_count": 324,
   "outputs": [
    {
     "data": {
      "text/plain": "[('Q34_A_Part_9', 19992),\n ('Q31_A_Part_9', 19980),\n ('Q35_A_Part_4', 19979),\n ('Q31_A_Part_12', 19975),\n ('Q35_A_Part_6', 19970),\n ('Q35_A_Part_3', 19966),\n ('Q18_OTHER', 19965),\n ('Q31_A_Part_7', 19964),\n ('Q35_A_Part_9', 19962),\n ('Q26_A_Part_10', 19960),\n ('Q19_OTHER', 19954),\n ('Q16_Part_14', 19952),\n ('Q31_A_Part_10', 19951),\n ('Q35_A_Part_7', 19949),\n ('Q28_B_OTHER', 19948),\n ('Q36_Part_3', 19944),\n ('Q27_A_OTHER', 19937),\n ('Q28_A_OTHER', 19935),\n ('Q27_B_OTHER', 19935),\n ('Q10_Part_6', 19931),\n ('Q34_A_Part_10', 19925),\n ('Q26_A_Part_9', 19921),\n ('Q34_A_Part_5', 19916),\n ('Q31_A_Part_4', 19915),\n ('Q33_A_OTHER', 19904)]"
     },
     "execution_count": 324,
     "metadata": {},
     "output_type": "execute_result"
    }
   ]
  },
  {
   "cell_type": "markdown",
   "source": [
    "## 1.3 Obtenemos las columnas cuyos filas tengan mas de un 80% de valores nulos."
   ],
   "metadata": {}
  },
  {
   "cell_type": "code",
   "source": [
    "null_columns = dataframe.isnull().mean().items()\n",
    "null_columns = list(null_columns)\n",
    "sorted_null_columns = sorted(null_columns, key=lambda x: x[1], reverse=True)\n",
    "print('Null columns count: ', len(sorted_null_columns))\n",
    "\n",
    "drop_ready_columns = [x for x in sorted_null_columns if x[1] > 0.7]\n",
    "drop_ready_columns_names = [x[0] for x in drop_ready_columns]\n",
    "print('Columns with null percentage more than 70%: ', len(drop_ready_columns_names))"
   ],
   "metadata": {
    "execution": {
     "iopub.status.busy": "2021-12-02T17:48:36.942837Z",
     "iopub.execute_input": "2021-12-02T17:48:36.943231Z",
     "iopub.status.idle": "2021-12-02T17:48:37.339684Z",
     "shell.execute_reply.started": "2021-12-02T17:48:36.943194Z",
     "shell.execute_reply": "2021-12-02T17:48:37.338671Z"
    },
    "trusted": true
   },
   "execution_count": 325,
   "outputs": [
    {
     "name": "stdout",
     "output_type": "stream",
     "text": [
      "Null columns count:  355\n",
      "Columns with null percentage more than 70%:  320\n"
     ]
    }
   ]
  },
  {
   "cell_type": "markdown",
   "source": [
    "## 1.4 Eliminamos las columnas que contengan mas del 70% de valores nulos."
   ],
   "metadata": {}
  },
  {
   "cell_type": "code",
   "source": [
    "dataframe = dataframe.drop(axis=1, columns=drop_ready_columns_names)"
   ],
   "metadata": {
    "execution": {
     "iopub.status.busy": "2021-12-02T17:48:37.341471Z",
     "iopub.execute_input": "2021-12-02T17:48:37.341825Z",
     "iopub.status.idle": "2021-12-02T17:48:37.354137Z",
     "shell.execute_reply.started": "2021-12-02T17:48:37.341779Z",
     "shell.execute_reply": "2021-12-02T17:48:37.353355Z"
    },
    "trusted": true
   },
   "execution_count": 326,
   "outputs": []
  },
  {
   "cell_type": "markdown",
   "source": [
    "## 1.5 Imprimimos la cantidad de filas y columnas despues de eliminar las columnas con demasiados valores nulos."
   ],
   "metadata": {}
  },
  {
   "cell_type": "code",
   "source": [
    "dataframe.shape"
   ],
   "metadata": {
    "execution": {
     "iopub.status.busy": "2021-12-02T17:48:37.355612Z",
     "iopub.execute_input": "2021-12-02T17:48:37.356108Z",
     "iopub.status.idle": "2021-12-02T17:48:37.361847Z",
     "shell.execute_reply.started": "2021-12-02T17:48:37.356071Z",
     "shell.execute_reply": "2021-12-02T17:48:37.360978Z"
    },
    "trusted": true
   },
   "execution_count": 327,
   "outputs": [
    {
     "data": {
      "text/plain": "(20037, 35)"
     },
     "execution_count": 327,
     "metadata": {},
     "output_type": "execute_result"
    }
   ]
  },
  {
   "cell_type": "markdown",
   "source": [
    "# Paso 2: Actualizacion de cabecera y limpieza de datos."
   ],
   "metadata": {}
  },
  {
   "cell_type": "markdown",
   "source": [
    "## 2.1 Se reemplaza la primera fila como cabecera"
   ],
   "metadata": {}
  },
  {
   "cell_type": "code",
   "source": [
    "first_row = dataframe.loc[0]\n",
    "dataframe.rename(columns=first_row, inplace=True)\n",
    "dataframe.drop([0],axis=0, inplace=True)\n",
    "dataframe.head()"
   ],
   "metadata": {
    "execution": {
     "iopub.status.busy": "2021-12-02T17:48:37.363025Z",
     "iopub.execute_input": "2021-12-02T17:48:37.363257Z",
     "iopub.status.idle": "2021-12-02T17:48:37.407815Z",
     "shell.execute_reply.started": "2021-12-02T17:48:37.363228Z",
     "shell.execute_reply": "2021-12-02T17:48:37.406966Z"
    },
    "trusted": true
   },
   "execution_count": 328,
   "outputs": [
    {
     "data": {
      "text/plain": "  Duration (in seconds) What is your age (# years)?  \\\n1                  1838                       35-39   \n2                289287                       30-34   \n3                   860                       35-39   \n4                   507                       30-34   \n5                    78                       30-34   \n\n  What is your gender? - Selected Choice  \\\n1                                    Man   \n2                                    Man   \n3                                    Man   \n4                                    Man   \n5                                    Man   \n\n  In which country do you currently reside?  \\\n1                                  Colombia   \n2                  United States of America   \n3                                 Argentina   \n4                  United States of America   \n5                                     Japan   \n\n  What is the highest level of formal education that you have attained or plan to attain within the next 2 years?  \\\n1                                    Doctoral degree                                                                \n2                                    Master’s degree                                                                \n3                                  Bachelor’s degree                                                                \n4                                    Master’s degree                                                                \n5                                    Master’s degree                                                                \n\n  Select the title most similar to your current role (or most recent title if retired): - Selected Choice  \\\n1                                            Student                                                        \n2                                      Data Engineer                                                        \n3                                  Software Engineer                                                        \n4                                     Data Scientist                                                        \n5                                  Software Engineer                                                        \n\n  For how many years have you been writing code and/or programming?  \\\n1                                         5-10 years                  \n2                                         5-10 years                  \n3                                        10-20 years                  \n4                                         5-10 years                  \n5                                          3-5 years                  \n\n  What programming languages do you use on a regular basis? (Select all that apply) - Selected Choice - Python  \\\n1                                             Python                                                             \n2                                             Python                                                             \n3                                                NaN                                                             \n4                                             Python                                                             \n5                                             Python                                                             \n\n  What programming languages do you use on a regular basis? (Select all that apply) - Selected Choice - SQL  \\\n1                                                SQL                                                          \n2                                                SQL                                                          \n3                                                NaN                                                          \n4                                                SQL                                                          \n5                                                NaN                                                          \n\n  What programming language would you recommend an aspiring data scientist to learn first? - Selected Choice  \\\n1                                             Python                                                           \n2                                             Python                                                           \n3                                                  R                                                           \n4                                             Python                                                           \n5                                             Python                                                           \n\n   ...  \\\n1  ...   \n2  ...   \n3  ...   \n4  ...   \n5  ...   \n\n  Approximately how many individuals are responsible for data science workloads at your place of business?  \\\n1                                                NaN                                                         \n2                                                20+                                                         \n3                                                  0                                                         \n4                                                5-9                                                         \n5                                                NaN                                                         \n\n  Does your current employer incorporate machine learning methods into their business?  \\\n1                                                NaN                                     \n2  We have well established ML methods (i.e., mod...                                     \n3                      No (we do not use ML methods)                                     \n4  We have well established ML methods (i.e., mod...                                     \n5                                                NaN                                     \n\n  Select any activities that make up an important part of your role at work: (Select all that apply) - Selected Choice - Analyze and understand data to influence product or business decisions  \\\n1                                                NaN                                                                                                                                              \n2  Analyze and understand data to influence produ...                                                                                                                                              \n3                                                NaN                                                                                                                                              \n4  Analyze and understand data to influence produ...                                                                                                                                              \n5                                                NaN                                                                                                                                              \n\n  What is your current yearly compensation (approximate $USD)?  \\\n1                                                NaN             \n2                                    100,000-124,999             \n3                                      15,000-19,999             \n4                                    125,000-149,999             \n5                                                NaN             \n\n  Approximately how much money have you (or your team) spent on machine learning and/or cloud computing services at home (or at work) in the past 5 years (approximate $USD)?  \\\n1                                                NaN                                                                                                                            \n2                            $100,000 or more ($USD)                                                                                                                            \n3                                          $0 ($USD)                                                                                                                            \n4                                    $10,000-$99,999                                                                                                                            \n5                                                NaN                                                                                                                            \n\n  On which platforms have you begun or completed data science courses? (Select all that apply) - Selected Choice - Coursera  \\\n1                                           Coursera                                                                          \n2                                           Coursera                                                                          \n3                                           Coursera                                                                          \n4                                           Coursera                                                                          \n5                                                NaN                                                                          \n\n  What is the primary tool that you use at work or school to analyze data? (Include text response) - Selected Choice  \\\n1  Basic statistical software (Microsoft Excel, G...                                                                   \n2  Business intelligence software (Salesforce, Ta...                                                                   \n3  Basic statistical software (Microsoft Excel, G...                                                                   \n4  Local development environments (RStudio, Jupyt...                                                                   \n5                                                NaN                                                                   \n\n  Who/what are your favorite media sources that report on data science topics? (Select all that apply) - Selected Choice - Kaggle (notebooks, forums, etc)  \\\n1                    Kaggle (notebooks, forums, etc)                                                                                                         \n2                    Kaggle (notebooks, forums, etc)                                                                                                         \n3                    Kaggle (notebooks, forums, etc)                                                                                                         \n4                                                NaN                                                                                                         \n5                                                NaN                                                                                                         \n\n  Who/what are your favorite media sources that report on data science topics? (Select all that apply) - Selected Choice - YouTube (Kaggle YouTube, Cloud AI Adventures, etc)  \\\n1                                                NaN                                                                                                                            \n2  YouTube (Kaggle YouTube, Cloud AI Adventures, ...                                                                                                                            \n3  YouTube (Kaggle YouTube, Cloud AI Adventures, ...                                                                                                                            \n4                                                NaN                                                                                                                            \n5                                                NaN                                                                                                                            \n\n  Who/what are your favorite media sources that report on data science topics? (Select all that apply) - Selected Choice - Blogs (Towards Data Science, Analytics Vidhya, etc)  \n1                                                NaN                                                                                                                            \n2  Blogs (Towards Data Science, Analytics Vidhya,...                                                                                                                            \n3                                                NaN                                                                                                                            \n4                                                NaN                                                                                                                            \n5                                                NaN                                                                                                                            \n\n[5 rows x 35 columns]",
      "text/html": "<div>\n<style scoped>\n    .dataframe tbody tr th:only-of-type {\n        vertical-align: middle;\n    }\n\n    .dataframe tbody tr th {\n        vertical-align: top;\n    }\n\n    .dataframe thead th {\n        text-align: right;\n    }\n</style>\n<table border=\"1\" class=\"dataframe\">\n  <thead>\n    <tr style=\"text-align: right;\">\n      <th></th>\n      <th>Duration (in seconds)</th>\n      <th>What is your age (# years)?</th>\n      <th>What is your gender? - Selected Choice</th>\n      <th>In which country do you currently reside?</th>\n      <th>What is the highest level of formal education that you have attained or plan to attain within the next 2 years?</th>\n      <th>Select the title most similar to your current role (or most recent title if retired): - Selected Choice</th>\n      <th>For how many years have you been writing code and/or programming?</th>\n      <th>What programming languages do you use on a regular basis? (Select all that apply) - Selected Choice - Python</th>\n      <th>What programming languages do you use on a regular basis? (Select all that apply) - Selected Choice - SQL</th>\n      <th>What programming language would you recommend an aspiring data scientist to learn first? - Selected Choice</th>\n      <th>...</th>\n      <th>Approximately how many individuals are responsible for data science workloads at your place of business?</th>\n      <th>Does your current employer incorporate machine learning methods into their business?</th>\n      <th>Select any activities that make up an important part of your role at work: (Select all that apply) - Selected Choice - Analyze and understand data to influence product or business decisions</th>\n      <th>What is your current yearly compensation (approximate $USD)?</th>\n      <th>Approximately how much money have you (or your team) spent on machine learning and/or cloud computing services at home (or at work) in the past 5 years (approximate $USD)?</th>\n      <th>On which platforms have you begun or completed data science courses? (Select all that apply) - Selected Choice - Coursera</th>\n      <th>What is the primary tool that you use at work or school to analyze data? (Include text response) - Selected Choice</th>\n      <th>Who/what are your favorite media sources that report on data science topics? (Select all that apply) - Selected Choice - Kaggle (notebooks, forums, etc)</th>\n      <th>Who/what are your favorite media sources that report on data science topics? (Select all that apply) - Selected Choice - YouTube (Kaggle YouTube, Cloud AI Adventures, etc)</th>\n      <th>Who/what are your favorite media sources that report on data science topics? (Select all that apply) - Selected Choice - Blogs (Towards Data Science, Analytics Vidhya, etc)</th>\n    </tr>\n  </thead>\n  <tbody>\n    <tr>\n      <th>1</th>\n      <td>1838</td>\n      <td>35-39</td>\n      <td>Man</td>\n      <td>Colombia</td>\n      <td>Doctoral degree</td>\n      <td>Student</td>\n      <td>5-10 years</td>\n      <td>Python</td>\n      <td>SQL</td>\n      <td>Python</td>\n      <td>...</td>\n      <td>NaN</td>\n      <td>NaN</td>\n      <td>NaN</td>\n      <td>NaN</td>\n      <td>NaN</td>\n      <td>Coursera</td>\n      <td>Basic statistical software (Microsoft Excel, G...</td>\n      <td>Kaggle (notebooks, forums, etc)</td>\n      <td>NaN</td>\n      <td>NaN</td>\n    </tr>\n    <tr>\n      <th>2</th>\n      <td>289287</td>\n      <td>30-34</td>\n      <td>Man</td>\n      <td>United States of America</td>\n      <td>Master’s degree</td>\n      <td>Data Engineer</td>\n      <td>5-10 years</td>\n      <td>Python</td>\n      <td>SQL</td>\n      <td>Python</td>\n      <td>...</td>\n      <td>20+</td>\n      <td>We have well established ML methods (i.e., mod...</td>\n      <td>Analyze and understand data to influence produ...</td>\n      <td>100,000-124,999</td>\n      <td>$100,000 or more ($USD)</td>\n      <td>Coursera</td>\n      <td>Business intelligence software (Salesforce, Ta...</td>\n      <td>Kaggle (notebooks, forums, etc)</td>\n      <td>YouTube (Kaggle YouTube, Cloud AI Adventures, ...</td>\n      <td>Blogs (Towards Data Science, Analytics Vidhya,...</td>\n    </tr>\n    <tr>\n      <th>3</th>\n      <td>860</td>\n      <td>35-39</td>\n      <td>Man</td>\n      <td>Argentina</td>\n      <td>Bachelor’s degree</td>\n      <td>Software Engineer</td>\n      <td>10-20 years</td>\n      <td>NaN</td>\n      <td>NaN</td>\n      <td>R</td>\n      <td>...</td>\n      <td>0</td>\n      <td>No (we do not use ML methods)</td>\n      <td>NaN</td>\n      <td>15,000-19,999</td>\n      <td>$0 ($USD)</td>\n      <td>Coursera</td>\n      <td>Basic statistical software (Microsoft Excel, G...</td>\n      <td>Kaggle (notebooks, forums, etc)</td>\n      <td>YouTube (Kaggle YouTube, Cloud AI Adventures, ...</td>\n      <td>NaN</td>\n    </tr>\n    <tr>\n      <th>4</th>\n      <td>507</td>\n      <td>30-34</td>\n      <td>Man</td>\n      <td>United States of America</td>\n      <td>Master’s degree</td>\n      <td>Data Scientist</td>\n      <td>5-10 years</td>\n      <td>Python</td>\n      <td>SQL</td>\n      <td>Python</td>\n      <td>...</td>\n      <td>5-9</td>\n      <td>We have well established ML methods (i.e., mod...</td>\n      <td>Analyze and understand data to influence produ...</td>\n      <td>125,000-149,999</td>\n      <td>$10,000-$99,999</td>\n      <td>Coursera</td>\n      <td>Local development environments (RStudio, Jupyt...</td>\n      <td>NaN</td>\n      <td>NaN</td>\n      <td>NaN</td>\n    </tr>\n    <tr>\n      <th>5</th>\n      <td>78</td>\n      <td>30-34</td>\n      <td>Man</td>\n      <td>Japan</td>\n      <td>Master’s degree</td>\n      <td>Software Engineer</td>\n      <td>3-5 years</td>\n      <td>Python</td>\n      <td>NaN</td>\n      <td>Python</td>\n      <td>...</td>\n      <td>NaN</td>\n      <td>NaN</td>\n      <td>NaN</td>\n      <td>NaN</td>\n      <td>NaN</td>\n      <td>NaN</td>\n      <td>NaN</td>\n      <td>NaN</td>\n      <td>NaN</td>\n      <td>NaN</td>\n    </tr>\n  </tbody>\n</table>\n<p>5 rows × 35 columns</p>\n</div>"
     },
     "execution_count": 328,
     "metadata": {},
     "output_type": "execute_result"
    }
   ]
  },
  {
   "cell_type": "markdown",
   "source": [
    "## Paso 2.2 Reemplazamos los valores NaN por un valor de 'Sin respuesta'"
   ],
   "metadata": {}
  },
  {
   "cell_type": "code",
   "source": [
    "dataframe.replace(np.NaN, 'unanswered', inplace=True)"
   ],
   "metadata": {
    "execution": {
     "iopub.status.busy": "2021-12-02T17:48:37.409223Z",
     "iopub.execute_input": "2021-12-02T17:48:37.40947Z",
     "iopub.status.idle": "2021-12-02T17:48:37.511373Z",
     "shell.execute_reply.started": "2021-12-02T17:48:37.409434Z",
     "shell.execute_reply": "2021-12-02T17:48:37.510549Z"
    },
    "trusted": true
   },
   "execution_count": 329,
   "outputs": []
  },
  {
   "cell_type": "markdown",
   "source": [
    "## 2.3 ELiminacion de filas duplicadas"
   ],
   "metadata": {}
  },
  {
   "cell_type": "code",
   "source": [
    "print('Tamano del dataframe ANTES de eliminar duplicados: ', dataframe.shape)\n",
    "dataframe.drop_duplicates(inplace=True)\n",
    "print('Tamano del dataframe DESPUES de eliminar duplicados: ', dataframe.shape)"
   ],
   "metadata": {
    "execution": {
     "iopub.status.busy": "2021-12-02T17:48:37.513649Z",
     "iopub.execute_input": "2021-12-02T17:48:37.514053Z",
     "iopub.status.idle": "2021-12-02T17:48:37.675179Z",
     "shell.execute_reply.started": "2021-12-02T17:48:37.514019Z",
     "shell.execute_reply": "2021-12-02T17:48:37.674179Z"
    },
    "trusted": true
   },
   "execution_count": 330,
   "outputs": [
    {
     "name": "stdout",
     "output_type": "stream",
     "text": [
      "Tamano del dataframe ANTES de eliminar duplicados:  (20036, 35)\n",
      "Tamano del dataframe DESPUES de eliminar duplicados:  (20022, 35)\n"
     ]
    }
   ]
  },
  {
   "cell_type": "code",
   "source": [
    "from matplotlib import pyplot as plt"
   ],
   "metadata": {
    "execution": {
     "iopub.status.busy": "2021-12-02T17:48:37.676991Z",
     "iopub.execute_input": "2021-12-02T17:48:37.677323Z",
     "iopub.status.idle": "2021-12-02T17:48:37.6822Z",
     "shell.execute_reply.started": "2021-12-02T17:48:37.677279Z",
     "shell.execute_reply": "2021-12-02T17:48:37.68119Z"
    },
    "trusted": true
   },
   "execution_count": 331,
   "outputs": []
  },
  {
   "cell_type": "code",
   "source": [
    "for index, x in enumerate(dataframe.columns.to_list()):\n",
    "    if ' (Select all that apply)' in x:\n",
    "        dataframe.rename(columns={x: x.split(' (Select all that apply)')[0]}, inplace=True)\n",
    "    elif '- Selected Choice' in x:\n",
    "        dataframe.rename(columns={x: x.split('- Selected Choice')[0]}, inplace=True)\n",
    "        "
   ],
   "metadata": {
    "execution": {
     "iopub.status.busy": "2021-12-02T17:48:37.683552Z",
     "iopub.execute_input": "2021-12-02T17:48:37.684247Z",
     "iopub.status.idle": "2021-12-02T17:48:37.70718Z",
     "shell.execute_reply.started": "2021-12-02T17:48:37.684205Z",
     "shell.execute_reply": "2021-12-02T17:48:37.70632Z"
    },
    "trusted": true
   },
   "execution_count": 332,
   "outputs": []
  },
  {
   "cell_type": "code",
   "execution_count": 333,
   "outputs": [
    {
     "data": {
      "text/plain": "      Duration (in seconds) What is your age (# years)? What is your gender?   \\\n1                      1838                       35-39                   Man   \n2                    289287                       30-34                   Man   \n3                       860                       35-39                   Man   \n4                       507                       30-34                   Man   \n5                        78                       30-34                   Man   \n...                     ...                         ...                   ...   \n20032                   126                       18-21                   Man   \n20033                   566                       55-59                 Woman   \n20034                   238                       30-34                   Man   \n20035                   625                       22-24                   Man   \n20036                  1031                       22-24                   Man   \n\n               In which country do you currently reside?  \\\n1                                               Colombia   \n2                               United States of America   \n3                                              Argentina   \n4                               United States of America   \n5                                                  Japan   \n...                                                  ...   \n20032                                             Turkey   \n20033  United Kingdom of Great Britain and Northern I...   \n20034                                             Brazil   \n20035                                              India   \n20036                                           Pakistan   \n\n      What is the highest level of formal education that you have attained or plan to attain within the next 2 years?  \\\n1                                        Doctoral degree                                                                \n2                                        Master’s degree                                                                \n3                                      Bachelor’s degree                                                                \n4                                        Master’s degree                                                                \n5                                        Master’s degree                                                                \n...                                                  ...                                                                \n20032  Some college/university study without earning ...                                                                \n20033                                    Master’s degree                                                                \n20034                                    Master’s degree                                                                \n20035                                  Bachelor’s degree                                                                \n20036                                    Master’s degree                                                                \n\n      Select the title most similar to your current role (or most recent title if retired):   \\\n1                                                Student                                       \n2                                          Data Engineer                                       \n3                                      Software Engineer                                       \n4                                         Data Scientist                                       \n5                                      Software Engineer                                       \n...                                                  ...                                       \n20032                                         unanswered                                       \n20033                             Currently not employed                                       \n20034                                 Research Scientist                                       \n20035                                  Software Engineer                                       \n20036                          Machine Learning Engineer                                       \n\n      For how many years have you been writing code and/or programming?  \\\n1                                             5-10 years                  \n2                                             5-10 years                  \n3                                            10-20 years                  \n4                                             5-10 years                  \n5                                              3-5 years                  \n...                                                  ...                  \n20032                                         unanswered                  \n20033                                          20+ years                  \n20034                                          < 1 years                  \n20035                                          3-5 years                  \n20036                                          < 1 years                  \n\n      What programming languages do you use on a regular basis?  \\\n1                                                 Python          \n2                                                 Python          \n3                                             unanswered          \n4                                                 Python          \n5                                                 Python          \n...                                                  ...          \n20032                                         unanswered          \n20033                                             Python          \n20034                                             Python          \n20035                                             Python          \n20036                                             Python          \n\n      What programming languages do you use on a regular basis?  \\\n1                                                    SQL          \n2                                                    SQL          \n3                                             unanswered          \n4                                                    SQL          \n5                                             unanswered          \n...                                                  ...          \n20032                                         unanswered          \n20033                                         unanswered          \n20034                                         unanswered          \n20035                                                SQL          \n20036                                         unanswered          \n\n      What programming language would you recommend an aspiring data scientist to learn first?   \\\n1                                                 Python                                          \n2                                                 Python                                          \n3                                                      R                                          \n4                                                 Python                                          \n5                                                 Python                                          \n...                                                  ...                                          \n20032                                         unanswered                                          \n20033                                             Python                                          \n20034                                             Python                                          \n20035                                             Python                                          \n20036                                             Python                                          \n\n       ...  \\\n1      ...   \n2      ...   \n3      ...   \n4      ...   \n5      ...   \n...    ...   \n20032  ...   \n20033  ...   \n20034  ...   \n20035  ...   \n20036  ...   \n\n      Approximately how many individuals are responsible for data science workloads at your place of business?  \\\n1                                             unanswered                                                         \n2                                                    20+                                                         \n3                                                      0                                                         \n4                                                    5-9                                                         \n5                                             unanswered                                                         \n...                                                  ...                                                         \n20032                                         unanswered                                                         \n20033                                         unanswered                                                         \n20034                                                  0                                                         \n20035                                                20+                                                         \n20036                                                  0                                                         \n\n      Does your current employer incorporate machine learning methods into their business?  \\\n1                                             unanswered                                     \n2      We have well established ML methods (i.e., mod...                                     \n3                          No (we do not use ML methods)                                     \n4      We have well established ML methods (i.e., mod...                                     \n5                                             unanswered                                     \n...                                                  ...                                     \n20032                                         unanswered                                     \n20033                                         unanswered                                     \n20034  We are exploring ML methods (and may one day p...                                     \n20035  We recently started using ML methods (i.e., mo...                                     \n20036                                      I do not know                                     \n\n      Select any activities that make up an important part of your role at work:  \\\n1                                             unanswered                           \n2      Analyze and understand data to influence produ...                           \n3                                             unanswered                           \n4      Analyze and understand data to influence produ...                           \n5                                             unanswered                           \n...                                                  ...                           \n20032                                         unanswered                           \n20033                                         unanswered                           \n20034  Analyze and understand data to influence produ...                           \n20035  Analyze and understand data to influence produ...                           \n20036  Analyze and understand data to influence produ...                           \n\n      What is your current yearly compensation (approximate $USD)?  \\\n1                                             unanswered             \n2                                        100,000-124,999             \n3                                          15,000-19,999             \n4                                        125,000-149,999             \n5                                             unanswered             \n...                                                  ...             \n20032                                         unanswered             \n20033                                         unanswered             \n20034                                             $0-999             \n20035                                             $0-999             \n20036                                             $0-999             \n\n      Approximately how much money have you (or your team) spent on machine learning and/or cloud computing services at home (or at work) in the past 5 years (approximate $USD)?  \\\n1                                             unanswered                                                                                                                            \n2                                $100,000 or more ($USD)                                                                                                                            \n3                                              $0 ($USD)                                                                                                                            \n4                                        $10,000-$99,999                                                                                                                            \n5                                             unanswered                                                                                                                            \n...                                                  ...                                                                                                                            \n20032                                         unanswered                                                                                                                            \n20033                                         unanswered                                                                                                                            \n20034                                          $0 ($USD)                                                                                                                            \n20035                                          $0 ($USD)                                                                                                                            \n20036                                          $0 ($USD)                                                                                                                            \n\n      On which platforms have you begun or completed data science courses?  \\\n1                                               Coursera                     \n2                                               Coursera                     \n3                                               Coursera                     \n4                                               Coursera                     \n5                                             unanswered                     \n...                                                  ...                     \n20032                                         unanswered                     \n20033                                           Coursera                     \n20034                                         unanswered                     \n20035                                           Coursera                     \n20036                                           Coursera                     \n\n      What is the primary tool that you use at work or school to analyze data? (Include text response)   \\\n1      Basic statistical software (Microsoft Excel, G...                                                  \n2      Business intelligence software (Salesforce, Ta...                                                  \n3      Basic statistical software (Microsoft Excel, G...                                                  \n4      Local development environments (RStudio, Jupyt...                                                  \n5                                             unanswered                                                  \n...                                                  ...                                                  \n20032                                         unanswered                                                  \n20033  Local development environments (RStudio, Jupyt...                                                  \n20034                                         unanswered                                                  \n20035  Local development environments (RStudio, Jupyt...                                                  \n20036  Local development environments (RStudio, Jupyt...                                                  \n\n      Who/what are your favorite media sources that report on data science topics?  \\\n1                        Kaggle (notebooks, forums, etc)                             \n2                        Kaggle (notebooks, forums, etc)                             \n3                        Kaggle (notebooks, forums, etc)                             \n4                                             unanswered                             \n5                                             unanswered                             \n...                                                  ...                             \n20032                                         unanswered                             \n20033                                         unanswered                             \n20034                                         unanswered                             \n20035                    Kaggle (notebooks, forums, etc)                             \n20036                    Kaggle (notebooks, forums, etc)                             \n\n      Who/what are your favorite media sources that report on data science topics?  \\\n1                                             unanswered                             \n2      YouTube (Kaggle YouTube, Cloud AI Adventures, ...                             \n3      YouTube (Kaggle YouTube, Cloud AI Adventures, ...                             \n4                                             unanswered                             \n5                                             unanswered                             \n...                                                  ...                             \n20032                                         unanswered                             \n20033                                         unanswered                             \n20034                                         unanswered                             \n20035  YouTube (Kaggle YouTube, Cloud AI Adventures, ...                             \n20036  YouTube (Kaggle YouTube, Cloud AI Adventures, ...                             \n\n      Who/what are your favorite media sources that report on data science topics?  \n1                                             unanswered                            \n2      Blogs (Towards Data Science, Analytics Vidhya,...                            \n3                                             unanswered                            \n4                                             unanswered                            \n5                                             unanswered                            \n...                                                  ...                            \n20032                                         unanswered                            \n20033                                         unanswered                            \n20034                                         unanswered                            \n20035  Blogs (Towards Data Science, Analytics Vidhya,...                            \n20036  Blogs (Towards Data Science, Analytics Vidhya,...                            \n\n[20022 rows x 35 columns]",
      "text/html": "<div>\n<style scoped>\n    .dataframe tbody tr th:only-of-type {\n        vertical-align: middle;\n    }\n\n    .dataframe tbody tr th {\n        vertical-align: top;\n    }\n\n    .dataframe thead th {\n        text-align: right;\n    }\n</style>\n<table border=\"1\" class=\"dataframe\">\n  <thead>\n    <tr style=\"text-align: right;\">\n      <th></th>\n      <th>Duration (in seconds)</th>\n      <th>What is your age (# years)?</th>\n      <th>What is your gender?</th>\n      <th>In which country do you currently reside?</th>\n      <th>What is the highest level of formal education that you have attained or plan to attain within the next 2 years?</th>\n      <th>Select the title most similar to your current role (or most recent title if retired):</th>\n      <th>For how many years have you been writing code and/or programming?</th>\n      <th>What programming languages do you use on a regular basis?</th>\n      <th>What programming languages do you use on a regular basis?</th>\n      <th>What programming language would you recommend an aspiring data scientist to learn first?</th>\n      <th>...</th>\n      <th>Approximately how many individuals are responsible for data science workloads at your place of business?</th>\n      <th>Does your current employer incorporate machine learning methods into their business?</th>\n      <th>Select any activities that make up an important part of your role at work:</th>\n      <th>What is your current yearly compensation (approximate $USD)?</th>\n      <th>Approximately how much money have you (or your team) spent on machine learning and/or cloud computing services at home (or at work) in the past 5 years (approximate $USD)?</th>\n      <th>On which platforms have you begun or completed data science courses?</th>\n      <th>What is the primary tool that you use at work or school to analyze data? (Include text response)</th>\n      <th>Who/what are your favorite media sources that report on data science topics?</th>\n      <th>Who/what are your favorite media sources that report on data science topics?</th>\n      <th>Who/what are your favorite media sources that report on data science topics?</th>\n    </tr>\n  </thead>\n  <tbody>\n    <tr>\n      <th>1</th>\n      <td>1838</td>\n      <td>35-39</td>\n      <td>Man</td>\n      <td>Colombia</td>\n      <td>Doctoral degree</td>\n      <td>Student</td>\n      <td>5-10 years</td>\n      <td>Python</td>\n      <td>SQL</td>\n      <td>Python</td>\n      <td>...</td>\n      <td>unanswered</td>\n      <td>unanswered</td>\n      <td>unanswered</td>\n      <td>unanswered</td>\n      <td>unanswered</td>\n      <td>Coursera</td>\n      <td>Basic statistical software (Microsoft Excel, G...</td>\n      <td>Kaggle (notebooks, forums, etc)</td>\n      <td>unanswered</td>\n      <td>unanswered</td>\n    </tr>\n    <tr>\n      <th>2</th>\n      <td>289287</td>\n      <td>30-34</td>\n      <td>Man</td>\n      <td>United States of America</td>\n      <td>Master’s degree</td>\n      <td>Data Engineer</td>\n      <td>5-10 years</td>\n      <td>Python</td>\n      <td>SQL</td>\n      <td>Python</td>\n      <td>...</td>\n      <td>20+</td>\n      <td>We have well established ML methods (i.e., mod...</td>\n      <td>Analyze and understand data to influence produ...</td>\n      <td>100,000-124,999</td>\n      <td>$100,000 or more ($USD)</td>\n      <td>Coursera</td>\n      <td>Business intelligence software (Salesforce, Ta...</td>\n      <td>Kaggle (notebooks, forums, etc)</td>\n      <td>YouTube (Kaggle YouTube, Cloud AI Adventures, ...</td>\n      <td>Blogs (Towards Data Science, Analytics Vidhya,...</td>\n    </tr>\n    <tr>\n      <th>3</th>\n      <td>860</td>\n      <td>35-39</td>\n      <td>Man</td>\n      <td>Argentina</td>\n      <td>Bachelor’s degree</td>\n      <td>Software Engineer</td>\n      <td>10-20 years</td>\n      <td>unanswered</td>\n      <td>unanswered</td>\n      <td>R</td>\n      <td>...</td>\n      <td>0</td>\n      <td>No (we do not use ML methods)</td>\n      <td>unanswered</td>\n      <td>15,000-19,999</td>\n      <td>$0 ($USD)</td>\n      <td>Coursera</td>\n      <td>Basic statistical software (Microsoft Excel, G...</td>\n      <td>Kaggle (notebooks, forums, etc)</td>\n      <td>YouTube (Kaggle YouTube, Cloud AI Adventures, ...</td>\n      <td>unanswered</td>\n    </tr>\n    <tr>\n      <th>4</th>\n      <td>507</td>\n      <td>30-34</td>\n      <td>Man</td>\n      <td>United States of America</td>\n      <td>Master’s degree</td>\n      <td>Data Scientist</td>\n      <td>5-10 years</td>\n      <td>Python</td>\n      <td>SQL</td>\n      <td>Python</td>\n      <td>...</td>\n      <td>5-9</td>\n      <td>We have well established ML methods (i.e., mod...</td>\n      <td>Analyze and understand data to influence produ...</td>\n      <td>125,000-149,999</td>\n      <td>$10,000-$99,999</td>\n      <td>Coursera</td>\n      <td>Local development environments (RStudio, Jupyt...</td>\n      <td>unanswered</td>\n      <td>unanswered</td>\n      <td>unanswered</td>\n    </tr>\n    <tr>\n      <th>5</th>\n      <td>78</td>\n      <td>30-34</td>\n      <td>Man</td>\n      <td>Japan</td>\n      <td>Master’s degree</td>\n      <td>Software Engineer</td>\n      <td>3-5 years</td>\n      <td>Python</td>\n      <td>unanswered</td>\n      <td>Python</td>\n      <td>...</td>\n      <td>unanswered</td>\n      <td>unanswered</td>\n      <td>unanswered</td>\n      <td>unanswered</td>\n      <td>unanswered</td>\n      <td>unanswered</td>\n      <td>unanswered</td>\n      <td>unanswered</td>\n      <td>unanswered</td>\n      <td>unanswered</td>\n    </tr>\n    <tr>\n      <th>...</th>\n      <td>...</td>\n      <td>...</td>\n      <td>...</td>\n      <td>...</td>\n      <td>...</td>\n      <td>...</td>\n      <td>...</td>\n      <td>...</td>\n      <td>...</td>\n      <td>...</td>\n      <td>...</td>\n      <td>...</td>\n      <td>...</td>\n      <td>...</td>\n      <td>...</td>\n      <td>...</td>\n      <td>...</td>\n      <td>...</td>\n      <td>...</td>\n      <td>...</td>\n      <td>...</td>\n    </tr>\n    <tr>\n      <th>20032</th>\n      <td>126</td>\n      <td>18-21</td>\n      <td>Man</td>\n      <td>Turkey</td>\n      <td>Some college/university study without earning ...</td>\n      <td>unanswered</td>\n      <td>unanswered</td>\n      <td>unanswered</td>\n      <td>unanswered</td>\n      <td>unanswered</td>\n      <td>...</td>\n      <td>unanswered</td>\n      <td>unanswered</td>\n      <td>unanswered</td>\n      <td>unanswered</td>\n      <td>unanswered</td>\n      <td>unanswered</td>\n      <td>unanswered</td>\n      <td>unanswered</td>\n      <td>unanswered</td>\n      <td>unanswered</td>\n    </tr>\n    <tr>\n      <th>20033</th>\n      <td>566</td>\n      <td>55-59</td>\n      <td>Woman</td>\n      <td>United Kingdom of Great Britain and Northern I...</td>\n      <td>Master’s degree</td>\n      <td>Currently not employed</td>\n      <td>20+ years</td>\n      <td>Python</td>\n      <td>unanswered</td>\n      <td>Python</td>\n      <td>...</td>\n      <td>unanswered</td>\n      <td>unanswered</td>\n      <td>unanswered</td>\n      <td>unanswered</td>\n      <td>unanswered</td>\n      <td>Coursera</td>\n      <td>Local development environments (RStudio, Jupyt...</td>\n      <td>unanswered</td>\n      <td>unanswered</td>\n      <td>unanswered</td>\n    </tr>\n    <tr>\n      <th>20034</th>\n      <td>238</td>\n      <td>30-34</td>\n      <td>Man</td>\n      <td>Brazil</td>\n      <td>Master’s degree</td>\n      <td>Research Scientist</td>\n      <td>&lt; 1 years</td>\n      <td>Python</td>\n      <td>unanswered</td>\n      <td>Python</td>\n      <td>...</td>\n      <td>0</td>\n      <td>We are exploring ML methods (and may one day p...</td>\n      <td>Analyze and understand data to influence produ...</td>\n      <td>$0-999</td>\n      <td>$0 ($USD)</td>\n      <td>unanswered</td>\n      <td>unanswered</td>\n      <td>unanswered</td>\n      <td>unanswered</td>\n      <td>unanswered</td>\n    </tr>\n    <tr>\n      <th>20035</th>\n      <td>625</td>\n      <td>22-24</td>\n      <td>Man</td>\n      <td>India</td>\n      <td>Bachelor’s degree</td>\n      <td>Software Engineer</td>\n      <td>3-5 years</td>\n      <td>Python</td>\n      <td>SQL</td>\n      <td>Python</td>\n      <td>...</td>\n      <td>20+</td>\n      <td>We recently started using ML methods (i.e., mo...</td>\n      <td>Analyze and understand data to influence produ...</td>\n      <td>$0-999</td>\n      <td>$0 ($USD)</td>\n      <td>Coursera</td>\n      <td>Local development environments (RStudio, Jupyt...</td>\n      <td>Kaggle (notebooks, forums, etc)</td>\n      <td>YouTube (Kaggle YouTube, Cloud AI Adventures, ...</td>\n      <td>Blogs (Towards Data Science, Analytics Vidhya,...</td>\n    </tr>\n    <tr>\n      <th>20036</th>\n      <td>1031</td>\n      <td>22-24</td>\n      <td>Man</td>\n      <td>Pakistan</td>\n      <td>Master’s degree</td>\n      <td>Machine Learning Engineer</td>\n      <td>&lt; 1 years</td>\n      <td>Python</td>\n      <td>unanswered</td>\n      <td>Python</td>\n      <td>...</td>\n      <td>0</td>\n      <td>I do not know</td>\n      <td>Analyze and understand data to influence produ...</td>\n      <td>$0-999</td>\n      <td>$0 ($USD)</td>\n      <td>Coursera</td>\n      <td>Local development environments (RStudio, Jupyt...</td>\n      <td>Kaggle (notebooks, forums, etc)</td>\n      <td>YouTube (Kaggle YouTube, Cloud AI Adventures, ...</td>\n      <td>Blogs (Towards Data Science, Analytics Vidhya,...</td>\n    </tr>\n  </tbody>\n</table>\n<p>20022 rows × 35 columns</p>\n</div>"
     },
     "execution_count": 333,
     "metadata": {},
     "output_type": "execute_result"
    }
   ],
   "source": [
    "dataframe"
   ],
   "metadata": {
    "collapsed": false,
    "pycharm": {
     "name": "#%%\n"
    }
   }
  },
  {
   "cell_type": "code",
   "source": [
    "group_country_gender = dataframe.groupby(['In which country do you currently reside?', 'What is your gender? ']).size().to_dict()"
   ],
   "metadata": {
    "execution": {
     "iopub.status.busy": "2021-12-02T17:48:37.708534Z",
     "iopub.execute_input": "2021-12-02T17:48:37.709747Z",
     "iopub.status.idle": "2021-12-02T17:48:37.746135Z",
     "shell.execute_reply.started": "2021-12-02T17:48:37.709569Z",
     "shell.execute_reply": "2021-12-02T17:48:37.745451Z"
    },
    "trusted": true
   },
   "execution_count": 334,
   "outputs": []
  },
  {
   "cell_type": "code",
   "execution_count": 335,
   "outputs": [],
   "source": [
    "pais = []\n",
    "sexo = []\n",
    "conteo = []\n",
    "for x, y in group_country_gender.items():\n",
    "    pais.append(x[0])\n",
    "    sexo.append(x[1])\n",
    "    conteo.append(y)\n",
    "\n",
    "df = zip(pais, sexo, conteo)\n",
    "df = pd.DataFrame(df, columns=['pais', 'sexo', 'conteo'])\n"
   ],
   "metadata": {
    "collapsed": false,
    "pycharm": {
     "name": "#%%\n"
    }
   }
  },
  {
   "cell_type": "code",
   "execution_count": 336,
   "outputs": [
    {
     "data": {
      "application/vnd.plotly.v1+json": {
       "data": [
        {
         "alignmentgroup": "True",
         "hovertemplate": "Sexo de los Participantes=Man<br>Cantidad de Personas por Pais=%{x}<br>Paises Participantes en la Encuesta=%{y}<extra></extra>",
         "legendgroup": "Man",
         "marker": {
          "color": "#636efa",
          "pattern": {
           "shape": ""
          }
         },
         "name": "Man",
         "offsetgroup": "Man",
         "orientation": "h",
         "showlegend": true,
         "textposition": "auto",
         "x": [
          111,
          182,
          118,
          46,
          50,
          599,
          225,
          76,
          388,
          155,
          136,
          269,
          326,
          44,
          97,
          4479,
          203,
          101,
          35,
          79,
          236,
          590,
          122,
          79,
          191,
          104,
          52,
          123,
          392,
          1091,
          235,
          80,
          65,
          120,
          90,
          70,
          48,
          490,
          55,
          108,
          112,
          150,
          288,
          50,
          63,
          56,
          203,
          98,
          62,
          249,
          145,
          47,
          386,
          1680,
          126
         ],
         "xaxis": "x",
         "y": [
          "Argentina",
          "Australia",
          "Bangladesh",
          "Belarus",
          "Belgium",
          "Brazil",
          "Canada",
          "Chile",
          "China",
          "Colombia",
          "Egypt",
          "France",
          "Germany",
          "Ghana",
          "Greece",
          "India",
          "Indonesia",
          "Iran, Islamic Republic of...",
          "Ireland",
          "Israel",
          "Italy",
          "Japan",
          "Kenya",
          "Malaysia",
          "Mexico",
          "Morocco",
          "Nepal",
          "Netherlands",
          "Nigeria",
          "Other",
          "Pakistan",
          "Peru",
          "Philippines",
          "Poland",
          "Portugal",
          "Republic of Korea",
          "Romania",
          "Russia",
          "Saudi Arabia",
          "Singapore",
          "South Africa",
          "South Korea",
          "Spain",
          "Sri Lanka",
          "Sweden",
          "Switzerland",
          "Taiwan",
          "Thailand",
          "Tunisia",
          "Turkey",
          "Ukraine",
          "United Arab Emirates",
          "United Kingdom of Great Britain and Northern Ireland",
          "United States of America",
          "Viet Nam"
         ],
         "yaxis": "y",
         "type": "bar"
        },
        {
         "alignmentgroup": "True",
         "hovertemplate": "Sexo de los Participantes=Prefer not to say<br>Cantidad de Personas por Pais=%{x}<br>Paises Participantes en la Encuesta=%{y}<extra></extra>",
         "legendgroup": "Prefer not to say",
         "marker": {
          "color": "#EF553B",
          "pattern": {
           "shape": ""
          }
         },
         "name": "Prefer not to say",
         "offsetgroup": "Prefer not to say",
         "orientation": "h",
         "showlegend": true,
         "textposition": "auto",
         "x": [
          3,
          7,
          1,
          1,
          1,
          5,
          1,
          11,
          1,
          5,
          9,
          1,
          1,
          56,
          5,
          2,
          2,
          2,
          6,
          5,
          2,
          1,
          5,
          2,
          38,
          4,
          2,
          6,
          1,
          4,
          1,
          3,
          1,
          4,
          1,
          5,
          1,
          7,
          50
         ],
         "xaxis": "x",
         "y": [
          "Argentina",
          "Australia",
          "Bangladesh",
          "Belarus",
          "Brazil",
          "Canada",
          "Chile",
          "China",
          "Colombia",
          "France",
          "Germany",
          "Ghana",
          "Greece",
          "India",
          "Indonesia",
          "Iran, Islamic Republic of...",
          "Israel",
          "Italy",
          "Japan",
          "Kenya",
          "Malaysia",
          "Mexico",
          "Netherlands",
          "Nigeria",
          "Other",
          "Philippines",
          "Poland",
          "Russia",
          "Saudi Arabia",
          "Singapore",
          "South Korea",
          "Spain",
          "Sweden",
          "Taiwan",
          "Thailand",
          "Turkey",
          "Ukraine",
          "United Kingdom of Great Britain and Northern Ireland",
          "United States of America"
         ],
         "yaxis": "y",
         "type": "bar"
        },
        {
         "alignmentgroup": "True",
         "hovertemplate": "Sexo de los Participantes=Woman<br>Cantidad de Personas por Pais=%{x}<br>Paises Participantes en la Encuesta=%{y}<extra></extra>",
         "legendgroup": "Woman",
         "marker": {
          "color": "#00cc96",
          "pattern": {
           "shape": ""
          }
         },
         "name": "Woman",
         "offsetgroup": "Woman",
         "orientation": "h",
         "showlegend": true,
         "textposition": "auto",
         "x": [
          20,
          38,
          24,
          12,
          10,
          93,
          71,
          8,
          69,
          21,
          43,
          54,
          66,
          7,
          12,
          1289,
          79,
          59,
          17,
          16,
          29,
          42,
          26,
          51,
          33,
          28,
          10,
          22,
          81,
          241,
          48,
          15,
          29,
          25,
          31,
          6,
          13,
          80,
          20,
          37,
          28,
          39,
          44,
          22,
          14,
          12,
          58,
          32,
          37,
          87,
          23,
          12,
          91,
          483,
          21
         ],
         "xaxis": "x",
         "y": [
          "Argentina",
          "Australia",
          "Bangladesh",
          "Belarus",
          "Belgium",
          "Brazil",
          "Canada",
          "Chile",
          "China",
          "Colombia",
          "Egypt",
          "France",
          "Germany",
          "Ghana",
          "Greece",
          "India",
          "Indonesia",
          "Iran, Islamic Republic of...",
          "Ireland",
          "Israel",
          "Italy",
          "Japan",
          "Kenya",
          "Malaysia",
          "Mexico",
          "Morocco",
          "Nepal",
          "Netherlands",
          "Nigeria",
          "Other",
          "Pakistan",
          "Peru",
          "Philippines",
          "Poland",
          "Portugal",
          "Republic of Korea",
          "Romania",
          "Russia",
          "Saudi Arabia",
          "Singapore",
          "South Africa",
          "South Korea",
          "Spain",
          "Sri Lanka",
          "Sweden",
          "Switzerland",
          "Taiwan",
          "Thailand",
          "Tunisia",
          "Turkey",
          "Ukraine",
          "United Arab Emirates",
          "United Kingdom of Great Britain and Northern Ireland",
          "United States of America",
          "Viet Nam"
         ],
         "yaxis": "y",
         "type": "bar"
        },
        {
         "alignmentgroup": "True",
         "hovertemplate": "Sexo de los Participantes=Nonbinary<br>Cantidad de Personas por Pais=%{x}<br>Paises Participantes en la Encuesta=%{y}<extra></extra>",
         "legendgroup": "Nonbinary",
         "marker": {
          "color": "#ab63fa",
          "pattern": {
           "shape": ""
          }
         },
         "name": "Nonbinary",
         "offsetgroup": "Nonbinary",
         "orientation": "h",
         "showlegend": true,
         "textposition": "auto",
         "x": [
          2,
          1,
          3,
          1,
          2,
          2,
          1,
          1,
          2,
          1,
          8,
          1,
          3,
          1,
          2,
          3,
          18
         ],
         "xaxis": "x",
         "y": [
          "Australia",
          "Brazil",
          "China",
          "Germany",
          "India",
          "Indonesia",
          "Ireland",
          "Malaysia",
          "Mexico",
          "Nigeria",
          "Other",
          "Philippines",
          "Russia",
          "Taiwan",
          "Turkey",
          "United Kingdom of Great Britain and Northern Ireland",
          "United States of America"
         ],
         "yaxis": "y",
         "type": "bar"
        },
        {
         "alignmentgroup": "True",
         "hovertemplate": "Sexo de los Participantes=Prefer to self-describe<br>Cantidad de Personas por Pais=%{x}<br>Paises Participantes en la Encuesta=%{y}<extra></extra>",
         "legendgroup": "Prefer to self-describe",
         "marker": {
          "color": "#FFA15A",
          "pattern": {
           "shape": ""
          }
         },
         "name": "Prefer to self-describe",
         "offsetgroup": "Prefer to self-describe",
         "orientation": "h",
         "showlegend": true,
         "textposition": "auto",
         "x": [
          2,
          3,
          2,
          2,
          1,
          13,
          1,
          1,
          1,
          1,
          9,
          1,
          1,
          2,
          1,
          1,
          1,
          1,
          1,
          1,
          2,
          6
         ],
         "xaxis": "x",
         "y": [
          "Australia",
          "China",
          "France",
          "Germany",
          "Greece",
          "India",
          "Indonesia",
          "Ireland",
          "Morocco",
          "Netherlands",
          "Other",
          "Poland",
          "Portugal",
          "Russia",
          "South Africa",
          "Spain",
          "Taiwan",
          "Thailand",
          "Turkey",
          "Ukraine",
          "United Kingdom of Great Britain and Northern Ireland",
          "United States of America"
         ],
         "yaxis": "y",
         "type": "bar"
        }
       ],
       "layout": {
        "template": {
         "data": {
          "bar": [
           {
            "error_x": {
             "color": "#2a3f5f"
            },
            "error_y": {
             "color": "#2a3f5f"
            },
            "marker": {
             "line": {
              "color": "#E5ECF6",
              "width": 0.5
             },
             "pattern": {
              "fillmode": "overlay",
              "size": 10,
              "solidity": 0.2
             }
            },
            "type": "bar"
           }
          ],
          "barpolar": [
           {
            "marker": {
             "line": {
              "color": "#E5ECF6",
              "width": 0.5
             },
             "pattern": {
              "fillmode": "overlay",
              "size": 10,
              "solidity": 0.2
             }
            },
            "type": "barpolar"
           }
          ],
          "carpet": [
           {
            "aaxis": {
             "endlinecolor": "#2a3f5f",
             "gridcolor": "white",
             "linecolor": "white",
             "minorgridcolor": "white",
             "startlinecolor": "#2a3f5f"
            },
            "baxis": {
             "endlinecolor": "#2a3f5f",
             "gridcolor": "white",
             "linecolor": "white",
             "minorgridcolor": "white",
             "startlinecolor": "#2a3f5f"
            },
            "type": "carpet"
           }
          ],
          "choropleth": [
           {
            "colorbar": {
             "outlinewidth": 0,
             "ticks": ""
            },
            "type": "choropleth"
           }
          ],
          "contour": [
           {
            "colorbar": {
             "outlinewidth": 0,
             "ticks": ""
            },
            "colorscale": [
             [
              0.0,
              "#0d0887"
             ],
             [
              0.1111111111111111,
              "#46039f"
             ],
             [
              0.2222222222222222,
              "#7201a8"
             ],
             [
              0.3333333333333333,
              "#9c179e"
             ],
             [
              0.4444444444444444,
              "#bd3786"
             ],
             [
              0.5555555555555556,
              "#d8576b"
             ],
             [
              0.6666666666666666,
              "#ed7953"
             ],
             [
              0.7777777777777778,
              "#fb9f3a"
             ],
             [
              0.8888888888888888,
              "#fdca26"
             ],
             [
              1.0,
              "#f0f921"
             ]
            ],
            "type": "contour"
           }
          ],
          "contourcarpet": [
           {
            "colorbar": {
             "outlinewidth": 0,
             "ticks": ""
            },
            "type": "contourcarpet"
           }
          ],
          "heatmap": [
           {
            "colorbar": {
             "outlinewidth": 0,
             "ticks": ""
            },
            "colorscale": [
             [
              0.0,
              "#0d0887"
             ],
             [
              0.1111111111111111,
              "#46039f"
             ],
             [
              0.2222222222222222,
              "#7201a8"
             ],
             [
              0.3333333333333333,
              "#9c179e"
             ],
             [
              0.4444444444444444,
              "#bd3786"
             ],
             [
              0.5555555555555556,
              "#d8576b"
             ],
             [
              0.6666666666666666,
              "#ed7953"
             ],
             [
              0.7777777777777778,
              "#fb9f3a"
             ],
             [
              0.8888888888888888,
              "#fdca26"
             ],
             [
              1.0,
              "#f0f921"
             ]
            ],
            "type": "heatmap"
           }
          ],
          "heatmapgl": [
           {
            "colorbar": {
             "outlinewidth": 0,
             "ticks": ""
            },
            "colorscale": [
             [
              0.0,
              "#0d0887"
             ],
             [
              0.1111111111111111,
              "#46039f"
             ],
             [
              0.2222222222222222,
              "#7201a8"
             ],
             [
              0.3333333333333333,
              "#9c179e"
             ],
             [
              0.4444444444444444,
              "#bd3786"
             ],
             [
              0.5555555555555556,
              "#d8576b"
             ],
             [
              0.6666666666666666,
              "#ed7953"
             ],
             [
              0.7777777777777778,
              "#fb9f3a"
             ],
             [
              0.8888888888888888,
              "#fdca26"
             ],
             [
              1.0,
              "#f0f921"
             ]
            ],
            "type": "heatmapgl"
           }
          ],
          "histogram": [
           {
            "marker": {
             "pattern": {
              "fillmode": "overlay",
              "size": 10,
              "solidity": 0.2
             }
            },
            "type": "histogram"
           }
          ],
          "histogram2d": [
           {
            "colorbar": {
             "outlinewidth": 0,
             "ticks": ""
            },
            "colorscale": [
             [
              0.0,
              "#0d0887"
             ],
             [
              0.1111111111111111,
              "#46039f"
             ],
             [
              0.2222222222222222,
              "#7201a8"
             ],
             [
              0.3333333333333333,
              "#9c179e"
             ],
             [
              0.4444444444444444,
              "#bd3786"
             ],
             [
              0.5555555555555556,
              "#d8576b"
             ],
             [
              0.6666666666666666,
              "#ed7953"
             ],
             [
              0.7777777777777778,
              "#fb9f3a"
             ],
             [
              0.8888888888888888,
              "#fdca26"
             ],
             [
              1.0,
              "#f0f921"
             ]
            ],
            "type": "histogram2d"
           }
          ],
          "histogram2dcontour": [
           {
            "colorbar": {
             "outlinewidth": 0,
             "ticks": ""
            },
            "colorscale": [
             [
              0.0,
              "#0d0887"
             ],
             [
              0.1111111111111111,
              "#46039f"
             ],
             [
              0.2222222222222222,
              "#7201a8"
             ],
             [
              0.3333333333333333,
              "#9c179e"
             ],
             [
              0.4444444444444444,
              "#bd3786"
             ],
             [
              0.5555555555555556,
              "#d8576b"
             ],
             [
              0.6666666666666666,
              "#ed7953"
             ],
             [
              0.7777777777777778,
              "#fb9f3a"
             ],
             [
              0.8888888888888888,
              "#fdca26"
             ],
             [
              1.0,
              "#f0f921"
             ]
            ],
            "type": "histogram2dcontour"
           }
          ],
          "mesh3d": [
           {
            "colorbar": {
             "outlinewidth": 0,
             "ticks": ""
            },
            "type": "mesh3d"
           }
          ],
          "parcoords": [
           {
            "line": {
             "colorbar": {
              "outlinewidth": 0,
              "ticks": ""
             }
            },
            "type": "parcoords"
           }
          ],
          "pie": [
           {
            "automargin": true,
            "type": "pie"
           }
          ],
          "scatter": [
           {
            "marker": {
             "colorbar": {
              "outlinewidth": 0,
              "ticks": ""
             }
            },
            "type": "scatter"
           }
          ],
          "scatter3d": [
           {
            "line": {
             "colorbar": {
              "outlinewidth": 0,
              "ticks": ""
             }
            },
            "marker": {
             "colorbar": {
              "outlinewidth": 0,
              "ticks": ""
             }
            },
            "type": "scatter3d"
           }
          ],
          "scattercarpet": [
           {
            "marker": {
             "colorbar": {
              "outlinewidth": 0,
              "ticks": ""
             }
            },
            "type": "scattercarpet"
           }
          ],
          "scattergeo": [
           {
            "marker": {
             "colorbar": {
              "outlinewidth": 0,
              "ticks": ""
             }
            },
            "type": "scattergeo"
           }
          ],
          "scattergl": [
           {
            "marker": {
             "colorbar": {
              "outlinewidth": 0,
              "ticks": ""
             }
            },
            "type": "scattergl"
           }
          ],
          "scattermapbox": [
           {
            "marker": {
             "colorbar": {
              "outlinewidth": 0,
              "ticks": ""
             }
            },
            "type": "scattermapbox"
           }
          ],
          "scatterpolar": [
           {
            "marker": {
             "colorbar": {
              "outlinewidth": 0,
              "ticks": ""
             }
            },
            "type": "scatterpolar"
           }
          ],
          "scatterpolargl": [
           {
            "marker": {
             "colorbar": {
              "outlinewidth": 0,
              "ticks": ""
             }
            },
            "type": "scatterpolargl"
           }
          ],
          "scatterternary": [
           {
            "marker": {
             "colorbar": {
              "outlinewidth": 0,
              "ticks": ""
             }
            },
            "type": "scatterternary"
           }
          ],
          "surface": [
           {
            "colorbar": {
             "outlinewidth": 0,
             "ticks": ""
            },
            "colorscale": [
             [
              0.0,
              "#0d0887"
             ],
             [
              0.1111111111111111,
              "#46039f"
             ],
             [
              0.2222222222222222,
              "#7201a8"
             ],
             [
              0.3333333333333333,
              "#9c179e"
             ],
             [
              0.4444444444444444,
              "#bd3786"
             ],
             [
              0.5555555555555556,
              "#d8576b"
             ],
             [
              0.6666666666666666,
              "#ed7953"
             ],
             [
              0.7777777777777778,
              "#fb9f3a"
             ],
             [
              0.8888888888888888,
              "#fdca26"
             ],
             [
              1.0,
              "#f0f921"
             ]
            ],
            "type": "surface"
           }
          ],
          "table": [
           {
            "cells": {
             "fill": {
              "color": "#EBF0F8"
             },
             "line": {
              "color": "white"
             }
            },
            "header": {
             "fill": {
              "color": "#C8D4E3"
             },
             "line": {
              "color": "white"
             }
            },
            "type": "table"
           }
          ]
         },
         "layout": {
          "annotationdefaults": {
           "arrowcolor": "#2a3f5f",
           "arrowhead": 0,
           "arrowwidth": 1
          },
          "autotypenumbers": "strict",
          "coloraxis": {
           "colorbar": {
            "outlinewidth": 0,
            "ticks": ""
           }
          },
          "colorscale": {
           "diverging": [
            [
             0,
             "#8e0152"
            ],
            [
             0.1,
             "#c51b7d"
            ],
            [
             0.2,
             "#de77ae"
            ],
            [
             0.3,
             "#f1b6da"
            ],
            [
             0.4,
             "#fde0ef"
            ],
            [
             0.5,
             "#f7f7f7"
            ],
            [
             0.6,
             "#e6f5d0"
            ],
            [
             0.7,
             "#b8e186"
            ],
            [
             0.8,
             "#7fbc41"
            ],
            [
             0.9,
             "#4d9221"
            ],
            [
             1,
             "#276419"
            ]
           ],
           "sequential": [
            [
             0.0,
             "#0d0887"
            ],
            [
             0.1111111111111111,
             "#46039f"
            ],
            [
             0.2222222222222222,
             "#7201a8"
            ],
            [
             0.3333333333333333,
             "#9c179e"
            ],
            [
             0.4444444444444444,
             "#bd3786"
            ],
            [
             0.5555555555555556,
             "#d8576b"
            ],
            [
             0.6666666666666666,
             "#ed7953"
            ],
            [
             0.7777777777777778,
             "#fb9f3a"
            ],
            [
             0.8888888888888888,
             "#fdca26"
            ],
            [
             1.0,
             "#f0f921"
            ]
           ],
           "sequentialminus": [
            [
             0.0,
             "#0d0887"
            ],
            [
             0.1111111111111111,
             "#46039f"
            ],
            [
             0.2222222222222222,
             "#7201a8"
            ],
            [
             0.3333333333333333,
             "#9c179e"
            ],
            [
             0.4444444444444444,
             "#bd3786"
            ],
            [
             0.5555555555555556,
             "#d8576b"
            ],
            [
             0.6666666666666666,
             "#ed7953"
            ],
            [
             0.7777777777777778,
             "#fb9f3a"
            ],
            [
             0.8888888888888888,
             "#fdca26"
            ],
            [
             1.0,
             "#f0f921"
            ]
           ]
          },
          "colorway": [
           "#636efa",
           "#EF553B",
           "#00cc96",
           "#ab63fa",
           "#FFA15A",
           "#19d3f3",
           "#FF6692",
           "#B6E880",
           "#FF97FF",
           "#FECB52"
          ],
          "font": {
           "color": "#2a3f5f"
          },
          "geo": {
           "bgcolor": "white",
           "lakecolor": "white",
           "landcolor": "#E5ECF6",
           "showlakes": true,
           "showland": true,
           "subunitcolor": "white"
          },
          "hoverlabel": {
           "align": "left"
          },
          "hovermode": "closest",
          "mapbox": {
           "style": "light"
          },
          "paper_bgcolor": "white",
          "plot_bgcolor": "#E5ECF6",
          "polar": {
           "angularaxis": {
            "gridcolor": "white",
            "linecolor": "white",
            "ticks": ""
           },
           "bgcolor": "#E5ECF6",
           "radialaxis": {
            "gridcolor": "white",
            "linecolor": "white",
            "ticks": ""
           }
          },
          "scene": {
           "xaxis": {
            "backgroundcolor": "#E5ECF6",
            "gridcolor": "white",
            "gridwidth": 2,
            "linecolor": "white",
            "showbackground": true,
            "ticks": "",
            "zerolinecolor": "white"
           },
           "yaxis": {
            "backgroundcolor": "#E5ECF6",
            "gridcolor": "white",
            "gridwidth": 2,
            "linecolor": "white",
            "showbackground": true,
            "ticks": "",
            "zerolinecolor": "white"
           },
           "zaxis": {
            "backgroundcolor": "#E5ECF6",
            "gridcolor": "white",
            "gridwidth": 2,
            "linecolor": "white",
            "showbackground": true,
            "ticks": "",
            "zerolinecolor": "white"
           }
          },
          "shapedefaults": {
           "line": {
            "color": "#2a3f5f"
           }
          },
          "ternary": {
           "aaxis": {
            "gridcolor": "white",
            "linecolor": "white",
            "ticks": ""
           },
           "baxis": {
            "gridcolor": "white",
            "linecolor": "white",
            "ticks": ""
           },
           "bgcolor": "#E5ECF6",
           "caxis": {
            "gridcolor": "white",
            "linecolor": "white",
            "ticks": ""
           }
          },
          "title": {
           "x": 0.05
          },
          "xaxis": {
           "automargin": true,
           "gridcolor": "white",
           "linecolor": "white",
           "ticks": "",
           "title": {
            "standoff": 15
           },
           "zerolinecolor": "white",
           "zerolinewidth": 2
          },
          "yaxis": {
           "automargin": true,
           "gridcolor": "white",
           "linecolor": "white",
           "ticks": "",
           "title": {
            "standoff": 15
           },
           "zerolinecolor": "white",
           "zerolinewidth": 2
          }
         }
        },
        "xaxis": {
         "anchor": "y",
         "domain": [
          0.0,
          1.0
         ],
         "title": {
          "text": "Cantidad de Personas por Pais"
         }
        },
        "yaxis": {
         "anchor": "x",
         "domain": [
          0.0,
          1.0
         ],
         "title": {
          "text": "Paises Participantes en la Encuesta"
         }
        },
        "legend": {
         "title": {
          "text": "Sexo de los Participantes"
         },
         "tracegroupgap": 0
        },
        "title": {
         "text": "Agrupacion de generos de participantes por Pais"
        },
        "barmode": "relative"
       },
       "config": {
        "plotlyServerURL": "https://plot.ly"
       }
      },
      "text/html": "<div>                            <div id=\"3479a36a-6102-4507-abbd-5413f12d3d27\" class=\"plotly-graph-div\" style=\"height:525px; width:100%;\"></div>            <script type=\"text/javascript\">                require([\"plotly\"], function(Plotly) {                    window.PLOTLYENV=window.PLOTLYENV || {};                                    if (document.getElementById(\"3479a36a-6102-4507-abbd-5413f12d3d27\")) {                    Plotly.newPlot(                        \"3479a36a-6102-4507-abbd-5413f12d3d27\",                        [{\"alignmentgroup\":\"True\",\"hovertemplate\":\"Sexo de los Participantes=Man<br>Cantidad de Personas por Pais=%{x}<br>Paises Participantes en la Encuesta=%{y}<extra></extra>\",\"legendgroup\":\"Man\",\"marker\":{\"color\":\"#636efa\",\"pattern\":{\"shape\":\"\"}},\"name\":\"Man\",\"offsetgroup\":\"Man\",\"orientation\":\"h\",\"showlegend\":true,\"textposition\":\"auto\",\"x\":[111,182,118,46,50,599,225,76,388,155,136,269,326,44,97,4479,203,101,35,79,236,590,122,79,191,104,52,123,392,1091,235,80,65,120,90,70,48,490,55,108,112,150,288,50,63,56,203,98,62,249,145,47,386,1680,126],\"xaxis\":\"x\",\"y\":[\"Argentina\",\"Australia\",\"Bangladesh\",\"Belarus\",\"Belgium\",\"Brazil\",\"Canada\",\"Chile\",\"China\",\"Colombia\",\"Egypt\",\"France\",\"Germany\",\"Ghana\",\"Greece\",\"India\",\"Indonesia\",\"Iran, Islamic Republic of...\",\"Ireland\",\"Israel\",\"Italy\",\"Japan\",\"Kenya\",\"Malaysia\",\"Mexico\",\"Morocco\",\"Nepal\",\"Netherlands\",\"Nigeria\",\"Other\",\"Pakistan\",\"Peru\",\"Philippines\",\"Poland\",\"Portugal\",\"Republic of Korea\",\"Romania\",\"Russia\",\"Saudi Arabia\",\"Singapore\",\"South Africa\",\"South Korea\",\"Spain\",\"Sri Lanka\",\"Sweden\",\"Switzerland\",\"Taiwan\",\"Thailand\",\"Tunisia\",\"Turkey\",\"Ukraine\",\"United Arab Emirates\",\"United Kingdom of Great Britain and Northern Ireland\",\"United States of America\",\"Viet Nam\"],\"yaxis\":\"y\",\"type\":\"bar\"},{\"alignmentgroup\":\"True\",\"hovertemplate\":\"Sexo de los Participantes=Prefer not to say<br>Cantidad de Personas por Pais=%{x}<br>Paises Participantes en la Encuesta=%{y}<extra></extra>\",\"legendgroup\":\"Prefer not to say\",\"marker\":{\"color\":\"#EF553B\",\"pattern\":{\"shape\":\"\"}},\"name\":\"Prefer not to say\",\"offsetgroup\":\"Prefer not to say\",\"orientation\":\"h\",\"showlegend\":true,\"textposition\":\"auto\",\"x\":[3,7,1,1,1,5,1,11,1,5,9,1,1,56,5,2,2,2,6,5,2,1,5,2,38,4,2,6,1,4,1,3,1,4,1,5,1,7,50],\"xaxis\":\"x\",\"y\":[\"Argentina\",\"Australia\",\"Bangladesh\",\"Belarus\",\"Brazil\",\"Canada\",\"Chile\",\"China\",\"Colombia\",\"France\",\"Germany\",\"Ghana\",\"Greece\",\"India\",\"Indonesia\",\"Iran, Islamic Republic of...\",\"Israel\",\"Italy\",\"Japan\",\"Kenya\",\"Malaysia\",\"Mexico\",\"Netherlands\",\"Nigeria\",\"Other\",\"Philippines\",\"Poland\",\"Russia\",\"Saudi Arabia\",\"Singapore\",\"South Korea\",\"Spain\",\"Sweden\",\"Taiwan\",\"Thailand\",\"Turkey\",\"Ukraine\",\"United Kingdom of Great Britain and Northern Ireland\",\"United States of America\"],\"yaxis\":\"y\",\"type\":\"bar\"},{\"alignmentgroup\":\"True\",\"hovertemplate\":\"Sexo de los Participantes=Woman<br>Cantidad de Personas por Pais=%{x}<br>Paises Participantes en la Encuesta=%{y}<extra></extra>\",\"legendgroup\":\"Woman\",\"marker\":{\"color\":\"#00cc96\",\"pattern\":{\"shape\":\"\"}},\"name\":\"Woman\",\"offsetgroup\":\"Woman\",\"orientation\":\"h\",\"showlegend\":true,\"textposition\":\"auto\",\"x\":[20,38,24,12,10,93,71,8,69,21,43,54,66,7,12,1289,79,59,17,16,29,42,26,51,33,28,10,22,81,241,48,15,29,25,31,6,13,80,20,37,28,39,44,22,14,12,58,32,37,87,23,12,91,483,21],\"xaxis\":\"x\",\"y\":[\"Argentina\",\"Australia\",\"Bangladesh\",\"Belarus\",\"Belgium\",\"Brazil\",\"Canada\",\"Chile\",\"China\",\"Colombia\",\"Egypt\",\"France\",\"Germany\",\"Ghana\",\"Greece\",\"India\",\"Indonesia\",\"Iran, Islamic Republic of...\",\"Ireland\",\"Israel\",\"Italy\",\"Japan\",\"Kenya\",\"Malaysia\",\"Mexico\",\"Morocco\",\"Nepal\",\"Netherlands\",\"Nigeria\",\"Other\",\"Pakistan\",\"Peru\",\"Philippines\",\"Poland\",\"Portugal\",\"Republic of Korea\",\"Romania\",\"Russia\",\"Saudi Arabia\",\"Singapore\",\"South Africa\",\"South Korea\",\"Spain\",\"Sri Lanka\",\"Sweden\",\"Switzerland\",\"Taiwan\",\"Thailand\",\"Tunisia\",\"Turkey\",\"Ukraine\",\"United Arab Emirates\",\"United Kingdom of Great Britain and Northern Ireland\",\"United States of America\",\"Viet Nam\"],\"yaxis\":\"y\",\"type\":\"bar\"},{\"alignmentgroup\":\"True\",\"hovertemplate\":\"Sexo de los Participantes=Nonbinary<br>Cantidad de Personas por Pais=%{x}<br>Paises Participantes en la Encuesta=%{y}<extra></extra>\",\"legendgroup\":\"Nonbinary\",\"marker\":{\"color\":\"#ab63fa\",\"pattern\":{\"shape\":\"\"}},\"name\":\"Nonbinary\",\"offsetgroup\":\"Nonbinary\",\"orientation\":\"h\",\"showlegend\":true,\"textposition\":\"auto\",\"x\":[2,1,3,1,2,2,1,1,2,1,8,1,3,1,2,3,18],\"xaxis\":\"x\",\"y\":[\"Australia\",\"Brazil\",\"China\",\"Germany\",\"India\",\"Indonesia\",\"Ireland\",\"Malaysia\",\"Mexico\",\"Nigeria\",\"Other\",\"Philippines\",\"Russia\",\"Taiwan\",\"Turkey\",\"United Kingdom of Great Britain and Northern Ireland\",\"United States of America\"],\"yaxis\":\"y\",\"type\":\"bar\"},{\"alignmentgroup\":\"True\",\"hovertemplate\":\"Sexo de los Participantes=Prefer to self-describe<br>Cantidad de Personas por Pais=%{x}<br>Paises Participantes en la Encuesta=%{y}<extra></extra>\",\"legendgroup\":\"Prefer to self-describe\",\"marker\":{\"color\":\"#FFA15A\",\"pattern\":{\"shape\":\"\"}},\"name\":\"Prefer to self-describe\",\"offsetgroup\":\"Prefer to self-describe\",\"orientation\":\"h\",\"showlegend\":true,\"textposition\":\"auto\",\"x\":[2,3,2,2,1,13,1,1,1,1,9,1,1,2,1,1,1,1,1,1,2,6],\"xaxis\":\"x\",\"y\":[\"Australia\",\"China\",\"France\",\"Germany\",\"Greece\",\"India\",\"Indonesia\",\"Ireland\",\"Morocco\",\"Netherlands\",\"Other\",\"Poland\",\"Portugal\",\"Russia\",\"South Africa\",\"Spain\",\"Taiwan\",\"Thailand\",\"Turkey\",\"Ukraine\",\"United Kingdom of Great Britain and Northern Ireland\",\"United States of America\"],\"yaxis\":\"y\",\"type\":\"bar\"}],                        {\"template\":{\"data\":{\"bar\":[{\"error_x\":{\"color\":\"#2a3f5f\"},\"error_y\":{\"color\":\"#2a3f5f\"},\"marker\":{\"line\":{\"color\":\"#E5ECF6\",\"width\":0.5},\"pattern\":{\"fillmode\":\"overlay\",\"size\":10,\"solidity\":0.2}},\"type\":\"bar\"}],\"barpolar\":[{\"marker\":{\"line\":{\"color\":\"#E5ECF6\",\"width\":0.5},\"pattern\":{\"fillmode\":\"overlay\",\"size\":10,\"solidity\":0.2}},\"type\":\"barpolar\"}],\"carpet\":[{\"aaxis\":{\"endlinecolor\":\"#2a3f5f\",\"gridcolor\":\"white\",\"linecolor\":\"white\",\"minorgridcolor\":\"white\",\"startlinecolor\":\"#2a3f5f\"},\"baxis\":{\"endlinecolor\":\"#2a3f5f\",\"gridcolor\":\"white\",\"linecolor\":\"white\",\"minorgridcolor\":\"white\",\"startlinecolor\":\"#2a3f5f\"},\"type\":\"carpet\"}],\"choropleth\":[{\"colorbar\":{\"outlinewidth\":0,\"ticks\":\"\"},\"type\":\"choropleth\"}],\"contour\":[{\"colorbar\":{\"outlinewidth\":0,\"ticks\":\"\"},\"colorscale\":[[0.0,\"#0d0887\"],[0.1111111111111111,\"#46039f\"],[0.2222222222222222,\"#7201a8\"],[0.3333333333333333,\"#9c179e\"],[0.4444444444444444,\"#bd3786\"],[0.5555555555555556,\"#d8576b\"],[0.6666666666666666,\"#ed7953\"],[0.7777777777777778,\"#fb9f3a\"],[0.8888888888888888,\"#fdca26\"],[1.0,\"#f0f921\"]],\"type\":\"contour\"}],\"contourcarpet\":[{\"colorbar\":{\"outlinewidth\":0,\"ticks\":\"\"},\"type\":\"contourcarpet\"}],\"heatmap\":[{\"colorbar\":{\"outlinewidth\":0,\"ticks\":\"\"},\"colorscale\":[[0.0,\"#0d0887\"],[0.1111111111111111,\"#46039f\"],[0.2222222222222222,\"#7201a8\"],[0.3333333333333333,\"#9c179e\"],[0.4444444444444444,\"#bd3786\"],[0.5555555555555556,\"#d8576b\"],[0.6666666666666666,\"#ed7953\"],[0.7777777777777778,\"#fb9f3a\"],[0.8888888888888888,\"#fdca26\"],[1.0,\"#f0f921\"]],\"type\":\"heatmap\"}],\"heatmapgl\":[{\"colorbar\":{\"outlinewidth\":0,\"ticks\":\"\"},\"colorscale\":[[0.0,\"#0d0887\"],[0.1111111111111111,\"#46039f\"],[0.2222222222222222,\"#7201a8\"],[0.3333333333333333,\"#9c179e\"],[0.4444444444444444,\"#bd3786\"],[0.5555555555555556,\"#d8576b\"],[0.6666666666666666,\"#ed7953\"],[0.7777777777777778,\"#fb9f3a\"],[0.8888888888888888,\"#fdca26\"],[1.0,\"#f0f921\"]],\"type\":\"heatmapgl\"}],\"histogram\":[{\"marker\":{\"pattern\":{\"fillmode\":\"overlay\",\"size\":10,\"solidity\":0.2}},\"type\":\"histogram\"}],\"histogram2d\":[{\"colorbar\":{\"outlinewidth\":0,\"ticks\":\"\"},\"colorscale\":[[0.0,\"#0d0887\"],[0.1111111111111111,\"#46039f\"],[0.2222222222222222,\"#7201a8\"],[0.3333333333333333,\"#9c179e\"],[0.4444444444444444,\"#bd3786\"],[0.5555555555555556,\"#d8576b\"],[0.6666666666666666,\"#ed7953\"],[0.7777777777777778,\"#fb9f3a\"],[0.8888888888888888,\"#fdca26\"],[1.0,\"#f0f921\"]],\"type\":\"histogram2d\"}],\"histogram2dcontour\":[{\"colorbar\":{\"outlinewidth\":0,\"ticks\":\"\"},\"colorscale\":[[0.0,\"#0d0887\"],[0.1111111111111111,\"#46039f\"],[0.2222222222222222,\"#7201a8\"],[0.3333333333333333,\"#9c179e\"],[0.4444444444444444,\"#bd3786\"],[0.5555555555555556,\"#d8576b\"],[0.6666666666666666,\"#ed7953\"],[0.7777777777777778,\"#fb9f3a\"],[0.8888888888888888,\"#fdca26\"],[1.0,\"#f0f921\"]],\"type\":\"histogram2dcontour\"}],\"mesh3d\":[{\"colorbar\":{\"outlinewidth\":0,\"ticks\":\"\"},\"type\":\"mesh3d\"}],\"parcoords\":[{\"line\":{\"colorbar\":{\"outlinewidth\":0,\"ticks\":\"\"}},\"type\":\"parcoords\"}],\"pie\":[{\"automargin\":true,\"type\":\"pie\"}],\"scatter\":[{\"marker\":{\"colorbar\":{\"outlinewidth\":0,\"ticks\":\"\"}},\"type\":\"scatter\"}],\"scatter3d\":[{\"line\":{\"colorbar\":{\"outlinewidth\":0,\"ticks\":\"\"}},\"marker\":{\"colorbar\":{\"outlinewidth\":0,\"ticks\":\"\"}},\"type\":\"scatter3d\"}],\"scattercarpet\":[{\"marker\":{\"colorbar\":{\"outlinewidth\":0,\"ticks\":\"\"}},\"type\":\"scattercarpet\"}],\"scattergeo\":[{\"marker\":{\"colorbar\":{\"outlinewidth\":0,\"ticks\":\"\"}},\"type\":\"scattergeo\"}],\"scattergl\":[{\"marker\":{\"colorbar\":{\"outlinewidth\":0,\"ticks\":\"\"}},\"type\":\"scattergl\"}],\"scattermapbox\":[{\"marker\":{\"colorbar\":{\"outlinewidth\":0,\"ticks\":\"\"}},\"type\":\"scattermapbox\"}],\"scatterpolar\":[{\"marker\":{\"colorbar\":{\"outlinewidth\":0,\"ticks\":\"\"}},\"type\":\"scatterpolar\"}],\"scatterpolargl\":[{\"marker\":{\"colorbar\":{\"outlinewidth\":0,\"ticks\":\"\"}},\"type\":\"scatterpolargl\"}],\"scatterternary\":[{\"marker\":{\"colorbar\":{\"outlinewidth\":0,\"ticks\":\"\"}},\"type\":\"scatterternary\"}],\"surface\":[{\"colorbar\":{\"outlinewidth\":0,\"ticks\":\"\"},\"colorscale\":[[0.0,\"#0d0887\"],[0.1111111111111111,\"#46039f\"],[0.2222222222222222,\"#7201a8\"],[0.3333333333333333,\"#9c179e\"],[0.4444444444444444,\"#bd3786\"],[0.5555555555555556,\"#d8576b\"],[0.6666666666666666,\"#ed7953\"],[0.7777777777777778,\"#fb9f3a\"],[0.8888888888888888,\"#fdca26\"],[1.0,\"#f0f921\"]],\"type\":\"surface\"}],\"table\":[{\"cells\":{\"fill\":{\"color\":\"#EBF0F8\"},\"line\":{\"color\":\"white\"}},\"header\":{\"fill\":{\"color\":\"#C8D4E3\"},\"line\":{\"color\":\"white\"}},\"type\":\"table\"}]},\"layout\":{\"annotationdefaults\":{\"arrowcolor\":\"#2a3f5f\",\"arrowhead\":0,\"arrowwidth\":1},\"autotypenumbers\":\"strict\",\"coloraxis\":{\"colorbar\":{\"outlinewidth\":0,\"ticks\":\"\"}},\"colorscale\":{\"diverging\":[[0,\"#8e0152\"],[0.1,\"#c51b7d\"],[0.2,\"#de77ae\"],[0.3,\"#f1b6da\"],[0.4,\"#fde0ef\"],[0.5,\"#f7f7f7\"],[0.6,\"#e6f5d0\"],[0.7,\"#b8e186\"],[0.8,\"#7fbc41\"],[0.9,\"#4d9221\"],[1,\"#276419\"]],\"sequential\":[[0.0,\"#0d0887\"],[0.1111111111111111,\"#46039f\"],[0.2222222222222222,\"#7201a8\"],[0.3333333333333333,\"#9c179e\"],[0.4444444444444444,\"#bd3786\"],[0.5555555555555556,\"#d8576b\"],[0.6666666666666666,\"#ed7953\"],[0.7777777777777778,\"#fb9f3a\"],[0.8888888888888888,\"#fdca26\"],[1.0,\"#f0f921\"]],\"sequentialminus\":[[0.0,\"#0d0887\"],[0.1111111111111111,\"#46039f\"],[0.2222222222222222,\"#7201a8\"],[0.3333333333333333,\"#9c179e\"],[0.4444444444444444,\"#bd3786\"],[0.5555555555555556,\"#d8576b\"],[0.6666666666666666,\"#ed7953\"],[0.7777777777777778,\"#fb9f3a\"],[0.8888888888888888,\"#fdca26\"],[1.0,\"#f0f921\"]]},\"colorway\":[\"#636efa\",\"#EF553B\",\"#00cc96\",\"#ab63fa\",\"#FFA15A\",\"#19d3f3\",\"#FF6692\",\"#B6E880\",\"#FF97FF\",\"#FECB52\"],\"font\":{\"color\":\"#2a3f5f\"},\"geo\":{\"bgcolor\":\"white\",\"lakecolor\":\"white\",\"landcolor\":\"#E5ECF6\",\"showlakes\":true,\"showland\":true,\"subunitcolor\":\"white\"},\"hoverlabel\":{\"align\":\"left\"},\"hovermode\":\"closest\",\"mapbox\":{\"style\":\"light\"},\"paper_bgcolor\":\"white\",\"plot_bgcolor\":\"#E5ECF6\",\"polar\":{\"angularaxis\":{\"gridcolor\":\"white\",\"linecolor\":\"white\",\"ticks\":\"\"},\"bgcolor\":\"#E5ECF6\",\"radialaxis\":{\"gridcolor\":\"white\",\"linecolor\":\"white\",\"ticks\":\"\"}},\"scene\":{\"xaxis\":{\"backgroundcolor\":\"#E5ECF6\",\"gridcolor\":\"white\",\"gridwidth\":2,\"linecolor\":\"white\",\"showbackground\":true,\"ticks\":\"\",\"zerolinecolor\":\"white\"},\"yaxis\":{\"backgroundcolor\":\"#E5ECF6\",\"gridcolor\":\"white\",\"gridwidth\":2,\"linecolor\":\"white\",\"showbackground\":true,\"ticks\":\"\",\"zerolinecolor\":\"white\"},\"zaxis\":{\"backgroundcolor\":\"#E5ECF6\",\"gridcolor\":\"white\",\"gridwidth\":2,\"linecolor\":\"white\",\"showbackground\":true,\"ticks\":\"\",\"zerolinecolor\":\"white\"}},\"shapedefaults\":{\"line\":{\"color\":\"#2a3f5f\"}},\"ternary\":{\"aaxis\":{\"gridcolor\":\"white\",\"linecolor\":\"white\",\"ticks\":\"\"},\"baxis\":{\"gridcolor\":\"white\",\"linecolor\":\"white\",\"ticks\":\"\"},\"bgcolor\":\"#E5ECF6\",\"caxis\":{\"gridcolor\":\"white\",\"linecolor\":\"white\",\"ticks\":\"\"}},\"title\":{\"x\":0.05},\"xaxis\":{\"automargin\":true,\"gridcolor\":\"white\",\"linecolor\":\"white\",\"ticks\":\"\",\"title\":{\"standoff\":15},\"zerolinecolor\":\"white\",\"zerolinewidth\":2},\"yaxis\":{\"automargin\":true,\"gridcolor\":\"white\",\"linecolor\":\"white\",\"ticks\":\"\",\"title\":{\"standoff\":15},\"zerolinecolor\":\"white\",\"zerolinewidth\":2}}},\"xaxis\":{\"anchor\":\"y\",\"domain\":[0.0,1.0],\"title\":{\"text\":\"Cantidad de Personas por Pais\"}},\"yaxis\":{\"anchor\":\"x\",\"domain\":[0.0,1.0],\"title\":{\"text\":\"Paises Participantes en la Encuesta\"}},\"legend\":{\"title\":{\"text\":\"Sexo de los Participantes\"},\"tracegroupgap\":0},\"title\":{\"text\":\"Agrupacion de generos de participantes por Pais\"},\"barmode\":\"relative\"},                        {\"responsive\": true}                    ).then(function(){\n                            \nvar gd = document.getElementById('3479a36a-6102-4507-abbd-5413f12d3d27');\nvar x = new MutationObserver(function (mutations, observer) {{\n        var display = window.getComputedStyle(gd).display;\n        if (!display || display === 'none') {{\n            console.log([gd, 'removed!']);\n            Plotly.purge(gd);\n            observer.disconnect();\n        }}\n}});\n\n// Listen for the removal of the full notebook cells\nvar notebookContainer = gd.closest('#notebook-container');\nif (notebookContainer) {{\n    x.observe(notebookContainer, {childList: true});\n}}\n\n// Listen for the clearing of the current output cell\nvar outputEl = gd.closest('.output');\nif (outputEl) {{\n    x.observe(outputEl, {childList: true});\n}}\n\n                        })                };                });            </script>        </div>"
     },
     "metadata": {},
     "output_type": "display_data"
    }
   ],
   "source": [
    "import plotly.express as px\n",
    "\n",
    "px.bar(df, x='conteo', y='pais', color='sexo', labels={'conteo': 'Cantidad de Personas por Pais', 'pais': 'Paises Participantes en la Encuesta',\n",
    "                                                       'sexo': 'Sexo de los Participantes'}, title='Agrupacion de generos de participantes por Pais')"
   ],
   "metadata": {
    "collapsed": false,
    "pycharm": {
     "name": "#%%\n"
    }
   }
  },
  {
   "cell_type": "code",
   "execution_count": 343,
   "outputs": [],
   "source": [
    "group_country_salary = dataframe.groupby(['In which country do you currently reside?', 'What is your current yearly compensation (approximate $USD)?']).size().to_dict()\n",
    "pais = []\n",
    "compensacion = []\n",
    "conteo = []\n",
    "for x, y in group_country_salary.items():\n",
    "    pais.append(x[0])\n",
    "    compensacion.append(x[1])\n",
    "    conteo.append(y)\n",
    "\n",
    "df = zip(pais, compensacion, conteo)\n",
    "df = pd.DataFrame(df, columns=['pais', 'compensacion', 'conteo'])"
   ],
   "metadata": {
    "collapsed": false,
    "pycharm": {
     "name": "#%%\n"
    }
   }
  },
  {
   "cell_type": "code",
   "execution_count": 356,
   "outputs": [
    {
     "data": {
      "application/vnd.plotly.v1+json": {
       "data": [
        {
         "alignmentgroup": "True",
         "hovertemplate": "Paises Participantes en la Encuesta=%{y}<br>Sexo de los Participantes=%{x}<extra></extra>",
         "legendgroup": "Argentina",
         "marker": {
          "color": "#636efa",
          "pattern": {
           "shape": ""
          }
         },
         "name": "Argentina",
         "offsetgroup": "Argentina",
         "orientation": "v",
         "showlegend": true,
         "textposition": "auto",
         "x": [
          "$0-999",
          "1,000-1,999",
          "10,000-14,999",
          "15,000-19,999",
          "2,000-2,999",
          "20,000-24,999",
          "25,000-29,999",
          "250,000-299,999",
          "3,000-3,999",
          "30,000-39,999",
          "4,000-4,999",
          "40,000-49,999",
          "5,000-7,499",
          "50,000-59,999",
          "60,000-69,999",
          "7,500-9,999",
          "70,000-79,999",
          "80,000-89,999",
          "unanswered"
         ],
         "xaxis": "x",
         "y": [
          "Argentina",
          "Argentina",
          "Argentina",
          "Argentina",
          "Argentina",
          "Argentina",
          "Argentina",
          "Argentina",
          "Argentina",
          "Argentina",
          "Argentina",
          "Argentina",
          "Argentina",
          "Argentina",
          "Argentina",
          "Argentina",
          "Argentina",
          "Argentina",
          "Argentina"
         ],
         "yaxis": "y",
         "type": "bar"
        },
        {
         "alignmentgroup": "True",
         "hovertemplate": "Paises Participantes en la Encuesta=%{y}<br>Sexo de los Participantes=%{x}<extra></extra>",
         "legendgroup": "Australia",
         "marker": {
          "color": "#EF553B",
          "pattern": {
           "shape": ""
          }
         },
         "name": "Australia",
         "offsetgroup": "Australia",
         "orientation": "v",
         "showlegend": true,
         "textposition": "auto",
         "x": [
          "$0-999",
          "1,000-1,999",
          "100,000-124,999",
          "125,000-149,999",
          "15,000-19,999",
          "150,000-199,999",
          "2,000-2,999",
          "20,000-24,999",
          "200,000-249,999",
          "25,000-29,999",
          "250,000-299,999",
          "30,000-39,999",
          "300,000-500,000",
          "4,000-4,999",
          "40,000-49,999",
          "5,000-7,499",
          "50,000-59,999",
          "60,000-69,999",
          "70,000-79,999",
          "80,000-89,999",
          "90,000-99,999",
          "> $500,000",
          "unanswered"
         ],
         "xaxis": "x",
         "y": [
          "Australia",
          "Australia",
          "Australia",
          "Australia",
          "Australia",
          "Australia",
          "Australia",
          "Australia",
          "Australia",
          "Australia",
          "Australia",
          "Australia",
          "Australia",
          "Australia",
          "Australia",
          "Australia",
          "Australia",
          "Australia",
          "Australia",
          "Australia",
          "Australia",
          "Australia",
          "Australia"
         ],
         "yaxis": "y",
         "type": "bar"
        },
        {
         "alignmentgroup": "True",
         "hovertemplate": "Paises Participantes en la Encuesta=%{y}<br>Sexo de los Participantes=%{x}<extra></extra>",
         "legendgroup": "Bangladesh",
         "marker": {
          "color": "#00cc96",
          "pattern": {
           "shape": ""
          }
         },
         "name": "Bangladesh",
         "offsetgroup": "Bangladesh",
         "orientation": "v",
         "showlegend": true,
         "textposition": "auto",
         "x": [
          "$0-999",
          "1,000-1,999",
          "10,000-14,999",
          "15,000-19,999",
          "2,000-2,999",
          "20,000-24,999",
          "3,000-3,999",
          "30,000-39,999",
          "4,000-4,999",
          "5,000-7,499",
          "7,500-9,999",
          "unanswered"
         ],
         "xaxis": "x",
         "y": [
          "Bangladesh",
          "Bangladesh",
          "Bangladesh",
          "Bangladesh",
          "Bangladesh",
          "Bangladesh",
          "Bangladesh",
          "Bangladesh",
          "Bangladesh",
          "Bangladesh",
          "Bangladesh",
          "Bangladesh"
         ],
         "yaxis": "y",
         "type": "bar"
        },
        {
         "alignmentgroup": "True",
         "hovertemplate": "Paises Participantes en la Encuesta=%{y}<br>Sexo de los Participantes=%{x}<extra></extra>",
         "legendgroup": "Belarus",
         "marker": {
          "color": "#ab63fa",
          "pattern": {
           "shape": ""
          }
         },
         "name": "Belarus",
         "offsetgroup": "Belarus",
         "orientation": "v",
         "showlegend": true,
         "textposition": "auto",
         "x": [
          "$0-999",
          "1,000-1,999",
          "10,000-14,999",
          "15,000-19,999",
          "2,000-2,999",
          "20,000-24,999",
          "25,000-29,999",
          "30,000-39,999",
          "4,000-4,999",
          "40,000-49,999",
          "5,000-7,499",
          "7,500-9,999",
          "70,000-79,999",
          "unanswered"
         ],
         "xaxis": "x",
         "y": [
          "Belarus",
          "Belarus",
          "Belarus",
          "Belarus",
          "Belarus",
          "Belarus",
          "Belarus",
          "Belarus",
          "Belarus",
          "Belarus",
          "Belarus",
          "Belarus",
          "Belarus",
          "Belarus"
         ],
         "yaxis": "y",
         "type": "bar"
        },
        {
         "alignmentgroup": "True",
         "hovertemplate": "Paises Participantes en la Encuesta=%{y}<br>Sexo de los Participantes=%{x}<extra></extra>",
         "legendgroup": "Belgium",
         "marker": {
          "color": "#FFA15A",
          "pattern": {
           "shape": ""
          }
         },
         "name": "Belgium",
         "offsetgroup": "Belgium",
         "orientation": "v",
         "showlegend": true,
         "textposition": "auto",
         "x": [
          "$0-999",
          "1,000-1,999",
          "10,000-14,999",
          "100,000-124,999",
          "125,000-149,999",
          "150,000-199,999",
          "2,000-2,999",
          "25,000-29,999",
          "3,000-3,999",
          "30,000-39,999",
          "4,000-4,999",
          "40,000-49,999",
          "50,000-59,999",
          "60,000-69,999",
          "70,000-79,999",
          "80,000-89,999",
          "90,000-99,999",
          "> $500,000",
          "unanswered"
         ],
         "xaxis": "x",
         "y": [
          "Belgium",
          "Belgium",
          "Belgium",
          "Belgium",
          "Belgium",
          "Belgium",
          "Belgium",
          "Belgium",
          "Belgium",
          "Belgium",
          "Belgium",
          "Belgium",
          "Belgium",
          "Belgium",
          "Belgium",
          "Belgium",
          "Belgium",
          "Belgium",
          "Belgium"
         ],
         "yaxis": "y",
         "type": "bar"
        },
        {
         "alignmentgroup": "True",
         "hovertemplate": "Paises Participantes en la Encuesta=%{y}<br>Sexo de los Participantes=%{x}<extra></extra>",
         "legendgroup": "Brazil",
         "marker": {
          "color": "#19d3f3",
          "pattern": {
           "shape": ""
          }
         },
         "name": "Brazil",
         "offsetgroup": "Brazil",
         "orientation": "v",
         "showlegend": true,
         "textposition": "auto",
         "x": [
          "$0-999",
          "1,000-1,999",
          "10,000-14,999",
          "100,000-124,999",
          "125,000-149,999",
          "15,000-19,999",
          "150,000-199,999",
          "2,000-2,999",
          "20,000-24,999",
          "25,000-29,999",
          "250,000-299,999",
          "3,000-3,999",
          "30,000-39,999",
          "300,000-500,000",
          "4,000-4,999",
          "40,000-49,999",
          "5,000-7,499",
          "50,000-59,999",
          "60,000-69,999",
          "7,500-9,999",
          "70,000-79,999",
          "80,000-89,999",
          "90,000-99,999",
          "> $500,000",
          "unanswered"
         ],
         "xaxis": "x",
         "y": [
          "Brazil",
          "Brazil",
          "Brazil",
          "Brazil",
          "Brazil",
          "Brazil",
          "Brazil",
          "Brazil",
          "Brazil",
          "Brazil",
          "Brazil",
          "Brazil",
          "Brazil",
          "Brazil",
          "Brazil",
          "Brazil",
          "Brazil",
          "Brazil",
          "Brazil",
          "Brazil",
          "Brazil",
          "Brazil",
          "Brazil",
          "Brazil",
          "Brazil"
         ],
         "yaxis": "y",
         "type": "bar"
        },
        {
         "alignmentgroup": "True",
         "hovertemplate": "Paises Participantes en la Encuesta=%{y}<br>Sexo de los Participantes=%{x}<extra></extra>",
         "legendgroup": "Canada",
         "marker": {
          "color": "#FF6692",
          "pattern": {
           "shape": ""
          }
         },
         "name": "Canada",
         "offsetgroup": "Canada",
         "orientation": "v",
         "showlegend": true,
         "textposition": "auto",
         "x": [
          "$0-999",
          "10,000-14,999",
          "100,000-124,999",
          "125,000-149,999",
          "15,000-19,999",
          "150,000-199,999",
          "2,000-2,999",
          "20,000-24,999",
          "200,000-249,999",
          "25,000-29,999",
          "250,000-299,999",
          "3,000-3,999",
          "30,000-39,999",
          "4,000-4,999",
          "40,000-49,999",
          "5,000-7,499",
          "50,000-59,999",
          "60,000-69,999",
          "70,000-79,999",
          "80,000-89,999",
          "90,000-99,999",
          "> $500,000",
          "unanswered"
         ],
         "xaxis": "x",
         "y": [
          "Canada",
          "Canada",
          "Canada",
          "Canada",
          "Canada",
          "Canada",
          "Canada",
          "Canada",
          "Canada",
          "Canada",
          "Canada",
          "Canada",
          "Canada",
          "Canada",
          "Canada",
          "Canada",
          "Canada",
          "Canada",
          "Canada",
          "Canada",
          "Canada",
          "Canada",
          "Canada"
         ],
         "yaxis": "y",
         "type": "bar"
        },
        {
         "alignmentgroup": "True",
         "hovertemplate": "Paises Participantes en la Encuesta=%{y}<br>Sexo de los Participantes=%{x}<extra></extra>",
         "legendgroup": "Chile",
         "marker": {
          "color": "#B6E880",
          "pattern": {
           "shape": ""
          }
         },
         "name": "Chile",
         "offsetgroup": "Chile",
         "orientation": "v",
         "showlegend": true,
         "textposition": "auto",
         "x": [
          "$0-999",
          "1,000-1,999",
          "10,000-14,999",
          "15,000-19,999",
          "150,000-199,999",
          "2,000-2,999",
          "20,000-24,999",
          "25,000-29,999",
          "3,000-3,999",
          "30,000-39,999",
          "4,000-4,999",
          "40,000-49,999",
          "5,000-7,499",
          "50,000-59,999",
          "60,000-69,999",
          "70,000-79,999",
          "80,000-89,999",
          "unanswered"
         ],
         "xaxis": "x",
         "y": [
          "Chile",
          "Chile",
          "Chile",
          "Chile",
          "Chile",
          "Chile",
          "Chile",
          "Chile",
          "Chile",
          "Chile",
          "Chile",
          "Chile",
          "Chile",
          "Chile",
          "Chile",
          "Chile",
          "Chile",
          "Chile"
         ],
         "yaxis": "y",
         "type": "bar"
        },
        {
         "alignmentgroup": "True",
         "hovertemplate": "Paises Participantes en la Encuesta=%{y}<br>Sexo de los Participantes=%{x}<extra></extra>",
         "legendgroup": "China",
         "marker": {
          "color": "#FF97FF",
          "pattern": {
           "shape": ""
          }
         },
         "name": "China",
         "offsetgroup": "China",
         "orientation": "v",
         "showlegend": true,
         "textposition": "auto",
         "x": [
          "$0-999",
          "1,000-1,999",
          "10,000-14,999",
          "100,000-124,999",
          "15,000-19,999",
          "2,000-2,999",
          "20,000-24,999",
          "200,000-249,999",
          "25,000-29,999",
          "3,000-3,999",
          "30,000-39,999",
          "300,000-500,000",
          "4,000-4,999",
          "40,000-49,999",
          "5,000-7,499",
          "50,000-59,999",
          "60,000-69,999",
          "7,500-9,999",
          "70,000-79,999",
          "80,000-89,999",
          "90,000-99,999",
          "> $500,000",
          "unanswered"
         ],
         "xaxis": "x",
         "y": [
          "China",
          "China",
          "China",
          "China",
          "China",
          "China",
          "China",
          "China",
          "China",
          "China",
          "China",
          "China",
          "China",
          "China",
          "China",
          "China",
          "China",
          "China",
          "China",
          "China",
          "China",
          "China",
          "China"
         ],
         "yaxis": "y",
         "type": "bar"
        },
        {
         "alignmentgroup": "True",
         "hovertemplate": "Paises Participantes en la Encuesta=%{y}<br>Sexo de los Participantes=%{x}<extra></extra>",
         "legendgroup": "Colombia",
         "marker": {
          "color": "#FECB52",
          "pattern": {
           "shape": ""
          }
         },
         "name": "Colombia",
         "offsetgroup": "Colombia",
         "orientation": "v",
         "showlegend": true,
         "textposition": "auto",
         "x": [
          "$0-999",
          "1,000-1,999",
          "10,000-14,999",
          "15,000-19,999",
          "2,000-2,999",
          "20,000-24,999",
          "25,000-29,999",
          "3,000-3,999",
          "30,000-39,999",
          "4,000-4,999",
          "40,000-49,999",
          "5,000-7,499",
          "50,000-59,999",
          "60,000-69,999",
          "7,500-9,999",
          "70,000-79,999",
          "unanswered"
         ],
         "xaxis": "x",
         "y": [
          "Colombia",
          "Colombia",
          "Colombia",
          "Colombia",
          "Colombia",
          "Colombia",
          "Colombia",
          "Colombia",
          "Colombia",
          "Colombia",
          "Colombia",
          "Colombia",
          "Colombia",
          "Colombia",
          "Colombia",
          "Colombia",
          "Colombia"
         ],
         "yaxis": "y",
         "type": "bar"
        },
        {
         "alignmentgroup": "True",
         "hovertemplate": "Paises Participantes en la Encuesta=%{y}<br>Sexo de los Participantes=%{x}<extra></extra>",
         "legendgroup": "Egypt",
         "marker": {
          "color": "#636efa",
          "pattern": {
           "shape": ""
          }
         },
         "name": "Egypt",
         "offsetgroup": "Egypt",
         "orientation": "v",
         "showlegend": true,
         "textposition": "auto",
         "x": [
          "$0-999",
          "1,000-1,999",
          "10,000-14,999",
          "100,000-124,999",
          "15,000-19,999",
          "2,000-2,999",
          "20,000-24,999",
          "3,000-3,999",
          "30,000-39,999",
          "4,000-4,999",
          "40,000-49,999",
          "5,000-7,499",
          "7,500-9,999",
          "70,000-79,999",
          "90,000-99,999",
          "unanswered"
         ],
         "xaxis": "x",
         "y": [
          "Egypt",
          "Egypt",
          "Egypt",
          "Egypt",
          "Egypt",
          "Egypt",
          "Egypt",
          "Egypt",
          "Egypt",
          "Egypt",
          "Egypt",
          "Egypt",
          "Egypt",
          "Egypt",
          "Egypt",
          "Egypt"
         ],
         "yaxis": "y",
         "type": "bar"
        },
        {
         "alignmentgroup": "True",
         "hovertemplate": "Paises Participantes en la Encuesta=%{y}<br>Sexo de los Participantes=%{x}<extra></extra>",
         "legendgroup": "France",
         "marker": {
          "color": "#EF553B",
          "pattern": {
           "shape": ""
          }
         },
         "name": "France",
         "offsetgroup": "France",
         "orientation": "v",
         "showlegend": true,
         "textposition": "auto",
         "x": [
          "$0-999",
          "1,000-1,999",
          "10,000-14,999",
          "100,000-124,999",
          "125,000-149,999",
          "15,000-19,999",
          "150,000-199,999",
          "2,000-2,999",
          "20,000-24,999",
          "200,000-249,999",
          "25,000-29,999",
          "3,000-3,999",
          "30,000-39,999",
          "300,000-500,000",
          "4,000-4,999",
          "40,000-49,999",
          "50,000-59,999",
          "60,000-69,999",
          "7,500-9,999",
          "70,000-79,999",
          "80,000-89,999",
          "90,000-99,999",
          "unanswered"
         ],
         "xaxis": "x",
         "y": [
          "France",
          "France",
          "France",
          "France",
          "France",
          "France",
          "France",
          "France",
          "France",
          "France",
          "France",
          "France",
          "France",
          "France",
          "France",
          "France",
          "France",
          "France",
          "France",
          "France",
          "France",
          "France",
          "France"
         ],
         "yaxis": "y",
         "type": "bar"
        },
        {
         "alignmentgroup": "True",
         "hovertemplate": "Paises Participantes en la Encuesta=%{y}<br>Sexo de los Participantes=%{x}<extra></extra>",
         "legendgroup": "Germany",
         "marker": {
          "color": "#00cc96",
          "pattern": {
           "shape": ""
          }
         },
         "name": "Germany",
         "offsetgroup": "Germany",
         "orientation": "v",
         "showlegend": true,
         "textposition": "auto",
         "x": [
          "$0-999",
          "1,000-1,999",
          "10,000-14,999",
          "100,000-124,999",
          "125,000-149,999",
          "15,000-19,999",
          "150,000-199,999",
          "2,000-2,999",
          "20,000-24,999",
          "200,000-249,999",
          "25,000-29,999",
          "250,000-299,999",
          "3,000-3,999",
          "30,000-39,999",
          "4,000-4,999",
          "40,000-49,999",
          "50,000-59,999",
          "60,000-69,999",
          "70,000-79,999",
          "80,000-89,999",
          "90,000-99,999",
          "> $500,000",
          "unanswered"
         ],
         "xaxis": "x",
         "y": [
          "Germany",
          "Germany",
          "Germany",
          "Germany",
          "Germany",
          "Germany",
          "Germany",
          "Germany",
          "Germany",
          "Germany",
          "Germany",
          "Germany",
          "Germany",
          "Germany",
          "Germany",
          "Germany",
          "Germany",
          "Germany",
          "Germany",
          "Germany",
          "Germany",
          "Germany",
          "Germany"
         ],
         "yaxis": "y",
         "type": "bar"
        },
        {
         "alignmentgroup": "True",
         "hovertemplate": "Paises Participantes en la Encuesta=%{y}<br>Sexo de los Participantes=%{x}<extra></extra>",
         "legendgroup": "Ghana",
         "marker": {
          "color": "#ab63fa",
          "pattern": {
           "shape": ""
          }
         },
         "name": "Ghana",
         "offsetgroup": "Ghana",
         "orientation": "v",
         "showlegend": true,
         "textposition": "auto",
         "x": [
          "$0-999",
          "1,000-1,999",
          "10,000-14,999",
          "2,000-2,999",
          "3,000-3,999",
          "4,000-4,999",
          "5,000-7,499",
          "7,500-9,999",
          "> $500,000",
          "unanswered"
         ],
         "xaxis": "x",
         "y": [
          "Ghana",
          "Ghana",
          "Ghana",
          "Ghana",
          "Ghana",
          "Ghana",
          "Ghana",
          "Ghana",
          "Ghana",
          "Ghana"
         ],
         "yaxis": "y",
         "type": "bar"
        },
        {
         "alignmentgroup": "True",
         "hovertemplate": "Paises Participantes en la Encuesta=%{y}<br>Sexo de los Participantes=%{x}<extra></extra>",
         "legendgroup": "Greece",
         "marker": {
          "color": "#FFA15A",
          "pattern": {
           "shape": ""
          }
         },
         "name": "Greece",
         "offsetgroup": "Greece",
         "orientation": "v",
         "showlegend": true,
         "textposition": "auto",
         "x": [
          "$0-999",
          "1,000-1,999",
          "10,000-14,999",
          "15,000-19,999",
          "150,000-199,999",
          "2,000-2,999",
          "20,000-24,999",
          "25,000-29,999",
          "30,000-39,999",
          "40,000-49,999",
          "50,000-59,999",
          "60,000-69,999",
          "7,500-9,999",
          "70,000-79,999",
          "unanswered"
         ],
         "xaxis": "x",
         "y": [
          "Greece",
          "Greece",
          "Greece",
          "Greece",
          "Greece",
          "Greece",
          "Greece",
          "Greece",
          "Greece",
          "Greece",
          "Greece",
          "Greece",
          "Greece",
          "Greece",
          "Greece"
         ],
         "yaxis": "y",
         "type": "bar"
        },
        {
         "alignmentgroup": "True",
         "hovertemplate": "Paises Participantes en la Encuesta=%{y}<br>Sexo de los Participantes=%{x}<extra></extra>",
         "legendgroup": "India",
         "marker": {
          "color": "#19d3f3",
          "pattern": {
           "shape": ""
          }
         },
         "name": "India",
         "offsetgroup": "India",
         "orientation": "v",
         "showlegend": true,
         "textposition": "auto",
         "x": [
          "$0-999",
          "1,000-1,999",
          "10,000-14,999",
          "100,000-124,999",
          "125,000-149,999",
          "15,000-19,999",
          "150,000-199,999",
          "2,000-2,999",
          "20,000-24,999",
          "200,000-249,999",
          "25,000-29,999",
          "250,000-299,999",
          "3,000-3,999",
          "30,000-39,999",
          "300,000-500,000",
          "4,000-4,999",
          "40,000-49,999",
          "5,000-7,499",
          "50,000-59,999",
          "60,000-69,999",
          "7,500-9,999",
          "70,000-79,999",
          "80,000-89,999",
          "90,000-99,999",
          "> $500,000",
          "unanswered"
         ],
         "xaxis": "x",
         "y": [
          "India",
          "India",
          "India",
          "India",
          "India",
          "India",
          "India",
          "India",
          "India",
          "India",
          "India",
          "India",
          "India",
          "India",
          "India",
          "India",
          "India",
          "India",
          "India",
          "India",
          "India",
          "India",
          "India",
          "India",
          "India",
          "India"
         ],
         "yaxis": "y",
         "type": "bar"
        },
        {
         "alignmentgroup": "True",
         "hovertemplate": "Paises Participantes en la Encuesta=%{y}<br>Sexo de los Participantes=%{x}<extra></extra>",
         "legendgroup": "Indonesia",
         "marker": {
          "color": "#FF6692",
          "pattern": {
           "shape": ""
          }
         },
         "name": "Indonesia",
         "offsetgroup": "Indonesia",
         "orientation": "v",
         "showlegend": true,
         "textposition": "auto",
         "x": [
          "$0-999",
          "1,000-1,999",
          "10,000-14,999",
          "15,000-19,999",
          "2,000-2,999",
          "20,000-24,999",
          "3,000-3,999",
          "30,000-39,999",
          "300,000-500,000",
          "4,000-4,999",
          "40,000-49,999",
          "5,000-7,499",
          "7,500-9,999",
          "70,000-79,999",
          "80,000-89,999",
          "> $500,000",
          "unanswered"
         ],
         "xaxis": "x",
         "y": [
          "Indonesia",
          "Indonesia",
          "Indonesia",
          "Indonesia",
          "Indonesia",
          "Indonesia",
          "Indonesia",
          "Indonesia",
          "Indonesia",
          "Indonesia",
          "Indonesia",
          "Indonesia",
          "Indonesia",
          "Indonesia",
          "Indonesia",
          "Indonesia",
          "Indonesia"
         ],
         "yaxis": "y",
         "type": "bar"
        },
        {
         "alignmentgroup": "True",
         "hovertemplate": "Paises Participantes en la Encuesta=%{y}<br>Sexo de los Participantes=%{x}<extra></extra>",
         "legendgroup": "Iran, Islamic Republic of...",
         "marker": {
          "color": "#B6E880",
          "pattern": {
           "shape": ""
          }
         },
         "name": "Iran, Islamic Republic of...",
         "offsetgroup": "Iran, Islamic Republic of...",
         "orientation": "v",
         "showlegend": true,
         "textposition": "auto",
         "x": [
          "$0-999",
          "1,000-1,999",
          "10,000-14,999",
          "100,000-124,999",
          "15,000-19,999",
          "2,000-2,999",
          "20,000-24,999",
          "3,000-3,999",
          "4,000-4,999",
          "5,000-7,499",
          "7,500-9,999",
          "unanswered"
         ],
         "xaxis": "x",
         "y": [
          "Iran, Islamic Republic of...",
          "Iran, Islamic Republic of...",
          "Iran, Islamic Republic of...",
          "Iran, Islamic Republic of...",
          "Iran, Islamic Republic of...",
          "Iran, Islamic Republic of...",
          "Iran, Islamic Republic of...",
          "Iran, Islamic Republic of...",
          "Iran, Islamic Republic of...",
          "Iran, Islamic Republic of...",
          "Iran, Islamic Republic of...",
          "Iran, Islamic Republic of..."
         ],
         "yaxis": "y",
         "type": "bar"
        },
        {
         "alignmentgroup": "True",
         "hovertemplate": "Paises Participantes en la Encuesta=%{y}<br>Sexo de los Participantes=%{x}<extra></extra>",
         "legendgroup": "Ireland",
         "marker": {
          "color": "#FF97FF",
          "pattern": {
           "shape": ""
          }
         },
         "name": "Ireland",
         "offsetgroup": "Ireland",
         "orientation": "v",
         "showlegend": true,
         "textposition": "auto",
         "x": [
          "$0-999",
          "1,000-1,999",
          "10,000-14,999",
          "100,000-124,999",
          "125,000-149,999",
          "15,000-19,999",
          "2,000-2,999",
          "20,000-24,999",
          "25,000-29,999",
          "3,000-3,999",
          "30,000-39,999",
          "40,000-49,999",
          "5,000-7,499",
          "50,000-59,999",
          "60,000-69,999",
          "70,000-79,999",
          "80,000-89,999",
          "unanswered"
         ],
         "xaxis": "x",
         "y": [
          "Ireland",
          "Ireland",
          "Ireland",
          "Ireland",
          "Ireland",
          "Ireland",
          "Ireland",
          "Ireland",
          "Ireland",
          "Ireland",
          "Ireland",
          "Ireland",
          "Ireland",
          "Ireland",
          "Ireland",
          "Ireland",
          "Ireland",
          "Ireland"
         ],
         "yaxis": "y",
         "type": "bar"
        },
        {
         "alignmentgroup": "True",
         "hovertemplate": "Paises Participantes en la Encuesta=%{y}<br>Sexo de los Participantes=%{x}<extra></extra>",
         "legendgroup": "Israel",
         "marker": {
          "color": "#FECB52",
          "pattern": {
           "shape": ""
          }
         },
         "name": "Israel",
         "offsetgroup": "Israel",
         "orientation": "v",
         "showlegend": true,
         "textposition": "auto",
         "x": [
          "$0-999",
          "10,000-14,999",
          "100,000-124,999",
          "125,000-149,999",
          "150,000-199,999",
          "20,000-24,999",
          "200,000-249,999",
          "25,000-29,999",
          "250,000-299,999",
          "3,000-3,999",
          "40,000-49,999",
          "5,000-7,499",
          "50,000-59,999",
          "60,000-69,999",
          "7,500-9,999",
          "70,000-79,999",
          "80,000-89,999",
          "90,000-99,999",
          "> $500,000",
          "unanswered"
         ],
         "xaxis": "x",
         "y": [
          "Israel",
          "Israel",
          "Israel",
          "Israel",
          "Israel",
          "Israel",
          "Israel",
          "Israel",
          "Israel",
          "Israel",
          "Israel",
          "Israel",
          "Israel",
          "Israel",
          "Israel",
          "Israel",
          "Israel",
          "Israel",
          "Israel",
          "Israel"
         ],
         "yaxis": "y",
         "type": "bar"
        },
        {
         "alignmentgroup": "True",
         "hovertemplate": "Paises Participantes en la Encuesta=%{y}<br>Sexo de los Participantes=%{x}<extra></extra>",
         "legendgroup": "Italy",
         "marker": {
          "color": "#636efa",
          "pattern": {
           "shape": ""
          }
         },
         "name": "Italy",
         "offsetgroup": "Italy",
         "orientation": "v",
         "showlegend": true,
         "textposition": "auto",
         "x": [
          "$0-999",
          "1,000-1,999",
          "10,000-14,999",
          "100,000-124,999",
          "125,000-149,999",
          "15,000-19,999",
          "150,000-199,999",
          "2,000-2,999",
          "20,000-24,999",
          "25,000-29,999",
          "3,000-3,999",
          "30,000-39,999",
          "40,000-49,999",
          "5,000-7,499",
          "50,000-59,999",
          "60,000-69,999",
          "7,500-9,999",
          "70,000-79,999",
          "80,000-89,999",
          "90,000-99,999",
          "unanswered"
         ],
         "xaxis": "x",
         "y": [
          "Italy",
          "Italy",
          "Italy",
          "Italy",
          "Italy",
          "Italy",
          "Italy",
          "Italy",
          "Italy",
          "Italy",
          "Italy",
          "Italy",
          "Italy",
          "Italy",
          "Italy",
          "Italy",
          "Italy",
          "Italy",
          "Italy",
          "Italy",
          "Italy"
         ],
         "yaxis": "y",
         "type": "bar"
        },
        {
         "alignmentgroup": "True",
         "hovertemplate": "Paises Participantes en la Encuesta=%{y}<br>Sexo de los Participantes=%{x}<extra></extra>",
         "legendgroup": "Japan",
         "marker": {
          "color": "#EF553B",
          "pattern": {
           "shape": ""
          }
         },
         "name": "Japan",
         "offsetgroup": "Japan",
         "orientation": "v",
         "showlegend": true,
         "textposition": "auto",
         "x": [
          "$0-999",
          "1,000-1,999",
          "10,000-14,999",
          "100,000-124,999",
          "125,000-149,999",
          "15,000-19,999",
          "150,000-199,999",
          "2,000-2,999",
          "20,000-24,999",
          "25,000-29,999",
          "3,000-3,999",
          "30,000-39,999",
          "300,000-500,000",
          "4,000-4,999",
          "40,000-49,999",
          "5,000-7,499",
          "50,000-59,999",
          "60,000-69,999",
          "7,500-9,999",
          "70,000-79,999",
          "80,000-89,999",
          "90,000-99,999",
          "unanswered"
         ],
         "xaxis": "x",
         "y": [
          "Japan",
          "Japan",
          "Japan",
          "Japan",
          "Japan",
          "Japan",
          "Japan",
          "Japan",
          "Japan",
          "Japan",
          "Japan",
          "Japan",
          "Japan",
          "Japan",
          "Japan",
          "Japan",
          "Japan",
          "Japan",
          "Japan",
          "Japan",
          "Japan",
          "Japan",
          "Japan"
         ],
         "yaxis": "y",
         "type": "bar"
        },
        {
         "alignmentgroup": "True",
         "hovertemplate": "Paises Participantes en la Encuesta=%{y}<br>Sexo de los Participantes=%{x}<extra></extra>",
         "legendgroup": "Kenya",
         "marker": {
          "color": "#00cc96",
          "pattern": {
           "shape": ""
          }
         },
         "name": "Kenya",
         "offsetgroup": "Kenya",
         "orientation": "v",
         "showlegend": true,
         "textposition": "auto",
         "x": [
          "$0-999",
          "1,000-1,999",
          "10,000-14,999",
          "15,000-19,999",
          "2,000-2,999",
          "20,000-24,999",
          "3,000-3,999",
          "30,000-39,999",
          "4,000-4,999",
          "5,000-7,499",
          "7,500-9,999",
          "80,000-89,999",
          "unanswered"
         ],
         "xaxis": "x",
         "y": [
          "Kenya",
          "Kenya",
          "Kenya",
          "Kenya",
          "Kenya",
          "Kenya",
          "Kenya",
          "Kenya",
          "Kenya",
          "Kenya",
          "Kenya",
          "Kenya",
          "Kenya"
         ],
         "yaxis": "y",
         "type": "bar"
        },
        {
         "alignmentgroup": "True",
         "hovertemplate": "Paises Participantes en la Encuesta=%{y}<br>Sexo de los Participantes=%{x}<extra></extra>",
         "legendgroup": "Malaysia",
         "marker": {
          "color": "#ab63fa",
          "pattern": {
           "shape": ""
          }
         },
         "name": "Malaysia",
         "offsetgroup": "Malaysia",
         "orientation": "v",
         "showlegend": true,
         "textposition": "auto",
         "x": [
          "$0-999",
          "1,000-1,999",
          "10,000-14,999",
          "100,000-124,999",
          "15,000-19,999",
          "150,000-199,999",
          "2,000-2,999",
          "20,000-24,999",
          "25,000-29,999",
          "3,000-3,999",
          "30,000-39,999",
          "4,000-4,999",
          "50,000-59,999",
          "60,000-69,999",
          "7,500-9,999",
          "70,000-79,999",
          "80,000-89,999",
          "unanswered"
         ],
         "xaxis": "x",
         "y": [
          "Malaysia",
          "Malaysia",
          "Malaysia",
          "Malaysia",
          "Malaysia",
          "Malaysia",
          "Malaysia",
          "Malaysia",
          "Malaysia",
          "Malaysia",
          "Malaysia",
          "Malaysia",
          "Malaysia",
          "Malaysia",
          "Malaysia",
          "Malaysia",
          "Malaysia",
          "Malaysia"
         ],
         "yaxis": "y",
         "type": "bar"
        },
        {
         "alignmentgroup": "True",
         "hovertemplate": "Paises Participantes en la Encuesta=%{y}<br>Sexo de los Participantes=%{x}<extra></extra>",
         "legendgroup": "Mexico",
         "marker": {
          "color": "#FFA15A",
          "pattern": {
           "shape": ""
          }
         },
         "name": "Mexico",
         "offsetgroup": "Mexico",
         "orientation": "v",
         "showlegend": true,
         "textposition": "auto",
         "x": [
          "$0-999",
          "1,000-1,999",
          "10,000-14,999",
          "100,000-124,999",
          "125,000-149,999",
          "15,000-19,999",
          "150,000-199,999",
          "2,000-2,999",
          "20,000-24,999",
          "25,000-29,999",
          "250,000-299,999",
          "3,000-3,999",
          "30,000-39,999",
          "4,000-4,999",
          "40,000-49,999",
          "5,000-7,499",
          "50,000-59,999",
          "60,000-69,999",
          "7,500-9,999",
          "70,000-79,999",
          "80,000-89,999",
          "90,000-99,999",
          "> $500,000",
          "unanswered"
         ],
         "xaxis": "x",
         "y": [
          "Mexico",
          "Mexico",
          "Mexico",
          "Mexico",
          "Mexico",
          "Mexico",
          "Mexico",
          "Mexico",
          "Mexico",
          "Mexico",
          "Mexico",
          "Mexico",
          "Mexico",
          "Mexico",
          "Mexico",
          "Mexico",
          "Mexico",
          "Mexico",
          "Mexico",
          "Mexico",
          "Mexico",
          "Mexico",
          "Mexico",
          "Mexico"
         ],
         "yaxis": "y",
         "type": "bar"
        },
        {
         "alignmentgroup": "True",
         "hovertemplate": "Paises Participantes en la Encuesta=%{y}<br>Sexo de los Participantes=%{x}<extra></extra>",
         "legendgroup": "Morocco",
         "marker": {
          "color": "#19d3f3",
          "pattern": {
           "shape": ""
          }
         },
         "name": "Morocco",
         "offsetgroup": "Morocco",
         "orientation": "v",
         "showlegend": true,
         "textposition": "auto",
         "x": [
          "$0-999",
          "1,000-1,999",
          "10,000-14,999",
          "100,000-124,999",
          "15,000-19,999",
          "2,000-2,999",
          "20,000-24,999",
          "25,000-29,999",
          "3,000-3,999",
          "30,000-39,999",
          "40,000-49,999",
          "5,000-7,499",
          "7,500-9,999",
          "80,000-89,999",
          "unanswered"
         ],
         "xaxis": "x",
         "y": [
          "Morocco",
          "Morocco",
          "Morocco",
          "Morocco",
          "Morocco",
          "Morocco",
          "Morocco",
          "Morocco",
          "Morocco",
          "Morocco",
          "Morocco",
          "Morocco",
          "Morocco",
          "Morocco",
          "Morocco"
         ],
         "yaxis": "y",
         "type": "bar"
        },
        {
         "alignmentgroup": "True",
         "hovertemplate": "Paises Participantes en la Encuesta=%{y}<br>Sexo de los Participantes=%{x}<extra></extra>",
         "legendgroup": "Nepal",
         "marker": {
          "color": "#FF6692",
          "pattern": {
           "shape": ""
          }
         },
         "name": "Nepal",
         "offsetgroup": "Nepal",
         "orientation": "v",
         "showlegend": true,
         "textposition": "auto",
         "x": [
          "$0-999",
          "10,000-14,999",
          "150,000-199,999",
          "2,000-2,999",
          "3,000-3,999",
          "4,000-4,999",
          "5,000-7,499",
          "7,500-9,999",
          "unanswered"
         ],
         "xaxis": "x",
         "y": [
          "Nepal",
          "Nepal",
          "Nepal",
          "Nepal",
          "Nepal",
          "Nepal",
          "Nepal",
          "Nepal",
          "Nepal"
         ],
         "yaxis": "y",
         "type": "bar"
        },
        {
         "alignmentgroup": "True",
         "hovertemplate": "Paises Participantes en la Encuesta=%{y}<br>Sexo de los Participantes=%{x}<extra></extra>",
         "legendgroup": "Netherlands",
         "marker": {
          "color": "#B6E880",
          "pattern": {
           "shape": ""
          }
         },
         "name": "Netherlands",
         "offsetgroup": "Netherlands",
         "orientation": "v",
         "showlegend": true,
         "textposition": "auto",
         "x": [
          "$0-999",
          "10,000-14,999",
          "100,000-124,999",
          "125,000-149,999",
          "150,000-199,999",
          "20,000-24,999",
          "200,000-249,999",
          "25,000-29,999",
          "3,000-3,999",
          "30,000-39,999",
          "4,000-4,999",
          "40,000-49,999",
          "5,000-7,499",
          "50,000-59,999",
          "60,000-69,999",
          "7,500-9,999",
          "70,000-79,999",
          "80,000-89,999",
          "90,000-99,999",
          "unanswered"
         ],
         "xaxis": "x",
         "y": [
          "Netherlands",
          "Netherlands",
          "Netherlands",
          "Netherlands",
          "Netherlands",
          "Netherlands",
          "Netherlands",
          "Netherlands",
          "Netherlands",
          "Netherlands",
          "Netherlands",
          "Netherlands",
          "Netherlands",
          "Netherlands",
          "Netherlands",
          "Netherlands",
          "Netherlands",
          "Netherlands",
          "Netherlands",
          "Netherlands"
         ],
         "yaxis": "y",
         "type": "bar"
        },
        {
         "alignmentgroup": "True",
         "hovertemplate": "Paises Participantes en la Encuesta=%{y}<br>Sexo de los Participantes=%{x}<extra></extra>",
         "legendgroup": "Nigeria",
         "marker": {
          "color": "#FF97FF",
          "pattern": {
           "shape": ""
          }
         },
         "name": "Nigeria",
         "offsetgroup": "Nigeria",
         "orientation": "v",
         "showlegend": true,
         "textposition": "auto",
         "x": [
          "$0-999",
          "1,000-1,999",
          "10,000-14,999",
          "15,000-19,999",
          "2,000-2,999",
          "20,000-24,999",
          "25,000-29,999",
          "3,000-3,999",
          "30,000-39,999",
          "4,000-4,999",
          "40,000-49,999",
          "5,000-7,499",
          "50,000-59,999",
          "60,000-69,999",
          "7,500-9,999",
          "70,000-79,999",
          "80,000-89,999",
          "> $500,000",
          "unanswered"
         ],
         "xaxis": "x",
         "y": [
          "Nigeria",
          "Nigeria",
          "Nigeria",
          "Nigeria",
          "Nigeria",
          "Nigeria",
          "Nigeria",
          "Nigeria",
          "Nigeria",
          "Nigeria",
          "Nigeria",
          "Nigeria",
          "Nigeria",
          "Nigeria",
          "Nigeria",
          "Nigeria",
          "Nigeria",
          "Nigeria",
          "Nigeria"
         ],
         "yaxis": "y",
         "type": "bar"
        },
        {
         "alignmentgroup": "True",
         "hovertemplate": "Paises Participantes en la Encuesta=%{y}<br>Sexo de los Participantes=%{x}<extra></extra>",
         "legendgroup": "Other",
         "marker": {
          "color": "#FECB52",
          "pattern": {
           "shape": ""
          }
         },
         "name": "Other",
         "offsetgroup": "Other",
         "orientation": "v",
         "showlegend": true,
         "textposition": "auto",
         "x": [
          "$0-999",
          "1,000-1,999",
          "10,000-14,999",
          "100,000-124,999",
          "125,000-149,999",
          "15,000-19,999",
          "150,000-199,999",
          "2,000-2,999",
          "20,000-24,999",
          "200,000-249,999",
          "25,000-29,999",
          "250,000-299,999",
          "3,000-3,999",
          "30,000-39,999",
          "300,000-500,000",
          "4,000-4,999",
          "40,000-49,999",
          "5,000-7,499",
          "50,000-59,999",
          "60,000-69,999",
          "7,500-9,999",
          "70,000-79,999",
          "80,000-89,999",
          "90,000-99,999",
          "> $500,000",
          "unanswered"
         ],
         "xaxis": "x",
         "y": [
          "Other",
          "Other",
          "Other",
          "Other",
          "Other",
          "Other",
          "Other",
          "Other",
          "Other",
          "Other",
          "Other",
          "Other",
          "Other",
          "Other",
          "Other",
          "Other",
          "Other",
          "Other",
          "Other",
          "Other",
          "Other",
          "Other",
          "Other",
          "Other",
          "Other",
          "Other"
         ],
         "yaxis": "y",
         "type": "bar"
        },
        {
         "alignmentgroup": "True",
         "hovertemplate": "Paises Participantes en la Encuesta=%{y}<br>Sexo de los Participantes=%{x}<extra></extra>",
         "legendgroup": "Pakistan",
         "marker": {
          "color": "#636efa",
          "pattern": {
           "shape": ""
          }
         },
         "name": "Pakistan",
         "offsetgroup": "Pakistan",
         "orientation": "v",
         "showlegend": true,
         "textposition": "auto",
         "x": [
          "$0-999",
          "1,000-1,999",
          "10,000-14,999",
          "15,000-19,999",
          "2,000-2,999",
          "20,000-24,999",
          "25,000-29,999",
          "3,000-3,999",
          "30,000-39,999",
          "4,000-4,999",
          "40,000-49,999",
          "5,000-7,499",
          "7,500-9,999",
          "80,000-89,999",
          "> $500,000",
          "unanswered"
         ],
         "xaxis": "x",
         "y": [
          "Pakistan",
          "Pakistan",
          "Pakistan",
          "Pakistan",
          "Pakistan",
          "Pakistan",
          "Pakistan",
          "Pakistan",
          "Pakistan",
          "Pakistan",
          "Pakistan",
          "Pakistan",
          "Pakistan",
          "Pakistan",
          "Pakistan",
          "Pakistan"
         ],
         "yaxis": "y",
         "type": "bar"
        },
        {
         "alignmentgroup": "True",
         "hovertemplate": "Paises Participantes en la Encuesta=%{y}<br>Sexo de los Participantes=%{x}<extra></extra>",
         "legendgroup": "Peru",
         "marker": {
          "color": "#EF553B",
          "pattern": {
           "shape": ""
          }
         },
         "name": "Peru",
         "offsetgroup": "Peru",
         "orientation": "v",
         "showlegend": true,
         "textposition": "auto",
         "x": [
          "$0-999",
          "1,000-1,999",
          "10,000-14,999",
          "125,000-149,999",
          "15,000-19,999",
          "2,000-2,999",
          "20,000-24,999",
          "25,000-29,999",
          "3,000-3,999",
          "30,000-39,999",
          "4,000-4,999",
          "40,000-49,999",
          "5,000-7,499",
          "50,000-59,999",
          "7,500-9,999",
          "70,000-79,999",
          "unanswered"
         ],
         "xaxis": "x",
         "y": [
          "Peru",
          "Peru",
          "Peru",
          "Peru",
          "Peru",
          "Peru",
          "Peru",
          "Peru",
          "Peru",
          "Peru",
          "Peru",
          "Peru",
          "Peru",
          "Peru",
          "Peru",
          "Peru",
          "Peru"
         ],
         "yaxis": "y",
         "type": "bar"
        },
        {
         "alignmentgroup": "True",
         "hovertemplate": "Paises Participantes en la Encuesta=%{y}<br>Sexo de los Participantes=%{x}<extra></extra>",
         "legendgroup": "Philippines",
         "marker": {
          "color": "#00cc96",
          "pattern": {
           "shape": ""
          }
         },
         "name": "Philippines",
         "offsetgroup": "Philippines",
         "orientation": "v",
         "showlegend": true,
         "textposition": "auto",
         "x": [
          "$0-999",
          "1,000-1,999",
          "10,000-14,999",
          "15,000-19,999",
          "150,000-199,999",
          "2,000-2,999",
          "20,000-24,999",
          "25,000-29,999",
          "3,000-3,999",
          "30,000-39,999",
          "40,000-49,999",
          "5,000-7,499",
          "50,000-59,999",
          "7,500-9,999",
          "unanswered"
         ],
         "xaxis": "x",
         "y": [
          "Philippines",
          "Philippines",
          "Philippines",
          "Philippines",
          "Philippines",
          "Philippines",
          "Philippines",
          "Philippines",
          "Philippines",
          "Philippines",
          "Philippines",
          "Philippines",
          "Philippines",
          "Philippines",
          "Philippines"
         ],
         "yaxis": "y",
         "type": "bar"
        },
        {
         "alignmentgroup": "True",
         "hovertemplate": "Paises Participantes en la Encuesta=%{y}<br>Sexo de los Participantes=%{x}<extra></extra>",
         "legendgroup": "Poland",
         "marker": {
          "color": "#ab63fa",
          "pattern": {
           "shape": ""
          }
         },
         "name": "Poland",
         "offsetgroup": "Poland",
         "orientation": "v",
         "showlegend": true,
         "textposition": "auto",
         "x": [
          "$0-999",
          "1,000-1,999",
          "10,000-14,999",
          "100,000-124,999",
          "15,000-19,999",
          "2,000-2,999",
          "20,000-24,999",
          "25,000-29,999",
          "3,000-3,999",
          "30,000-39,999",
          "40,000-49,999",
          "5,000-7,499",
          "50,000-59,999",
          "60,000-69,999",
          "7,500-9,999",
          "70,000-79,999",
          "80,000-89,999",
          "90,000-99,999",
          "unanswered"
         ],
         "xaxis": "x",
         "y": [
          "Poland",
          "Poland",
          "Poland",
          "Poland",
          "Poland",
          "Poland",
          "Poland",
          "Poland",
          "Poland",
          "Poland",
          "Poland",
          "Poland",
          "Poland",
          "Poland",
          "Poland",
          "Poland",
          "Poland",
          "Poland",
          "Poland"
         ],
         "yaxis": "y",
         "type": "bar"
        },
        {
         "alignmentgroup": "True",
         "hovertemplate": "Paises Participantes en la Encuesta=%{y}<br>Sexo de los Participantes=%{x}<extra></extra>",
         "legendgroup": "Portugal",
         "marker": {
          "color": "#FFA15A",
          "pattern": {
           "shape": ""
          }
         },
         "name": "Portugal",
         "offsetgroup": "Portugal",
         "orientation": "v",
         "showlegend": true,
         "textposition": "auto",
         "x": [
          "$0-999",
          "1,000-1,999",
          "10,000-14,999",
          "100,000-124,999",
          "15,000-19,999",
          "2,000-2,999",
          "20,000-24,999",
          "200,000-249,999",
          "25,000-29,999",
          "3,000-3,999",
          "30,000-39,999",
          "40,000-49,999",
          "5,000-7,499",
          "50,000-59,999",
          "60,000-69,999",
          "7,500-9,999",
          "80,000-89,999",
          "unanswered"
         ],
         "xaxis": "x",
         "y": [
          "Portugal",
          "Portugal",
          "Portugal",
          "Portugal",
          "Portugal",
          "Portugal",
          "Portugal",
          "Portugal",
          "Portugal",
          "Portugal",
          "Portugal",
          "Portugal",
          "Portugal",
          "Portugal",
          "Portugal",
          "Portugal",
          "Portugal",
          "Portugal"
         ],
         "yaxis": "y",
         "type": "bar"
        },
        {
         "alignmentgroup": "True",
         "hovertemplate": "Paises Participantes en la Encuesta=%{y}<br>Sexo de los Participantes=%{x}<extra></extra>",
         "legendgroup": "Republic of Korea",
         "marker": {
          "color": "#19d3f3",
          "pattern": {
           "shape": ""
          }
         },
         "name": "Republic of Korea",
         "offsetgroup": "Republic of Korea",
         "orientation": "v",
         "showlegend": true,
         "textposition": "auto",
         "x": [
          "$0-999",
          "10,000-14,999",
          "100,000-124,999",
          "15,000-19,999",
          "2,000-2,999",
          "20,000-24,999",
          "3,000-3,999",
          "30,000-39,999",
          "4,000-4,999",
          "40,000-49,999",
          "5,000-7,499",
          "50,000-59,999",
          "60,000-69,999",
          "7,500-9,999",
          "70,000-79,999",
          "80,000-89,999",
          "unanswered"
         ],
         "xaxis": "x",
         "y": [
          "Republic of Korea",
          "Republic of Korea",
          "Republic of Korea",
          "Republic of Korea",
          "Republic of Korea",
          "Republic of Korea",
          "Republic of Korea",
          "Republic of Korea",
          "Republic of Korea",
          "Republic of Korea",
          "Republic of Korea",
          "Republic of Korea",
          "Republic of Korea",
          "Republic of Korea",
          "Republic of Korea",
          "Republic of Korea",
          "Republic of Korea"
         ],
         "yaxis": "y",
         "type": "bar"
        },
        {
         "alignmentgroup": "True",
         "hovertemplate": "Paises Participantes en la Encuesta=%{y}<br>Sexo de los Participantes=%{x}<extra></extra>",
         "legendgroup": "Romania",
         "marker": {
          "color": "#FF6692",
          "pattern": {
           "shape": ""
          }
         },
         "name": "Romania",
         "offsetgroup": "Romania",
         "orientation": "v",
         "showlegend": true,
         "textposition": "auto",
         "x": [
          "$0-999",
          "1,000-1,999",
          "10,000-14,999",
          "15,000-19,999",
          "2,000-2,999",
          "20,000-24,999",
          "25,000-29,999",
          "30,000-39,999",
          "4,000-4,999",
          "40,000-49,999",
          "50,000-59,999",
          "60,000-69,999",
          "7,500-9,999",
          "90,000-99,999",
          "unanswered"
         ],
         "xaxis": "x",
         "y": [
          "Romania",
          "Romania",
          "Romania",
          "Romania",
          "Romania",
          "Romania",
          "Romania",
          "Romania",
          "Romania",
          "Romania",
          "Romania",
          "Romania",
          "Romania",
          "Romania",
          "Romania"
         ],
         "yaxis": "y",
         "type": "bar"
        },
        {
         "alignmentgroup": "True",
         "hovertemplate": "Paises Participantes en la Encuesta=%{y}<br>Sexo de los Participantes=%{x}<extra></extra>",
         "legendgroup": "Russia",
         "marker": {
          "color": "#B6E880",
          "pattern": {
           "shape": ""
          }
         },
         "name": "Russia",
         "offsetgroup": "Russia",
         "orientation": "v",
         "showlegend": true,
         "textposition": "auto",
         "x": [
          "$0-999",
          "1,000-1,999",
          "10,000-14,999",
          "100,000-124,999",
          "125,000-149,999",
          "15,000-19,999",
          "150,000-199,999",
          "2,000-2,999",
          "20,000-24,999",
          "25,000-29,999",
          "250,000-299,999",
          "3,000-3,999",
          "30,000-39,999",
          "300,000-500,000",
          "4,000-4,999",
          "40,000-49,999",
          "5,000-7,499",
          "50,000-59,999",
          "60,000-69,999",
          "7,500-9,999",
          "70,000-79,999",
          "80,000-89,999",
          "90,000-99,999",
          "unanswered"
         ],
         "xaxis": "x",
         "y": [
          "Russia",
          "Russia",
          "Russia",
          "Russia",
          "Russia",
          "Russia",
          "Russia",
          "Russia",
          "Russia",
          "Russia",
          "Russia",
          "Russia",
          "Russia",
          "Russia",
          "Russia",
          "Russia",
          "Russia",
          "Russia",
          "Russia",
          "Russia",
          "Russia",
          "Russia",
          "Russia",
          "Russia"
         ],
         "yaxis": "y",
         "type": "bar"
        },
        {
         "alignmentgroup": "True",
         "hovertemplate": "Paises Participantes en la Encuesta=%{y}<br>Sexo de los Participantes=%{x}<extra></extra>",
         "legendgroup": "Saudi Arabia",
         "marker": {
          "color": "#FF97FF",
          "pattern": {
           "shape": ""
          }
         },
         "name": "Saudi Arabia",
         "offsetgroup": "Saudi Arabia",
         "orientation": "v",
         "showlegend": true,
         "textposition": "auto",
         "x": [
          "$0-999",
          "1,000-1,999",
          "10,000-14,999",
          "100,000-124,999",
          "15,000-19,999",
          "150,000-199,999",
          "2,000-2,999",
          "25,000-29,999",
          "3,000-3,999",
          "30,000-39,999",
          "40,000-49,999",
          "5,000-7,499",
          "50,000-59,999",
          "60,000-69,999",
          "80,000-89,999",
          "90,000-99,999",
          "unanswered"
         ],
         "xaxis": "x",
         "y": [
          "Saudi Arabia",
          "Saudi Arabia",
          "Saudi Arabia",
          "Saudi Arabia",
          "Saudi Arabia",
          "Saudi Arabia",
          "Saudi Arabia",
          "Saudi Arabia",
          "Saudi Arabia",
          "Saudi Arabia",
          "Saudi Arabia",
          "Saudi Arabia",
          "Saudi Arabia",
          "Saudi Arabia",
          "Saudi Arabia",
          "Saudi Arabia",
          "Saudi Arabia"
         ],
         "yaxis": "y",
         "type": "bar"
        },
        {
         "alignmentgroup": "True",
         "hovertemplate": "Paises Participantes en la Encuesta=%{y}<br>Sexo de los Participantes=%{x}<extra></extra>",
         "legendgroup": "Singapore",
         "marker": {
          "color": "#FECB52",
          "pattern": {
           "shape": ""
          }
         },
         "name": "Singapore",
         "offsetgroup": "Singapore",
         "orientation": "v",
         "showlegend": true,
         "textposition": "auto",
         "x": [
          "$0-999",
          "1,000-1,999",
          "10,000-14,999",
          "100,000-124,999",
          "125,000-149,999",
          "15,000-19,999",
          "150,000-199,999",
          "2,000-2,999",
          "200,000-249,999",
          "25,000-29,999",
          "3,000-3,999",
          "30,000-39,999",
          "4,000-4,999",
          "40,000-49,999",
          "5,000-7,499",
          "50,000-59,999",
          "60,000-69,999",
          "7,500-9,999",
          "70,000-79,999",
          "80,000-89,999",
          "90,000-99,999",
          "unanswered"
         ],
         "xaxis": "x",
         "y": [
          "Singapore",
          "Singapore",
          "Singapore",
          "Singapore",
          "Singapore",
          "Singapore",
          "Singapore",
          "Singapore",
          "Singapore",
          "Singapore",
          "Singapore",
          "Singapore",
          "Singapore",
          "Singapore",
          "Singapore",
          "Singapore",
          "Singapore",
          "Singapore",
          "Singapore",
          "Singapore",
          "Singapore",
          "Singapore"
         ],
         "yaxis": "y",
         "type": "bar"
        },
        {
         "alignmentgroup": "True",
         "hovertemplate": "Paises Participantes en la Encuesta=%{y}<br>Sexo de los Participantes=%{x}<extra></extra>",
         "legendgroup": "South Africa",
         "marker": {
          "color": "#636efa",
          "pattern": {
           "shape": ""
          }
         },
         "name": "South Africa",
         "offsetgroup": "South Africa",
         "orientation": "v",
         "showlegend": true,
         "textposition": "auto",
         "x": [
          "$0-999",
          "1,000-1,999",
          "10,000-14,999",
          "100,000-124,999",
          "15,000-19,999",
          "150,000-199,999",
          "2,000-2,999",
          "20,000-24,999",
          "200,000-249,999",
          "25,000-29,999",
          "3,000-3,999",
          "30,000-39,999",
          "40,000-49,999",
          "50,000-59,999",
          "60,000-69,999",
          "7,500-9,999",
          "70,000-79,999",
          "80,000-89,999",
          "90,000-99,999",
          "unanswered"
         ],
         "xaxis": "x",
         "y": [
          "South Africa",
          "South Africa",
          "South Africa",
          "South Africa",
          "South Africa",
          "South Africa",
          "South Africa",
          "South Africa",
          "South Africa",
          "South Africa",
          "South Africa",
          "South Africa",
          "South Africa",
          "South Africa",
          "South Africa",
          "South Africa",
          "South Africa",
          "South Africa",
          "South Africa",
          "South Africa"
         ],
         "yaxis": "y",
         "type": "bar"
        },
        {
         "alignmentgroup": "True",
         "hovertemplate": "Paises Participantes en la Encuesta=%{y}<br>Sexo de los Participantes=%{x}<extra></extra>",
         "legendgroup": "South Korea",
         "marker": {
          "color": "#EF553B",
          "pattern": {
           "shape": ""
          }
         },
         "name": "South Korea",
         "offsetgroup": "South Korea",
         "orientation": "v",
         "showlegend": true,
         "textposition": "auto",
         "x": [
          "$0-999",
          "1,000-1,999",
          "10,000-14,999",
          "100,000-124,999",
          "15,000-19,999",
          "2,000-2,999",
          "25,000-29,999",
          "3,000-3,999",
          "30,000-39,999",
          "300,000-500,000",
          "4,000-4,999",
          "40,000-49,999",
          "5,000-7,499",
          "50,000-59,999",
          "60,000-69,999",
          "7,500-9,999",
          "70,000-79,999",
          "80,000-89,999",
          "> $500,000",
          "unanswered"
         ],
         "xaxis": "x",
         "y": [
          "South Korea",
          "South Korea",
          "South Korea",
          "South Korea",
          "South Korea",
          "South Korea",
          "South Korea",
          "South Korea",
          "South Korea",
          "South Korea",
          "South Korea",
          "South Korea",
          "South Korea",
          "South Korea",
          "South Korea",
          "South Korea",
          "South Korea",
          "South Korea",
          "South Korea",
          "South Korea"
         ],
         "yaxis": "y",
         "type": "bar"
        },
        {
         "alignmentgroup": "True",
         "hovertemplate": "Paises Participantes en la Encuesta=%{y}<br>Sexo de los Participantes=%{x}<extra></extra>",
         "legendgroup": "Spain",
         "marker": {
          "color": "#00cc96",
          "pattern": {
           "shape": ""
          }
         },
         "name": "Spain",
         "offsetgroup": "Spain",
         "orientation": "v",
         "showlegend": true,
         "textposition": "auto",
         "x": [
          "$0-999",
          "1,000-1,999",
          "10,000-14,999",
          "100,000-124,999",
          "125,000-149,999",
          "15,000-19,999",
          "150,000-199,999",
          "2,000-2,999",
          "20,000-24,999",
          "25,000-29,999",
          "3,000-3,999",
          "30,000-39,999",
          "4,000-4,999",
          "40,000-49,999",
          "50,000-59,999",
          "60,000-69,999",
          "7,500-9,999",
          "70,000-79,999",
          "80,000-89,999",
          "90,000-99,999",
          "unanswered"
         ],
         "xaxis": "x",
         "y": [
          "Spain",
          "Spain",
          "Spain",
          "Spain",
          "Spain",
          "Spain",
          "Spain",
          "Spain",
          "Spain",
          "Spain",
          "Spain",
          "Spain",
          "Spain",
          "Spain",
          "Spain",
          "Spain",
          "Spain",
          "Spain",
          "Spain",
          "Spain",
          "Spain"
         ],
         "yaxis": "y",
         "type": "bar"
        },
        {
         "alignmentgroup": "True",
         "hovertemplate": "Paises Participantes en la Encuesta=%{y}<br>Sexo de los Participantes=%{x}<extra></extra>",
         "legendgroup": "Sri Lanka",
         "marker": {
          "color": "#ab63fa",
          "pattern": {
           "shape": ""
          }
         },
         "name": "Sri Lanka",
         "offsetgroup": "Sri Lanka",
         "orientation": "v",
         "showlegend": true,
         "textposition": "auto",
         "x": [
          "$0-999",
          "1,000-1,999",
          "10,000-14,999",
          "15,000-19,999",
          "2,000-2,999",
          "20,000-24,999",
          "3,000-3,999",
          "30,000-39,999",
          "4,000-4,999",
          "40,000-49,999",
          "5,000-7,499",
          "50,000-59,999",
          "7,500-9,999",
          "unanswered"
         ],
         "xaxis": "x",
         "y": [
          "Sri Lanka",
          "Sri Lanka",
          "Sri Lanka",
          "Sri Lanka",
          "Sri Lanka",
          "Sri Lanka",
          "Sri Lanka",
          "Sri Lanka",
          "Sri Lanka",
          "Sri Lanka",
          "Sri Lanka",
          "Sri Lanka",
          "Sri Lanka",
          "Sri Lanka"
         ],
         "yaxis": "y",
         "type": "bar"
        },
        {
         "alignmentgroup": "True",
         "hovertemplate": "Paises Participantes en la Encuesta=%{y}<br>Sexo de los Participantes=%{x}<extra></extra>",
         "legendgroup": "Sweden",
         "marker": {
          "color": "#FFA15A",
          "pattern": {
           "shape": ""
          }
         },
         "name": "Sweden",
         "offsetgroup": "Sweden",
         "orientation": "v",
         "showlegend": true,
         "textposition": "auto",
         "x": [
          "$0-999",
          "10,000-14,999",
          "100,000-124,999",
          "125,000-149,999",
          "15,000-19,999",
          "20,000-24,999",
          "25,000-29,999",
          "30,000-39,999",
          "4,000-4,999",
          "40,000-49,999",
          "5,000-7,499",
          "50,000-59,999",
          "60,000-69,999",
          "70,000-79,999",
          "80,000-89,999",
          "90,000-99,999",
          "unanswered"
         ],
         "xaxis": "x",
         "y": [
          "Sweden",
          "Sweden",
          "Sweden",
          "Sweden",
          "Sweden",
          "Sweden",
          "Sweden",
          "Sweden",
          "Sweden",
          "Sweden",
          "Sweden",
          "Sweden",
          "Sweden",
          "Sweden",
          "Sweden",
          "Sweden",
          "Sweden"
         ],
         "yaxis": "y",
         "type": "bar"
        },
        {
         "alignmentgroup": "True",
         "hovertemplate": "Paises Participantes en la Encuesta=%{y}<br>Sexo de los Participantes=%{x}<extra></extra>",
         "legendgroup": "Switzerland",
         "marker": {
          "color": "#19d3f3",
          "pattern": {
           "shape": ""
          }
         },
         "name": "Switzerland",
         "offsetgroup": "Switzerland",
         "orientation": "v",
         "showlegend": true,
         "textposition": "auto",
         "x": [
          "10,000-14,999",
          "100,000-124,999",
          "125,000-149,999",
          "150,000-199,999",
          "2,000-2,999",
          "200,000-249,999",
          "25,000-29,999",
          "250,000-299,999",
          "30,000-39,999",
          "40,000-49,999",
          "50,000-59,999",
          "60,000-69,999",
          "70,000-79,999",
          "80,000-89,999",
          "90,000-99,999",
          "unanswered"
         ],
         "xaxis": "x",
         "y": [
          "Switzerland",
          "Switzerland",
          "Switzerland",
          "Switzerland",
          "Switzerland",
          "Switzerland",
          "Switzerland",
          "Switzerland",
          "Switzerland",
          "Switzerland",
          "Switzerland",
          "Switzerland",
          "Switzerland",
          "Switzerland",
          "Switzerland",
          "Switzerland"
         ],
         "yaxis": "y",
         "type": "bar"
        },
        {
         "alignmentgroup": "True",
         "hovertemplate": "Paises Participantes en la Encuesta=%{y}<br>Sexo de los Participantes=%{x}<extra></extra>",
         "legendgroup": "Taiwan",
         "marker": {
          "color": "#FF6692",
          "pattern": {
           "shape": ""
          }
         },
         "name": "Taiwan",
         "offsetgroup": "Taiwan",
         "orientation": "v",
         "showlegend": true,
         "textposition": "auto",
         "x": [
          "$0-999",
          "1,000-1,999",
          "10,000-14,999",
          "100,000-124,999",
          "15,000-19,999",
          "2,000-2,999",
          "20,000-24,999",
          "25,000-29,999",
          "3,000-3,999",
          "30,000-39,999",
          "4,000-4,999",
          "40,000-49,999",
          "5,000-7,499",
          "50,000-59,999",
          "60,000-69,999",
          "7,500-9,999",
          "70,000-79,999",
          "80,000-89,999",
          "unanswered"
         ],
         "xaxis": "x",
         "y": [
          "Taiwan",
          "Taiwan",
          "Taiwan",
          "Taiwan",
          "Taiwan",
          "Taiwan",
          "Taiwan",
          "Taiwan",
          "Taiwan",
          "Taiwan",
          "Taiwan",
          "Taiwan",
          "Taiwan",
          "Taiwan",
          "Taiwan",
          "Taiwan",
          "Taiwan",
          "Taiwan",
          "Taiwan"
         ],
         "yaxis": "y",
         "type": "bar"
        },
        {
         "alignmentgroup": "True",
         "hovertemplate": "Paises Participantes en la Encuesta=%{y}<br>Sexo de los Participantes=%{x}<extra></extra>",
         "legendgroup": "Thailand",
         "marker": {
          "color": "#B6E880",
          "pattern": {
           "shape": ""
          }
         },
         "name": "Thailand",
         "offsetgroup": "Thailand",
         "orientation": "v",
         "showlegend": true,
         "textposition": "auto",
         "x": [
          "$0-999",
          "1,000-1,999",
          "10,000-14,999",
          "100,000-124,999",
          "125,000-149,999",
          "15,000-19,999",
          "150,000-199,999",
          "2,000-2,999",
          "20,000-24,999",
          "25,000-29,999",
          "3,000-3,999",
          "30,000-39,999",
          "4,000-4,999",
          "40,000-49,999",
          "5,000-7,499",
          "60,000-69,999",
          "70,000-79,999",
          "> $500,000",
          "unanswered"
         ],
         "xaxis": "x",
         "y": [
          "Thailand",
          "Thailand",
          "Thailand",
          "Thailand",
          "Thailand",
          "Thailand",
          "Thailand",
          "Thailand",
          "Thailand",
          "Thailand",
          "Thailand",
          "Thailand",
          "Thailand",
          "Thailand",
          "Thailand",
          "Thailand",
          "Thailand",
          "Thailand",
          "Thailand"
         ],
         "yaxis": "y",
         "type": "bar"
        },
        {
         "alignmentgroup": "True",
         "hovertemplate": "Paises Participantes en la Encuesta=%{y}<br>Sexo de los Participantes=%{x}<extra></extra>",
         "legendgroup": "Tunisia",
         "marker": {
          "color": "#FF97FF",
          "pattern": {
           "shape": ""
          }
         },
         "name": "Tunisia",
         "offsetgroup": "Tunisia",
         "orientation": "v",
         "showlegend": true,
         "textposition": "auto",
         "x": [
          "$0-999",
          "1,000-1,999",
          "10,000-14,999",
          "15,000-19,999",
          "2,000-2,999",
          "3,000-3,999",
          "30,000-39,999",
          "4,000-4,999",
          "40,000-49,999",
          "5,000-7,499",
          "50,000-59,999",
          "7,500-9,999",
          "80,000-89,999",
          "> $500,000",
          "unanswered"
         ],
         "xaxis": "x",
         "y": [
          "Tunisia",
          "Tunisia",
          "Tunisia",
          "Tunisia",
          "Tunisia",
          "Tunisia",
          "Tunisia",
          "Tunisia",
          "Tunisia",
          "Tunisia",
          "Tunisia",
          "Tunisia",
          "Tunisia",
          "Tunisia",
          "Tunisia"
         ],
         "yaxis": "y",
         "type": "bar"
        },
        {
         "alignmentgroup": "True",
         "hovertemplate": "Paises Participantes en la Encuesta=%{y}<br>Sexo de los Participantes=%{x}<extra></extra>",
         "legendgroup": "Turkey",
         "marker": {
          "color": "#FECB52",
          "pattern": {
           "shape": ""
          }
         },
         "name": "Turkey",
         "offsetgroup": "Turkey",
         "orientation": "v",
         "showlegend": true,
         "textposition": "auto",
         "x": [
          "$0-999",
          "1,000-1,999",
          "10,000-14,999",
          "100,000-124,999",
          "15,000-19,999",
          "2,000-2,999",
          "20,000-24,999",
          "25,000-29,999",
          "3,000-3,999",
          "30,000-39,999",
          "4,000-4,999",
          "40,000-49,999",
          "5,000-7,499",
          "60,000-69,999",
          "7,500-9,999",
          "80,000-89,999",
          "90,000-99,999",
          "> $500,000",
          "unanswered"
         ],
         "xaxis": "x",
         "y": [
          "Turkey",
          "Turkey",
          "Turkey",
          "Turkey",
          "Turkey",
          "Turkey",
          "Turkey",
          "Turkey",
          "Turkey",
          "Turkey",
          "Turkey",
          "Turkey",
          "Turkey",
          "Turkey",
          "Turkey",
          "Turkey",
          "Turkey",
          "Turkey",
          "Turkey"
         ],
         "yaxis": "y",
         "type": "bar"
        },
        {
         "alignmentgroup": "True",
         "hovertemplate": "Paises Participantes en la Encuesta=%{y}<br>Sexo de los Participantes=%{x}<extra></extra>",
         "legendgroup": "Ukraine",
         "marker": {
          "color": "#636efa",
          "pattern": {
           "shape": ""
          }
         },
         "name": "Ukraine",
         "offsetgroup": "Ukraine",
         "orientation": "v",
         "showlegend": true,
         "textposition": "auto",
         "x": [
          "$0-999",
          "1,000-1,999",
          "10,000-14,999",
          "15,000-19,999",
          "2,000-2,999",
          "20,000-24,999",
          "25,000-29,999",
          "3,000-3,999",
          "30,000-39,999",
          "4,000-4,999",
          "40,000-49,999",
          "5,000-7,499",
          "50,000-59,999",
          "60,000-69,999",
          "7,500-9,999",
          "70,000-79,999",
          "80,000-89,999",
          "unanswered"
         ],
         "xaxis": "x",
         "y": [
          "Ukraine",
          "Ukraine",
          "Ukraine",
          "Ukraine",
          "Ukraine",
          "Ukraine",
          "Ukraine",
          "Ukraine",
          "Ukraine",
          "Ukraine",
          "Ukraine",
          "Ukraine",
          "Ukraine",
          "Ukraine",
          "Ukraine",
          "Ukraine",
          "Ukraine",
          "Ukraine"
         ],
         "yaxis": "y",
         "type": "bar"
        },
        {
         "alignmentgroup": "True",
         "hovertemplate": "Paises Participantes en la Encuesta=%{y}<br>Sexo de los Participantes=%{x}<extra></extra>",
         "legendgroup": "United Arab Emirates",
         "marker": {
          "color": "#EF553B",
          "pattern": {
           "shape": ""
          }
         },
         "name": "United Arab Emirates",
         "offsetgroup": "United Arab Emirates",
         "orientation": "v",
         "showlegend": true,
         "textposition": "auto",
         "x": [
          "$0-999",
          "1,000-1,999",
          "10,000-14,999",
          "100,000-124,999",
          "125,000-149,999",
          "15,000-19,999",
          "150,000-199,999",
          "25,000-29,999",
          "3,000-3,999",
          "4,000-4,999",
          "5,000-7,499",
          "50,000-59,999",
          "60,000-69,999",
          "7,500-9,999",
          "70,000-79,999",
          "80,000-89,999",
          "90,000-99,999",
          "unanswered"
         ],
         "xaxis": "x",
         "y": [
          "United Arab Emirates",
          "United Arab Emirates",
          "United Arab Emirates",
          "United Arab Emirates",
          "United Arab Emirates",
          "United Arab Emirates",
          "United Arab Emirates",
          "United Arab Emirates",
          "United Arab Emirates",
          "United Arab Emirates",
          "United Arab Emirates",
          "United Arab Emirates",
          "United Arab Emirates",
          "United Arab Emirates",
          "United Arab Emirates",
          "United Arab Emirates",
          "United Arab Emirates",
          "United Arab Emirates"
         ],
         "yaxis": "y",
         "type": "bar"
        },
        {
         "alignmentgroup": "True",
         "hovertemplate": "Paises Participantes en la Encuesta=%{y}<br>Sexo de los Participantes=%{x}<extra></extra>",
         "legendgroup": "United Kingdom of Great Britain and Northern Ireland",
         "marker": {
          "color": "#00cc96",
          "pattern": {
           "shape": ""
          }
         },
         "name": "United Kingdom of Great Britain and Northern Ireland",
         "offsetgroup": "United Kingdom of Great Britain and Northern Ireland",
         "orientation": "v",
         "showlegend": true,
         "textposition": "auto",
         "x": [
          "$0-999",
          "1,000-1,999",
          "10,000-14,999",
          "100,000-124,999",
          "125,000-149,999",
          "15,000-19,999",
          "150,000-199,999",
          "2,000-2,999",
          "20,000-24,999",
          "200,000-249,999",
          "25,000-29,999",
          "250,000-299,999",
          "3,000-3,999",
          "30,000-39,999",
          "300,000-500,000",
          "40,000-49,999",
          "5,000-7,499",
          "50,000-59,999",
          "60,000-69,999",
          "7,500-9,999",
          "70,000-79,999",
          "80,000-89,999",
          "90,000-99,999",
          "> $500,000",
          "unanswered"
         ],
         "xaxis": "x",
         "y": [
          "United Kingdom of Great Britain and Northern Ireland",
          "United Kingdom of Great Britain and Northern Ireland",
          "United Kingdom of Great Britain and Northern Ireland",
          "United Kingdom of Great Britain and Northern Ireland",
          "United Kingdom of Great Britain and Northern Ireland",
          "United Kingdom of Great Britain and Northern Ireland",
          "United Kingdom of Great Britain and Northern Ireland",
          "United Kingdom of Great Britain and Northern Ireland",
          "United Kingdom of Great Britain and Northern Ireland",
          "United Kingdom of Great Britain and Northern Ireland",
          "United Kingdom of Great Britain and Northern Ireland",
          "United Kingdom of Great Britain and Northern Ireland",
          "United Kingdom of Great Britain and Northern Ireland",
          "United Kingdom of Great Britain and Northern Ireland",
          "United Kingdom of Great Britain and Northern Ireland",
          "United Kingdom of Great Britain and Northern Ireland",
          "United Kingdom of Great Britain and Northern Ireland",
          "United Kingdom of Great Britain and Northern Ireland",
          "United Kingdom of Great Britain and Northern Ireland",
          "United Kingdom of Great Britain and Northern Ireland",
          "United Kingdom of Great Britain and Northern Ireland",
          "United Kingdom of Great Britain and Northern Ireland",
          "United Kingdom of Great Britain and Northern Ireland",
          "United Kingdom of Great Britain and Northern Ireland",
          "United Kingdom of Great Britain and Northern Ireland"
         ],
         "yaxis": "y",
         "type": "bar"
        },
        {
         "alignmentgroup": "True",
         "hovertemplate": "Paises Participantes en la Encuesta=%{y}<br>Sexo de los Participantes=%{x}<extra></extra>",
         "legendgroup": "United States of America",
         "marker": {
          "color": "#ab63fa",
          "pattern": {
           "shape": ""
          }
         },
         "name": "United States of America",
         "offsetgroup": "United States of America",
         "orientation": "v",
         "showlegend": true,
         "textposition": "auto",
         "x": [
          "$0-999",
          "1,000-1,999",
          "10,000-14,999",
          "100,000-124,999",
          "125,000-149,999",
          "15,000-19,999",
          "150,000-199,999",
          "2,000-2,999",
          "20,000-24,999",
          "200,000-249,999",
          "25,000-29,999",
          "250,000-299,999",
          "3,000-3,999",
          "30,000-39,999",
          "300,000-500,000",
          "4,000-4,999",
          "40,000-49,999",
          "5,000-7,499",
          "50,000-59,999",
          "60,000-69,999",
          "7,500-9,999",
          "70,000-79,999",
          "80,000-89,999",
          "90,000-99,999",
          "> $500,000",
          "unanswered"
         ],
         "xaxis": "x",
         "y": [
          "United States of America",
          "United States of America",
          "United States of America",
          "United States of America",
          "United States of America",
          "United States of America",
          "United States of America",
          "United States of America",
          "United States of America",
          "United States of America",
          "United States of America",
          "United States of America",
          "United States of America",
          "United States of America",
          "United States of America",
          "United States of America",
          "United States of America",
          "United States of America",
          "United States of America",
          "United States of America",
          "United States of America",
          "United States of America",
          "United States of America",
          "United States of America",
          "United States of America",
          "United States of America"
         ],
         "yaxis": "y",
         "type": "bar"
        },
        {
         "alignmentgroup": "True",
         "hovertemplate": "Paises Participantes en la Encuesta=%{y}<br>Sexo de los Participantes=%{x}<extra></extra>",
         "legendgroup": "Viet Nam",
         "marker": {
          "color": "#FFA15A",
          "pattern": {
           "shape": ""
          }
         },
         "name": "Viet Nam",
         "offsetgroup": "Viet Nam",
         "orientation": "v",
         "showlegend": true,
         "textposition": "auto",
         "x": [
          "$0-999",
          "1,000-1,999",
          "10,000-14,999",
          "125,000-149,999",
          "15,000-19,999",
          "2,000-2,999",
          "20,000-24,999",
          "25,000-29,999",
          "30,000-39,999",
          "4,000-4,999",
          "5,000-7,499",
          "50,000-59,999",
          "7,500-9,999",
          "70,000-79,999",
          "unanswered"
         ],
         "xaxis": "x",
         "y": [
          "Viet Nam",
          "Viet Nam",
          "Viet Nam",
          "Viet Nam",
          "Viet Nam",
          "Viet Nam",
          "Viet Nam",
          "Viet Nam",
          "Viet Nam",
          "Viet Nam",
          "Viet Nam",
          "Viet Nam",
          "Viet Nam",
          "Viet Nam",
          "Viet Nam"
         ],
         "yaxis": "y",
         "type": "bar"
        }
       ],
       "layout": {
        "template": {
         "data": {
          "bar": [
           {
            "error_x": {
             "color": "#2a3f5f"
            },
            "error_y": {
             "color": "#2a3f5f"
            },
            "marker": {
             "line": {
              "color": "#E5ECF6",
              "width": 0.5
             },
             "pattern": {
              "fillmode": "overlay",
              "size": 10,
              "solidity": 0.2
             }
            },
            "type": "bar"
           }
          ],
          "barpolar": [
           {
            "marker": {
             "line": {
              "color": "#E5ECF6",
              "width": 0.5
             },
             "pattern": {
              "fillmode": "overlay",
              "size": 10,
              "solidity": 0.2
             }
            },
            "type": "barpolar"
           }
          ],
          "carpet": [
           {
            "aaxis": {
             "endlinecolor": "#2a3f5f",
             "gridcolor": "white",
             "linecolor": "white",
             "minorgridcolor": "white",
             "startlinecolor": "#2a3f5f"
            },
            "baxis": {
             "endlinecolor": "#2a3f5f",
             "gridcolor": "white",
             "linecolor": "white",
             "minorgridcolor": "white",
             "startlinecolor": "#2a3f5f"
            },
            "type": "carpet"
           }
          ],
          "choropleth": [
           {
            "colorbar": {
             "outlinewidth": 0,
             "ticks": ""
            },
            "type": "choropleth"
           }
          ],
          "contour": [
           {
            "colorbar": {
             "outlinewidth": 0,
             "ticks": ""
            },
            "colorscale": [
             [
              0.0,
              "#0d0887"
             ],
             [
              0.1111111111111111,
              "#46039f"
             ],
             [
              0.2222222222222222,
              "#7201a8"
             ],
             [
              0.3333333333333333,
              "#9c179e"
             ],
             [
              0.4444444444444444,
              "#bd3786"
             ],
             [
              0.5555555555555556,
              "#d8576b"
             ],
             [
              0.6666666666666666,
              "#ed7953"
             ],
             [
              0.7777777777777778,
              "#fb9f3a"
             ],
             [
              0.8888888888888888,
              "#fdca26"
             ],
             [
              1.0,
              "#f0f921"
             ]
            ],
            "type": "contour"
           }
          ],
          "contourcarpet": [
           {
            "colorbar": {
             "outlinewidth": 0,
             "ticks": ""
            },
            "type": "contourcarpet"
           }
          ],
          "heatmap": [
           {
            "colorbar": {
             "outlinewidth": 0,
             "ticks": ""
            },
            "colorscale": [
             [
              0.0,
              "#0d0887"
             ],
             [
              0.1111111111111111,
              "#46039f"
             ],
             [
              0.2222222222222222,
              "#7201a8"
             ],
             [
              0.3333333333333333,
              "#9c179e"
             ],
             [
              0.4444444444444444,
              "#bd3786"
             ],
             [
              0.5555555555555556,
              "#d8576b"
             ],
             [
              0.6666666666666666,
              "#ed7953"
             ],
             [
              0.7777777777777778,
              "#fb9f3a"
             ],
             [
              0.8888888888888888,
              "#fdca26"
             ],
             [
              1.0,
              "#f0f921"
             ]
            ],
            "type": "heatmap"
           }
          ],
          "heatmapgl": [
           {
            "colorbar": {
             "outlinewidth": 0,
             "ticks": ""
            },
            "colorscale": [
             [
              0.0,
              "#0d0887"
             ],
             [
              0.1111111111111111,
              "#46039f"
             ],
             [
              0.2222222222222222,
              "#7201a8"
             ],
             [
              0.3333333333333333,
              "#9c179e"
             ],
             [
              0.4444444444444444,
              "#bd3786"
             ],
             [
              0.5555555555555556,
              "#d8576b"
             ],
             [
              0.6666666666666666,
              "#ed7953"
             ],
             [
              0.7777777777777778,
              "#fb9f3a"
             ],
             [
              0.8888888888888888,
              "#fdca26"
             ],
             [
              1.0,
              "#f0f921"
             ]
            ],
            "type": "heatmapgl"
           }
          ],
          "histogram": [
           {
            "marker": {
             "pattern": {
              "fillmode": "overlay",
              "size": 10,
              "solidity": 0.2
             }
            },
            "type": "histogram"
           }
          ],
          "histogram2d": [
           {
            "colorbar": {
             "outlinewidth": 0,
             "ticks": ""
            },
            "colorscale": [
             [
              0.0,
              "#0d0887"
             ],
             [
              0.1111111111111111,
              "#46039f"
             ],
             [
              0.2222222222222222,
              "#7201a8"
             ],
             [
              0.3333333333333333,
              "#9c179e"
             ],
             [
              0.4444444444444444,
              "#bd3786"
             ],
             [
              0.5555555555555556,
              "#d8576b"
             ],
             [
              0.6666666666666666,
              "#ed7953"
             ],
             [
              0.7777777777777778,
              "#fb9f3a"
             ],
             [
              0.8888888888888888,
              "#fdca26"
             ],
             [
              1.0,
              "#f0f921"
             ]
            ],
            "type": "histogram2d"
           }
          ],
          "histogram2dcontour": [
           {
            "colorbar": {
             "outlinewidth": 0,
             "ticks": ""
            },
            "colorscale": [
             [
              0.0,
              "#0d0887"
             ],
             [
              0.1111111111111111,
              "#46039f"
             ],
             [
              0.2222222222222222,
              "#7201a8"
             ],
             [
              0.3333333333333333,
              "#9c179e"
             ],
             [
              0.4444444444444444,
              "#bd3786"
             ],
             [
              0.5555555555555556,
              "#d8576b"
             ],
             [
              0.6666666666666666,
              "#ed7953"
             ],
             [
              0.7777777777777778,
              "#fb9f3a"
             ],
             [
              0.8888888888888888,
              "#fdca26"
             ],
             [
              1.0,
              "#f0f921"
             ]
            ],
            "type": "histogram2dcontour"
           }
          ],
          "mesh3d": [
           {
            "colorbar": {
             "outlinewidth": 0,
             "ticks": ""
            },
            "type": "mesh3d"
           }
          ],
          "parcoords": [
           {
            "line": {
             "colorbar": {
              "outlinewidth": 0,
              "ticks": ""
             }
            },
            "type": "parcoords"
           }
          ],
          "pie": [
           {
            "automargin": true,
            "type": "pie"
           }
          ],
          "scatter": [
           {
            "marker": {
             "colorbar": {
              "outlinewidth": 0,
              "ticks": ""
             }
            },
            "type": "scatter"
           }
          ],
          "scatter3d": [
           {
            "line": {
             "colorbar": {
              "outlinewidth": 0,
              "ticks": ""
             }
            },
            "marker": {
             "colorbar": {
              "outlinewidth": 0,
              "ticks": ""
             }
            },
            "type": "scatter3d"
           }
          ],
          "scattercarpet": [
           {
            "marker": {
             "colorbar": {
              "outlinewidth": 0,
              "ticks": ""
             }
            },
            "type": "scattercarpet"
           }
          ],
          "scattergeo": [
           {
            "marker": {
             "colorbar": {
              "outlinewidth": 0,
              "ticks": ""
             }
            },
            "type": "scattergeo"
           }
          ],
          "scattergl": [
           {
            "marker": {
             "colorbar": {
              "outlinewidth": 0,
              "ticks": ""
             }
            },
            "type": "scattergl"
           }
          ],
          "scattermapbox": [
           {
            "marker": {
             "colorbar": {
              "outlinewidth": 0,
              "ticks": ""
             }
            },
            "type": "scattermapbox"
           }
          ],
          "scatterpolar": [
           {
            "marker": {
             "colorbar": {
              "outlinewidth": 0,
              "ticks": ""
             }
            },
            "type": "scatterpolar"
           }
          ],
          "scatterpolargl": [
           {
            "marker": {
             "colorbar": {
              "outlinewidth": 0,
              "ticks": ""
             }
            },
            "type": "scatterpolargl"
           }
          ],
          "scatterternary": [
           {
            "marker": {
             "colorbar": {
              "outlinewidth": 0,
              "ticks": ""
             }
            },
            "type": "scatterternary"
           }
          ],
          "surface": [
           {
            "colorbar": {
             "outlinewidth": 0,
             "ticks": ""
            },
            "colorscale": [
             [
              0.0,
              "#0d0887"
             ],
             [
              0.1111111111111111,
              "#46039f"
             ],
             [
              0.2222222222222222,
              "#7201a8"
             ],
             [
              0.3333333333333333,
              "#9c179e"
             ],
             [
              0.4444444444444444,
              "#bd3786"
             ],
             [
              0.5555555555555556,
              "#d8576b"
             ],
             [
              0.6666666666666666,
              "#ed7953"
             ],
             [
              0.7777777777777778,
              "#fb9f3a"
             ],
             [
              0.8888888888888888,
              "#fdca26"
             ],
             [
              1.0,
              "#f0f921"
             ]
            ],
            "type": "surface"
           }
          ],
          "table": [
           {
            "cells": {
             "fill": {
              "color": "#EBF0F8"
             },
             "line": {
              "color": "white"
             }
            },
            "header": {
             "fill": {
              "color": "#C8D4E3"
             },
             "line": {
              "color": "white"
             }
            },
            "type": "table"
           }
          ]
         },
         "layout": {
          "annotationdefaults": {
           "arrowcolor": "#2a3f5f",
           "arrowhead": 0,
           "arrowwidth": 1
          },
          "autotypenumbers": "strict",
          "coloraxis": {
           "colorbar": {
            "outlinewidth": 0,
            "ticks": ""
           }
          },
          "colorscale": {
           "diverging": [
            [
             0,
             "#8e0152"
            ],
            [
             0.1,
             "#c51b7d"
            ],
            [
             0.2,
             "#de77ae"
            ],
            [
             0.3,
             "#f1b6da"
            ],
            [
             0.4,
             "#fde0ef"
            ],
            [
             0.5,
             "#f7f7f7"
            ],
            [
             0.6,
             "#e6f5d0"
            ],
            [
             0.7,
             "#b8e186"
            ],
            [
             0.8,
             "#7fbc41"
            ],
            [
             0.9,
             "#4d9221"
            ],
            [
             1,
             "#276419"
            ]
           ],
           "sequential": [
            [
             0.0,
             "#0d0887"
            ],
            [
             0.1111111111111111,
             "#46039f"
            ],
            [
             0.2222222222222222,
             "#7201a8"
            ],
            [
             0.3333333333333333,
             "#9c179e"
            ],
            [
             0.4444444444444444,
             "#bd3786"
            ],
            [
             0.5555555555555556,
             "#d8576b"
            ],
            [
             0.6666666666666666,
             "#ed7953"
            ],
            [
             0.7777777777777778,
             "#fb9f3a"
            ],
            [
             0.8888888888888888,
             "#fdca26"
            ],
            [
             1.0,
             "#f0f921"
            ]
           ],
           "sequentialminus": [
            [
             0.0,
             "#0d0887"
            ],
            [
             0.1111111111111111,
             "#46039f"
            ],
            [
             0.2222222222222222,
             "#7201a8"
            ],
            [
             0.3333333333333333,
             "#9c179e"
            ],
            [
             0.4444444444444444,
             "#bd3786"
            ],
            [
             0.5555555555555556,
             "#d8576b"
            ],
            [
             0.6666666666666666,
             "#ed7953"
            ],
            [
             0.7777777777777778,
             "#fb9f3a"
            ],
            [
             0.8888888888888888,
             "#fdca26"
            ],
            [
             1.0,
             "#f0f921"
            ]
           ]
          },
          "colorway": [
           "#636efa",
           "#EF553B",
           "#00cc96",
           "#ab63fa",
           "#FFA15A",
           "#19d3f3",
           "#FF6692",
           "#B6E880",
           "#FF97FF",
           "#FECB52"
          ],
          "font": {
           "color": "#2a3f5f"
          },
          "geo": {
           "bgcolor": "white",
           "lakecolor": "white",
           "landcolor": "#E5ECF6",
           "showlakes": true,
           "showland": true,
           "subunitcolor": "white"
          },
          "hoverlabel": {
           "align": "left"
          },
          "hovermode": "closest",
          "mapbox": {
           "style": "light"
          },
          "paper_bgcolor": "white",
          "plot_bgcolor": "#E5ECF6",
          "polar": {
           "angularaxis": {
            "gridcolor": "white",
            "linecolor": "white",
            "ticks": ""
           },
           "bgcolor": "#E5ECF6",
           "radialaxis": {
            "gridcolor": "white",
            "linecolor": "white",
            "ticks": ""
           }
          },
          "scene": {
           "xaxis": {
            "backgroundcolor": "#E5ECF6",
            "gridcolor": "white",
            "gridwidth": 2,
            "linecolor": "white",
            "showbackground": true,
            "ticks": "",
            "zerolinecolor": "white"
           },
           "yaxis": {
            "backgroundcolor": "#E5ECF6",
            "gridcolor": "white",
            "gridwidth": 2,
            "linecolor": "white",
            "showbackground": true,
            "ticks": "",
            "zerolinecolor": "white"
           },
           "zaxis": {
            "backgroundcolor": "#E5ECF6",
            "gridcolor": "white",
            "gridwidth": 2,
            "linecolor": "white",
            "showbackground": true,
            "ticks": "",
            "zerolinecolor": "white"
           }
          },
          "shapedefaults": {
           "line": {
            "color": "#2a3f5f"
           }
          },
          "ternary": {
           "aaxis": {
            "gridcolor": "white",
            "linecolor": "white",
            "ticks": ""
           },
           "baxis": {
            "gridcolor": "white",
            "linecolor": "white",
            "ticks": ""
           },
           "bgcolor": "#E5ECF6",
           "caxis": {
            "gridcolor": "white",
            "linecolor": "white",
            "ticks": ""
           }
          },
          "title": {
           "x": 0.05
          },
          "xaxis": {
           "automargin": true,
           "gridcolor": "white",
           "linecolor": "white",
           "ticks": "",
           "title": {
            "standoff": 15
           },
           "zerolinecolor": "white",
           "zerolinewidth": 2
          },
          "yaxis": {
           "automargin": true,
           "gridcolor": "white",
           "linecolor": "white",
           "ticks": "",
           "title": {
            "standoff": 15
           },
           "zerolinecolor": "white",
           "zerolinewidth": 2
          }
         }
        },
        "xaxis": {
         "anchor": "y",
         "domain": [
          0.0,
          1.0
         ],
         "title": {
          "text": "Sexo de los Participantes"
         }
        },
        "yaxis": {
         "anchor": "x",
         "domain": [
          0.0,
          1.0
         ],
         "title": {
          "text": "Paises Participantes en la Encuesta"
         },
         "categoryorder": "array",
         "categoryarray": [
          "Viet Nam",
          "United States of America",
          "United Kingdom of Great Britain and Northern Ireland",
          "United Arab Emirates",
          "Ukraine",
          "Turkey",
          "Tunisia",
          "Thailand",
          "Taiwan",
          "Switzerland",
          "Sweden",
          "Sri Lanka",
          "Spain",
          "South Korea",
          "South Africa",
          "Singapore",
          "Saudi Arabia",
          "Russia",
          "Romania",
          "Republic of Korea",
          "Portugal",
          "Poland",
          "Philippines",
          "Peru",
          "Pakistan",
          "Other",
          "Nigeria",
          "Netherlands",
          "Nepal",
          "Morocco",
          "Mexico",
          "Malaysia",
          "Kenya",
          "Japan",
          "Italy",
          "Israel",
          "Ireland",
          "Iran, Islamic Republic of...",
          "Indonesia",
          "India",
          "Greece",
          "Ghana",
          "Germany",
          "France",
          "Egypt",
          "Colombia",
          "China",
          "Chile",
          "Canada",
          "Brazil",
          "Belgium",
          "Belarus",
          "Bangladesh",
          "Australia",
          "Argentina"
         ]
        },
        "legend": {
         "title": {
          "text": "Paises Participantes en la Encuesta"
         },
         "tracegroupgap": 0
        },
        "title": {
         "text": "Agrupacion de generos de participantes por Pais"
        },
        "barmode": "relative"
       },
       "config": {
        "plotlyServerURL": "https://plot.ly"
       }
      },
      "text/html": "<div>                            <div id=\"fbb59fcd-3f6c-4a62-93a5-0eeb6972d306\" class=\"plotly-graph-div\" style=\"height:525px; width:100%;\"></div>            <script type=\"text/javascript\">                require([\"plotly\"], function(Plotly) {                    window.PLOTLYENV=window.PLOTLYENV || {};                                    if (document.getElementById(\"fbb59fcd-3f6c-4a62-93a5-0eeb6972d306\")) {                    Plotly.newPlot(                        \"fbb59fcd-3f6c-4a62-93a5-0eeb6972d306\",                        [{\"alignmentgroup\":\"True\",\"hovertemplate\":\"Paises Participantes en la Encuesta=%{y}<br>Sexo de los Participantes=%{x}<extra></extra>\",\"legendgroup\":\"Argentina\",\"marker\":{\"color\":\"#636efa\",\"pattern\":{\"shape\":\"\"}},\"name\":\"Argentina\",\"offsetgroup\":\"Argentina\",\"orientation\":\"v\",\"showlegend\":true,\"textposition\":\"auto\",\"x\":[\"$0-999\",\"1,000-1,999\",\"10,000-14,999\",\"15,000-19,999\",\"2,000-2,999\",\"20,000-24,999\",\"25,000-29,999\",\"250,000-299,999\",\"3,000-3,999\",\"30,000-39,999\",\"4,000-4,999\",\"40,000-49,999\",\"5,000-7,499\",\"50,000-59,999\",\"60,000-69,999\",\"7,500-9,999\",\"70,000-79,999\",\"80,000-89,999\",\"unanswered\"],\"xaxis\":\"x\",\"y\":[\"Argentina\",\"Argentina\",\"Argentina\",\"Argentina\",\"Argentina\",\"Argentina\",\"Argentina\",\"Argentina\",\"Argentina\",\"Argentina\",\"Argentina\",\"Argentina\",\"Argentina\",\"Argentina\",\"Argentina\",\"Argentina\",\"Argentina\",\"Argentina\",\"Argentina\"],\"yaxis\":\"y\",\"type\":\"bar\"},{\"alignmentgroup\":\"True\",\"hovertemplate\":\"Paises Participantes en la Encuesta=%{y}<br>Sexo de los Participantes=%{x}<extra></extra>\",\"legendgroup\":\"Australia\",\"marker\":{\"color\":\"#EF553B\",\"pattern\":{\"shape\":\"\"}},\"name\":\"Australia\",\"offsetgroup\":\"Australia\",\"orientation\":\"v\",\"showlegend\":true,\"textposition\":\"auto\",\"x\":[\"$0-999\",\"1,000-1,999\",\"100,000-124,999\",\"125,000-149,999\",\"15,000-19,999\",\"150,000-199,999\",\"2,000-2,999\",\"20,000-24,999\",\"200,000-249,999\",\"25,000-29,999\",\"250,000-299,999\",\"30,000-39,999\",\"300,000-500,000\",\"4,000-4,999\",\"40,000-49,999\",\"5,000-7,499\",\"50,000-59,999\",\"60,000-69,999\",\"70,000-79,999\",\"80,000-89,999\",\"90,000-99,999\",\"> $500,000\",\"unanswered\"],\"xaxis\":\"x\",\"y\":[\"Australia\",\"Australia\",\"Australia\",\"Australia\",\"Australia\",\"Australia\",\"Australia\",\"Australia\",\"Australia\",\"Australia\",\"Australia\",\"Australia\",\"Australia\",\"Australia\",\"Australia\",\"Australia\",\"Australia\",\"Australia\",\"Australia\",\"Australia\",\"Australia\",\"Australia\",\"Australia\"],\"yaxis\":\"y\",\"type\":\"bar\"},{\"alignmentgroup\":\"True\",\"hovertemplate\":\"Paises Participantes en la Encuesta=%{y}<br>Sexo de los Participantes=%{x}<extra></extra>\",\"legendgroup\":\"Bangladesh\",\"marker\":{\"color\":\"#00cc96\",\"pattern\":{\"shape\":\"\"}},\"name\":\"Bangladesh\",\"offsetgroup\":\"Bangladesh\",\"orientation\":\"v\",\"showlegend\":true,\"textposition\":\"auto\",\"x\":[\"$0-999\",\"1,000-1,999\",\"10,000-14,999\",\"15,000-19,999\",\"2,000-2,999\",\"20,000-24,999\",\"3,000-3,999\",\"30,000-39,999\",\"4,000-4,999\",\"5,000-7,499\",\"7,500-9,999\",\"unanswered\"],\"xaxis\":\"x\",\"y\":[\"Bangladesh\",\"Bangladesh\",\"Bangladesh\",\"Bangladesh\",\"Bangladesh\",\"Bangladesh\",\"Bangladesh\",\"Bangladesh\",\"Bangladesh\",\"Bangladesh\",\"Bangladesh\",\"Bangladesh\"],\"yaxis\":\"y\",\"type\":\"bar\"},{\"alignmentgroup\":\"True\",\"hovertemplate\":\"Paises Participantes en la Encuesta=%{y}<br>Sexo de los Participantes=%{x}<extra></extra>\",\"legendgroup\":\"Belarus\",\"marker\":{\"color\":\"#ab63fa\",\"pattern\":{\"shape\":\"\"}},\"name\":\"Belarus\",\"offsetgroup\":\"Belarus\",\"orientation\":\"v\",\"showlegend\":true,\"textposition\":\"auto\",\"x\":[\"$0-999\",\"1,000-1,999\",\"10,000-14,999\",\"15,000-19,999\",\"2,000-2,999\",\"20,000-24,999\",\"25,000-29,999\",\"30,000-39,999\",\"4,000-4,999\",\"40,000-49,999\",\"5,000-7,499\",\"7,500-9,999\",\"70,000-79,999\",\"unanswered\"],\"xaxis\":\"x\",\"y\":[\"Belarus\",\"Belarus\",\"Belarus\",\"Belarus\",\"Belarus\",\"Belarus\",\"Belarus\",\"Belarus\",\"Belarus\",\"Belarus\",\"Belarus\",\"Belarus\",\"Belarus\",\"Belarus\"],\"yaxis\":\"y\",\"type\":\"bar\"},{\"alignmentgroup\":\"True\",\"hovertemplate\":\"Paises Participantes en la Encuesta=%{y}<br>Sexo de los Participantes=%{x}<extra></extra>\",\"legendgroup\":\"Belgium\",\"marker\":{\"color\":\"#FFA15A\",\"pattern\":{\"shape\":\"\"}},\"name\":\"Belgium\",\"offsetgroup\":\"Belgium\",\"orientation\":\"v\",\"showlegend\":true,\"textposition\":\"auto\",\"x\":[\"$0-999\",\"1,000-1,999\",\"10,000-14,999\",\"100,000-124,999\",\"125,000-149,999\",\"150,000-199,999\",\"2,000-2,999\",\"25,000-29,999\",\"3,000-3,999\",\"30,000-39,999\",\"4,000-4,999\",\"40,000-49,999\",\"50,000-59,999\",\"60,000-69,999\",\"70,000-79,999\",\"80,000-89,999\",\"90,000-99,999\",\"> $500,000\",\"unanswered\"],\"xaxis\":\"x\",\"y\":[\"Belgium\",\"Belgium\",\"Belgium\",\"Belgium\",\"Belgium\",\"Belgium\",\"Belgium\",\"Belgium\",\"Belgium\",\"Belgium\",\"Belgium\",\"Belgium\",\"Belgium\",\"Belgium\",\"Belgium\",\"Belgium\",\"Belgium\",\"Belgium\",\"Belgium\"],\"yaxis\":\"y\",\"type\":\"bar\"},{\"alignmentgroup\":\"True\",\"hovertemplate\":\"Paises Participantes en la Encuesta=%{y}<br>Sexo de los Participantes=%{x}<extra></extra>\",\"legendgroup\":\"Brazil\",\"marker\":{\"color\":\"#19d3f3\",\"pattern\":{\"shape\":\"\"}},\"name\":\"Brazil\",\"offsetgroup\":\"Brazil\",\"orientation\":\"v\",\"showlegend\":true,\"textposition\":\"auto\",\"x\":[\"$0-999\",\"1,000-1,999\",\"10,000-14,999\",\"100,000-124,999\",\"125,000-149,999\",\"15,000-19,999\",\"150,000-199,999\",\"2,000-2,999\",\"20,000-24,999\",\"25,000-29,999\",\"250,000-299,999\",\"3,000-3,999\",\"30,000-39,999\",\"300,000-500,000\",\"4,000-4,999\",\"40,000-49,999\",\"5,000-7,499\",\"50,000-59,999\",\"60,000-69,999\",\"7,500-9,999\",\"70,000-79,999\",\"80,000-89,999\",\"90,000-99,999\",\"> $500,000\",\"unanswered\"],\"xaxis\":\"x\",\"y\":[\"Brazil\",\"Brazil\",\"Brazil\",\"Brazil\",\"Brazil\",\"Brazil\",\"Brazil\",\"Brazil\",\"Brazil\",\"Brazil\",\"Brazil\",\"Brazil\",\"Brazil\",\"Brazil\",\"Brazil\",\"Brazil\",\"Brazil\",\"Brazil\",\"Brazil\",\"Brazil\",\"Brazil\",\"Brazil\",\"Brazil\",\"Brazil\",\"Brazil\"],\"yaxis\":\"y\",\"type\":\"bar\"},{\"alignmentgroup\":\"True\",\"hovertemplate\":\"Paises Participantes en la Encuesta=%{y}<br>Sexo de los Participantes=%{x}<extra></extra>\",\"legendgroup\":\"Canada\",\"marker\":{\"color\":\"#FF6692\",\"pattern\":{\"shape\":\"\"}},\"name\":\"Canada\",\"offsetgroup\":\"Canada\",\"orientation\":\"v\",\"showlegend\":true,\"textposition\":\"auto\",\"x\":[\"$0-999\",\"10,000-14,999\",\"100,000-124,999\",\"125,000-149,999\",\"15,000-19,999\",\"150,000-199,999\",\"2,000-2,999\",\"20,000-24,999\",\"200,000-249,999\",\"25,000-29,999\",\"250,000-299,999\",\"3,000-3,999\",\"30,000-39,999\",\"4,000-4,999\",\"40,000-49,999\",\"5,000-7,499\",\"50,000-59,999\",\"60,000-69,999\",\"70,000-79,999\",\"80,000-89,999\",\"90,000-99,999\",\"> $500,000\",\"unanswered\"],\"xaxis\":\"x\",\"y\":[\"Canada\",\"Canada\",\"Canada\",\"Canada\",\"Canada\",\"Canada\",\"Canada\",\"Canada\",\"Canada\",\"Canada\",\"Canada\",\"Canada\",\"Canada\",\"Canada\",\"Canada\",\"Canada\",\"Canada\",\"Canada\",\"Canada\",\"Canada\",\"Canada\",\"Canada\",\"Canada\"],\"yaxis\":\"y\",\"type\":\"bar\"},{\"alignmentgroup\":\"True\",\"hovertemplate\":\"Paises Participantes en la Encuesta=%{y}<br>Sexo de los Participantes=%{x}<extra></extra>\",\"legendgroup\":\"Chile\",\"marker\":{\"color\":\"#B6E880\",\"pattern\":{\"shape\":\"\"}},\"name\":\"Chile\",\"offsetgroup\":\"Chile\",\"orientation\":\"v\",\"showlegend\":true,\"textposition\":\"auto\",\"x\":[\"$0-999\",\"1,000-1,999\",\"10,000-14,999\",\"15,000-19,999\",\"150,000-199,999\",\"2,000-2,999\",\"20,000-24,999\",\"25,000-29,999\",\"3,000-3,999\",\"30,000-39,999\",\"4,000-4,999\",\"40,000-49,999\",\"5,000-7,499\",\"50,000-59,999\",\"60,000-69,999\",\"70,000-79,999\",\"80,000-89,999\",\"unanswered\"],\"xaxis\":\"x\",\"y\":[\"Chile\",\"Chile\",\"Chile\",\"Chile\",\"Chile\",\"Chile\",\"Chile\",\"Chile\",\"Chile\",\"Chile\",\"Chile\",\"Chile\",\"Chile\",\"Chile\",\"Chile\",\"Chile\",\"Chile\",\"Chile\"],\"yaxis\":\"y\",\"type\":\"bar\"},{\"alignmentgroup\":\"True\",\"hovertemplate\":\"Paises Participantes en la Encuesta=%{y}<br>Sexo de los Participantes=%{x}<extra></extra>\",\"legendgroup\":\"China\",\"marker\":{\"color\":\"#FF97FF\",\"pattern\":{\"shape\":\"\"}},\"name\":\"China\",\"offsetgroup\":\"China\",\"orientation\":\"v\",\"showlegend\":true,\"textposition\":\"auto\",\"x\":[\"$0-999\",\"1,000-1,999\",\"10,000-14,999\",\"100,000-124,999\",\"15,000-19,999\",\"2,000-2,999\",\"20,000-24,999\",\"200,000-249,999\",\"25,000-29,999\",\"3,000-3,999\",\"30,000-39,999\",\"300,000-500,000\",\"4,000-4,999\",\"40,000-49,999\",\"5,000-7,499\",\"50,000-59,999\",\"60,000-69,999\",\"7,500-9,999\",\"70,000-79,999\",\"80,000-89,999\",\"90,000-99,999\",\"> $500,000\",\"unanswered\"],\"xaxis\":\"x\",\"y\":[\"China\",\"China\",\"China\",\"China\",\"China\",\"China\",\"China\",\"China\",\"China\",\"China\",\"China\",\"China\",\"China\",\"China\",\"China\",\"China\",\"China\",\"China\",\"China\",\"China\",\"China\",\"China\",\"China\"],\"yaxis\":\"y\",\"type\":\"bar\"},{\"alignmentgroup\":\"True\",\"hovertemplate\":\"Paises Participantes en la Encuesta=%{y}<br>Sexo de los Participantes=%{x}<extra></extra>\",\"legendgroup\":\"Colombia\",\"marker\":{\"color\":\"#FECB52\",\"pattern\":{\"shape\":\"\"}},\"name\":\"Colombia\",\"offsetgroup\":\"Colombia\",\"orientation\":\"v\",\"showlegend\":true,\"textposition\":\"auto\",\"x\":[\"$0-999\",\"1,000-1,999\",\"10,000-14,999\",\"15,000-19,999\",\"2,000-2,999\",\"20,000-24,999\",\"25,000-29,999\",\"3,000-3,999\",\"30,000-39,999\",\"4,000-4,999\",\"40,000-49,999\",\"5,000-7,499\",\"50,000-59,999\",\"60,000-69,999\",\"7,500-9,999\",\"70,000-79,999\",\"unanswered\"],\"xaxis\":\"x\",\"y\":[\"Colombia\",\"Colombia\",\"Colombia\",\"Colombia\",\"Colombia\",\"Colombia\",\"Colombia\",\"Colombia\",\"Colombia\",\"Colombia\",\"Colombia\",\"Colombia\",\"Colombia\",\"Colombia\",\"Colombia\",\"Colombia\",\"Colombia\"],\"yaxis\":\"y\",\"type\":\"bar\"},{\"alignmentgroup\":\"True\",\"hovertemplate\":\"Paises Participantes en la Encuesta=%{y}<br>Sexo de los Participantes=%{x}<extra></extra>\",\"legendgroup\":\"Egypt\",\"marker\":{\"color\":\"#636efa\",\"pattern\":{\"shape\":\"\"}},\"name\":\"Egypt\",\"offsetgroup\":\"Egypt\",\"orientation\":\"v\",\"showlegend\":true,\"textposition\":\"auto\",\"x\":[\"$0-999\",\"1,000-1,999\",\"10,000-14,999\",\"100,000-124,999\",\"15,000-19,999\",\"2,000-2,999\",\"20,000-24,999\",\"3,000-3,999\",\"30,000-39,999\",\"4,000-4,999\",\"40,000-49,999\",\"5,000-7,499\",\"7,500-9,999\",\"70,000-79,999\",\"90,000-99,999\",\"unanswered\"],\"xaxis\":\"x\",\"y\":[\"Egypt\",\"Egypt\",\"Egypt\",\"Egypt\",\"Egypt\",\"Egypt\",\"Egypt\",\"Egypt\",\"Egypt\",\"Egypt\",\"Egypt\",\"Egypt\",\"Egypt\",\"Egypt\",\"Egypt\",\"Egypt\"],\"yaxis\":\"y\",\"type\":\"bar\"},{\"alignmentgroup\":\"True\",\"hovertemplate\":\"Paises Participantes en la Encuesta=%{y}<br>Sexo de los Participantes=%{x}<extra></extra>\",\"legendgroup\":\"France\",\"marker\":{\"color\":\"#EF553B\",\"pattern\":{\"shape\":\"\"}},\"name\":\"France\",\"offsetgroup\":\"France\",\"orientation\":\"v\",\"showlegend\":true,\"textposition\":\"auto\",\"x\":[\"$0-999\",\"1,000-1,999\",\"10,000-14,999\",\"100,000-124,999\",\"125,000-149,999\",\"15,000-19,999\",\"150,000-199,999\",\"2,000-2,999\",\"20,000-24,999\",\"200,000-249,999\",\"25,000-29,999\",\"3,000-3,999\",\"30,000-39,999\",\"300,000-500,000\",\"4,000-4,999\",\"40,000-49,999\",\"50,000-59,999\",\"60,000-69,999\",\"7,500-9,999\",\"70,000-79,999\",\"80,000-89,999\",\"90,000-99,999\",\"unanswered\"],\"xaxis\":\"x\",\"y\":[\"France\",\"France\",\"France\",\"France\",\"France\",\"France\",\"France\",\"France\",\"France\",\"France\",\"France\",\"France\",\"France\",\"France\",\"France\",\"France\",\"France\",\"France\",\"France\",\"France\",\"France\",\"France\",\"France\"],\"yaxis\":\"y\",\"type\":\"bar\"},{\"alignmentgroup\":\"True\",\"hovertemplate\":\"Paises Participantes en la Encuesta=%{y}<br>Sexo de los Participantes=%{x}<extra></extra>\",\"legendgroup\":\"Germany\",\"marker\":{\"color\":\"#00cc96\",\"pattern\":{\"shape\":\"\"}},\"name\":\"Germany\",\"offsetgroup\":\"Germany\",\"orientation\":\"v\",\"showlegend\":true,\"textposition\":\"auto\",\"x\":[\"$0-999\",\"1,000-1,999\",\"10,000-14,999\",\"100,000-124,999\",\"125,000-149,999\",\"15,000-19,999\",\"150,000-199,999\",\"2,000-2,999\",\"20,000-24,999\",\"200,000-249,999\",\"25,000-29,999\",\"250,000-299,999\",\"3,000-3,999\",\"30,000-39,999\",\"4,000-4,999\",\"40,000-49,999\",\"50,000-59,999\",\"60,000-69,999\",\"70,000-79,999\",\"80,000-89,999\",\"90,000-99,999\",\"> $500,000\",\"unanswered\"],\"xaxis\":\"x\",\"y\":[\"Germany\",\"Germany\",\"Germany\",\"Germany\",\"Germany\",\"Germany\",\"Germany\",\"Germany\",\"Germany\",\"Germany\",\"Germany\",\"Germany\",\"Germany\",\"Germany\",\"Germany\",\"Germany\",\"Germany\",\"Germany\",\"Germany\",\"Germany\",\"Germany\",\"Germany\",\"Germany\"],\"yaxis\":\"y\",\"type\":\"bar\"},{\"alignmentgroup\":\"True\",\"hovertemplate\":\"Paises Participantes en la Encuesta=%{y}<br>Sexo de los Participantes=%{x}<extra></extra>\",\"legendgroup\":\"Ghana\",\"marker\":{\"color\":\"#ab63fa\",\"pattern\":{\"shape\":\"\"}},\"name\":\"Ghana\",\"offsetgroup\":\"Ghana\",\"orientation\":\"v\",\"showlegend\":true,\"textposition\":\"auto\",\"x\":[\"$0-999\",\"1,000-1,999\",\"10,000-14,999\",\"2,000-2,999\",\"3,000-3,999\",\"4,000-4,999\",\"5,000-7,499\",\"7,500-9,999\",\"> $500,000\",\"unanswered\"],\"xaxis\":\"x\",\"y\":[\"Ghana\",\"Ghana\",\"Ghana\",\"Ghana\",\"Ghana\",\"Ghana\",\"Ghana\",\"Ghana\",\"Ghana\",\"Ghana\"],\"yaxis\":\"y\",\"type\":\"bar\"},{\"alignmentgroup\":\"True\",\"hovertemplate\":\"Paises Participantes en la Encuesta=%{y}<br>Sexo de los Participantes=%{x}<extra></extra>\",\"legendgroup\":\"Greece\",\"marker\":{\"color\":\"#FFA15A\",\"pattern\":{\"shape\":\"\"}},\"name\":\"Greece\",\"offsetgroup\":\"Greece\",\"orientation\":\"v\",\"showlegend\":true,\"textposition\":\"auto\",\"x\":[\"$0-999\",\"1,000-1,999\",\"10,000-14,999\",\"15,000-19,999\",\"150,000-199,999\",\"2,000-2,999\",\"20,000-24,999\",\"25,000-29,999\",\"30,000-39,999\",\"40,000-49,999\",\"50,000-59,999\",\"60,000-69,999\",\"7,500-9,999\",\"70,000-79,999\",\"unanswered\"],\"xaxis\":\"x\",\"y\":[\"Greece\",\"Greece\",\"Greece\",\"Greece\",\"Greece\",\"Greece\",\"Greece\",\"Greece\",\"Greece\",\"Greece\",\"Greece\",\"Greece\",\"Greece\",\"Greece\",\"Greece\"],\"yaxis\":\"y\",\"type\":\"bar\"},{\"alignmentgroup\":\"True\",\"hovertemplate\":\"Paises Participantes en la Encuesta=%{y}<br>Sexo de los Participantes=%{x}<extra></extra>\",\"legendgroup\":\"India\",\"marker\":{\"color\":\"#19d3f3\",\"pattern\":{\"shape\":\"\"}},\"name\":\"India\",\"offsetgroup\":\"India\",\"orientation\":\"v\",\"showlegend\":true,\"textposition\":\"auto\",\"x\":[\"$0-999\",\"1,000-1,999\",\"10,000-14,999\",\"100,000-124,999\",\"125,000-149,999\",\"15,000-19,999\",\"150,000-199,999\",\"2,000-2,999\",\"20,000-24,999\",\"200,000-249,999\",\"25,000-29,999\",\"250,000-299,999\",\"3,000-3,999\",\"30,000-39,999\",\"300,000-500,000\",\"4,000-4,999\",\"40,000-49,999\",\"5,000-7,499\",\"50,000-59,999\",\"60,000-69,999\",\"7,500-9,999\",\"70,000-79,999\",\"80,000-89,999\",\"90,000-99,999\",\"> $500,000\",\"unanswered\"],\"xaxis\":\"x\",\"y\":[\"India\",\"India\",\"India\",\"India\",\"India\",\"India\",\"India\",\"India\",\"India\",\"India\",\"India\",\"India\",\"India\",\"India\",\"India\",\"India\",\"India\",\"India\",\"India\",\"India\",\"India\",\"India\",\"India\",\"India\",\"India\",\"India\"],\"yaxis\":\"y\",\"type\":\"bar\"},{\"alignmentgroup\":\"True\",\"hovertemplate\":\"Paises Participantes en la Encuesta=%{y}<br>Sexo de los Participantes=%{x}<extra></extra>\",\"legendgroup\":\"Indonesia\",\"marker\":{\"color\":\"#FF6692\",\"pattern\":{\"shape\":\"\"}},\"name\":\"Indonesia\",\"offsetgroup\":\"Indonesia\",\"orientation\":\"v\",\"showlegend\":true,\"textposition\":\"auto\",\"x\":[\"$0-999\",\"1,000-1,999\",\"10,000-14,999\",\"15,000-19,999\",\"2,000-2,999\",\"20,000-24,999\",\"3,000-3,999\",\"30,000-39,999\",\"300,000-500,000\",\"4,000-4,999\",\"40,000-49,999\",\"5,000-7,499\",\"7,500-9,999\",\"70,000-79,999\",\"80,000-89,999\",\"> $500,000\",\"unanswered\"],\"xaxis\":\"x\",\"y\":[\"Indonesia\",\"Indonesia\",\"Indonesia\",\"Indonesia\",\"Indonesia\",\"Indonesia\",\"Indonesia\",\"Indonesia\",\"Indonesia\",\"Indonesia\",\"Indonesia\",\"Indonesia\",\"Indonesia\",\"Indonesia\",\"Indonesia\",\"Indonesia\",\"Indonesia\"],\"yaxis\":\"y\",\"type\":\"bar\"},{\"alignmentgroup\":\"True\",\"hovertemplate\":\"Paises Participantes en la Encuesta=%{y}<br>Sexo de los Participantes=%{x}<extra></extra>\",\"legendgroup\":\"Iran, Islamic Republic of...\",\"marker\":{\"color\":\"#B6E880\",\"pattern\":{\"shape\":\"\"}},\"name\":\"Iran, Islamic Republic of...\",\"offsetgroup\":\"Iran, Islamic Republic of...\",\"orientation\":\"v\",\"showlegend\":true,\"textposition\":\"auto\",\"x\":[\"$0-999\",\"1,000-1,999\",\"10,000-14,999\",\"100,000-124,999\",\"15,000-19,999\",\"2,000-2,999\",\"20,000-24,999\",\"3,000-3,999\",\"4,000-4,999\",\"5,000-7,499\",\"7,500-9,999\",\"unanswered\"],\"xaxis\":\"x\",\"y\":[\"Iran, Islamic Republic of...\",\"Iran, Islamic Republic of...\",\"Iran, Islamic Republic of...\",\"Iran, Islamic Republic of...\",\"Iran, Islamic Republic of...\",\"Iran, Islamic Republic of...\",\"Iran, Islamic Republic of...\",\"Iran, Islamic Republic of...\",\"Iran, Islamic Republic of...\",\"Iran, Islamic Republic of...\",\"Iran, Islamic Republic of...\",\"Iran, Islamic Republic of...\"],\"yaxis\":\"y\",\"type\":\"bar\"},{\"alignmentgroup\":\"True\",\"hovertemplate\":\"Paises Participantes en la Encuesta=%{y}<br>Sexo de los Participantes=%{x}<extra></extra>\",\"legendgroup\":\"Ireland\",\"marker\":{\"color\":\"#FF97FF\",\"pattern\":{\"shape\":\"\"}},\"name\":\"Ireland\",\"offsetgroup\":\"Ireland\",\"orientation\":\"v\",\"showlegend\":true,\"textposition\":\"auto\",\"x\":[\"$0-999\",\"1,000-1,999\",\"10,000-14,999\",\"100,000-124,999\",\"125,000-149,999\",\"15,000-19,999\",\"2,000-2,999\",\"20,000-24,999\",\"25,000-29,999\",\"3,000-3,999\",\"30,000-39,999\",\"40,000-49,999\",\"5,000-7,499\",\"50,000-59,999\",\"60,000-69,999\",\"70,000-79,999\",\"80,000-89,999\",\"unanswered\"],\"xaxis\":\"x\",\"y\":[\"Ireland\",\"Ireland\",\"Ireland\",\"Ireland\",\"Ireland\",\"Ireland\",\"Ireland\",\"Ireland\",\"Ireland\",\"Ireland\",\"Ireland\",\"Ireland\",\"Ireland\",\"Ireland\",\"Ireland\",\"Ireland\",\"Ireland\",\"Ireland\"],\"yaxis\":\"y\",\"type\":\"bar\"},{\"alignmentgroup\":\"True\",\"hovertemplate\":\"Paises Participantes en la Encuesta=%{y}<br>Sexo de los Participantes=%{x}<extra></extra>\",\"legendgroup\":\"Israel\",\"marker\":{\"color\":\"#FECB52\",\"pattern\":{\"shape\":\"\"}},\"name\":\"Israel\",\"offsetgroup\":\"Israel\",\"orientation\":\"v\",\"showlegend\":true,\"textposition\":\"auto\",\"x\":[\"$0-999\",\"10,000-14,999\",\"100,000-124,999\",\"125,000-149,999\",\"150,000-199,999\",\"20,000-24,999\",\"200,000-249,999\",\"25,000-29,999\",\"250,000-299,999\",\"3,000-3,999\",\"40,000-49,999\",\"5,000-7,499\",\"50,000-59,999\",\"60,000-69,999\",\"7,500-9,999\",\"70,000-79,999\",\"80,000-89,999\",\"90,000-99,999\",\"> $500,000\",\"unanswered\"],\"xaxis\":\"x\",\"y\":[\"Israel\",\"Israel\",\"Israel\",\"Israel\",\"Israel\",\"Israel\",\"Israel\",\"Israel\",\"Israel\",\"Israel\",\"Israel\",\"Israel\",\"Israel\",\"Israel\",\"Israel\",\"Israel\",\"Israel\",\"Israel\",\"Israel\",\"Israel\"],\"yaxis\":\"y\",\"type\":\"bar\"},{\"alignmentgroup\":\"True\",\"hovertemplate\":\"Paises Participantes en la Encuesta=%{y}<br>Sexo de los Participantes=%{x}<extra></extra>\",\"legendgroup\":\"Italy\",\"marker\":{\"color\":\"#636efa\",\"pattern\":{\"shape\":\"\"}},\"name\":\"Italy\",\"offsetgroup\":\"Italy\",\"orientation\":\"v\",\"showlegend\":true,\"textposition\":\"auto\",\"x\":[\"$0-999\",\"1,000-1,999\",\"10,000-14,999\",\"100,000-124,999\",\"125,000-149,999\",\"15,000-19,999\",\"150,000-199,999\",\"2,000-2,999\",\"20,000-24,999\",\"25,000-29,999\",\"3,000-3,999\",\"30,000-39,999\",\"40,000-49,999\",\"5,000-7,499\",\"50,000-59,999\",\"60,000-69,999\",\"7,500-9,999\",\"70,000-79,999\",\"80,000-89,999\",\"90,000-99,999\",\"unanswered\"],\"xaxis\":\"x\",\"y\":[\"Italy\",\"Italy\",\"Italy\",\"Italy\",\"Italy\",\"Italy\",\"Italy\",\"Italy\",\"Italy\",\"Italy\",\"Italy\",\"Italy\",\"Italy\",\"Italy\",\"Italy\",\"Italy\",\"Italy\",\"Italy\",\"Italy\",\"Italy\",\"Italy\"],\"yaxis\":\"y\",\"type\":\"bar\"},{\"alignmentgroup\":\"True\",\"hovertemplate\":\"Paises Participantes en la Encuesta=%{y}<br>Sexo de los Participantes=%{x}<extra></extra>\",\"legendgroup\":\"Japan\",\"marker\":{\"color\":\"#EF553B\",\"pattern\":{\"shape\":\"\"}},\"name\":\"Japan\",\"offsetgroup\":\"Japan\",\"orientation\":\"v\",\"showlegend\":true,\"textposition\":\"auto\",\"x\":[\"$0-999\",\"1,000-1,999\",\"10,000-14,999\",\"100,000-124,999\",\"125,000-149,999\",\"15,000-19,999\",\"150,000-199,999\",\"2,000-2,999\",\"20,000-24,999\",\"25,000-29,999\",\"3,000-3,999\",\"30,000-39,999\",\"300,000-500,000\",\"4,000-4,999\",\"40,000-49,999\",\"5,000-7,499\",\"50,000-59,999\",\"60,000-69,999\",\"7,500-9,999\",\"70,000-79,999\",\"80,000-89,999\",\"90,000-99,999\",\"unanswered\"],\"xaxis\":\"x\",\"y\":[\"Japan\",\"Japan\",\"Japan\",\"Japan\",\"Japan\",\"Japan\",\"Japan\",\"Japan\",\"Japan\",\"Japan\",\"Japan\",\"Japan\",\"Japan\",\"Japan\",\"Japan\",\"Japan\",\"Japan\",\"Japan\",\"Japan\",\"Japan\",\"Japan\",\"Japan\",\"Japan\"],\"yaxis\":\"y\",\"type\":\"bar\"},{\"alignmentgroup\":\"True\",\"hovertemplate\":\"Paises Participantes en la Encuesta=%{y}<br>Sexo de los Participantes=%{x}<extra></extra>\",\"legendgroup\":\"Kenya\",\"marker\":{\"color\":\"#00cc96\",\"pattern\":{\"shape\":\"\"}},\"name\":\"Kenya\",\"offsetgroup\":\"Kenya\",\"orientation\":\"v\",\"showlegend\":true,\"textposition\":\"auto\",\"x\":[\"$0-999\",\"1,000-1,999\",\"10,000-14,999\",\"15,000-19,999\",\"2,000-2,999\",\"20,000-24,999\",\"3,000-3,999\",\"30,000-39,999\",\"4,000-4,999\",\"5,000-7,499\",\"7,500-9,999\",\"80,000-89,999\",\"unanswered\"],\"xaxis\":\"x\",\"y\":[\"Kenya\",\"Kenya\",\"Kenya\",\"Kenya\",\"Kenya\",\"Kenya\",\"Kenya\",\"Kenya\",\"Kenya\",\"Kenya\",\"Kenya\",\"Kenya\",\"Kenya\"],\"yaxis\":\"y\",\"type\":\"bar\"},{\"alignmentgroup\":\"True\",\"hovertemplate\":\"Paises Participantes en la Encuesta=%{y}<br>Sexo de los Participantes=%{x}<extra></extra>\",\"legendgroup\":\"Malaysia\",\"marker\":{\"color\":\"#ab63fa\",\"pattern\":{\"shape\":\"\"}},\"name\":\"Malaysia\",\"offsetgroup\":\"Malaysia\",\"orientation\":\"v\",\"showlegend\":true,\"textposition\":\"auto\",\"x\":[\"$0-999\",\"1,000-1,999\",\"10,000-14,999\",\"100,000-124,999\",\"15,000-19,999\",\"150,000-199,999\",\"2,000-2,999\",\"20,000-24,999\",\"25,000-29,999\",\"3,000-3,999\",\"30,000-39,999\",\"4,000-4,999\",\"50,000-59,999\",\"60,000-69,999\",\"7,500-9,999\",\"70,000-79,999\",\"80,000-89,999\",\"unanswered\"],\"xaxis\":\"x\",\"y\":[\"Malaysia\",\"Malaysia\",\"Malaysia\",\"Malaysia\",\"Malaysia\",\"Malaysia\",\"Malaysia\",\"Malaysia\",\"Malaysia\",\"Malaysia\",\"Malaysia\",\"Malaysia\",\"Malaysia\",\"Malaysia\",\"Malaysia\",\"Malaysia\",\"Malaysia\",\"Malaysia\"],\"yaxis\":\"y\",\"type\":\"bar\"},{\"alignmentgroup\":\"True\",\"hovertemplate\":\"Paises Participantes en la Encuesta=%{y}<br>Sexo de los Participantes=%{x}<extra></extra>\",\"legendgroup\":\"Mexico\",\"marker\":{\"color\":\"#FFA15A\",\"pattern\":{\"shape\":\"\"}},\"name\":\"Mexico\",\"offsetgroup\":\"Mexico\",\"orientation\":\"v\",\"showlegend\":true,\"textposition\":\"auto\",\"x\":[\"$0-999\",\"1,000-1,999\",\"10,000-14,999\",\"100,000-124,999\",\"125,000-149,999\",\"15,000-19,999\",\"150,000-199,999\",\"2,000-2,999\",\"20,000-24,999\",\"25,000-29,999\",\"250,000-299,999\",\"3,000-3,999\",\"30,000-39,999\",\"4,000-4,999\",\"40,000-49,999\",\"5,000-7,499\",\"50,000-59,999\",\"60,000-69,999\",\"7,500-9,999\",\"70,000-79,999\",\"80,000-89,999\",\"90,000-99,999\",\"> $500,000\",\"unanswered\"],\"xaxis\":\"x\",\"y\":[\"Mexico\",\"Mexico\",\"Mexico\",\"Mexico\",\"Mexico\",\"Mexico\",\"Mexico\",\"Mexico\",\"Mexico\",\"Mexico\",\"Mexico\",\"Mexico\",\"Mexico\",\"Mexico\",\"Mexico\",\"Mexico\",\"Mexico\",\"Mexico\",\"Mexico\",\"Mexico\",\"Mexico\",\"Mexico\",\"Mexico\",\"Mexico\"],\"yaxis\":\"y\",\"type\":\"bar\"},{\"alignmentgroup\":\"True\",\"hovertemplate\":\"Paises Participantes en la Encuesta=%{y}<br>Sexo de los Participantes=%{x}<extra></extra>\",\"legendgroup\":\"Morocco\",\"marker\":{\"color\":\"#19d3f3\",\"pattern\":{\"shape\":\"\"}},\"name\":\"Morocco\",\"offsetgroup\":\"Morocco\",\"orientation\":\"v\",\"showlegend\":true,\"textposition\":\"auto\",\"x\":[\"$0-999\",\"1,000-1,999\",\"10,000-14,999\",\"100,000-124,999\",\"15,000-19,999\",\"2,000-2,999\",\"20,000-24,999\",\"25,000-29,999\",\"3,000-3,999\",\"30,000-39,999\",\"40,000-49,999\",\"5,000-7,499\",\"7,500-9,999\",\"80,000-89,999\",\"unanswered\"],\"xaxis\":\"x\",\"y\":[\"Morocco\",\"Morocco\",\"Morocco\",\"Morocco\",\"Morocco\",\"Morocco\",\"Morocco\",\"Morocco\",\"Morocco\",\"Morocco\",\"Morocco\",\"Morocco\",\"Morocco\",\"Morocco\",\"Morocco\"],\"yaxis\":\"y\",\"type\":\"bar\"},{\"alignmentgroup\":\"True\",\"hovertemplate\":\"Paises Participantes en la Encuesta=%{y}<br>Sexo de los Participantes=%{x}<extra></extra>\",\"legendgroup\":\"Nepal\",\"marker\":{\"color\":\"#FF6692\",\"pattern\":{\"shape\":\"\"}},\"name\":\"Nepal\",\"offsetgroup\":\"Nepal\",\"orientation\":\"v\",\"showlegend\":true,\"textposition\":\"auto\",\"x\":[\"$0-999\",\"10,000-14,999\",\"150,000-199,999\",\"2,000-2,999\",\"3,000-3,999\",\"4,000-4,999\",\"5,000-7,499\",\"7,500-9,999\",\"unanswered\"],\"xaxis\":\"x\",\"y\":[\"Nepal\",\"Nepal\",\"Nepal\",\"Nepal\",\"Nepal\",\"Nepal\",\"Nepal\",\"Nepal\",\"Nepal\"],\"yaxis\":\"y\",\"type\":\"bar\"},{\"alignmentgroup\":\"True\",\"hovertemplate\":\"Paises Participantes en la Encuesta=%{y}<br>Sexo de los Participantes=%{x}<extra></extra>\",\"legendgroup\":\"Netherlands\",\"marker\":{\"color\":\"#B6E880\",\"pattern\":{\"shape\":\"\"}},\"name\":\"Netherlands\",\"offsetgroup\":\"Netherlands\",\"orientation\":\"v\",\"showlegend\":true,\"textposition\":\"auto\",\"x\":[\"$0-999\",\"10,000-14,999\",\"100,000-124,999\",\"125,000-149,999\",\"150,000-199,999\",\"20,000-24,999\",\"200,000-249,999\",\"25,000-29,999\",\"3,000-3,999\",\"30,000-39,999\",\"4,000-4,999\",\"40,000-49,999\",\"5,000-7,499\",\"50,000-59,999\",\"60,000-69,999\",\"7,500-9,999\",\"70,000-79,999\",\"80,000-89,999\",\"90,000-99,999\",\"unanswered\"],\"xaxis\":\"x\",\"y\":[\"Netherlands\",\"Netherlands\",\"Netherlands\",\"Netherlands\",\"Netherlands\",\"Netherlands\",\"Netherlands\",\"Netherlands\",\"Netherlands\",\"Netherlands\",\"Netherlands\",\"Netherlands\",\"Netherlands\",\"Netherlands\",\"Netherlands\",\"Netherlands\",\"Netherlands\",\"Netherlands\",\"Netherlands\",\"Netherlands\"],\"yaxis\":\"y\",\"type\":\"bar\"},{\"alignmentgroup\":\"True\",\"hovertemplate\":\"Paises Participantes en la Encuesta=%{y}<br>Sexo de los Participantes=%{x}<extra></extra>\",\"legendgroup\":\"Nigeria\",\"marker\":{\"color\":\"#FF97FF\",\"pattern\":{\"shape\":\"\"}},\"name\":\"Nigeria\",\"offsetgroup\":\"Nigeria\",\"orientation\":\"v\",\"showlegend\":true,\"textposition\":\"auto\",\"x\":[\"$0-999\",\"1,000-1,999\",\"10,000-14,999\",\"15,000-19,999\",\"2,000-2,999\",\"20,000-24,999\",\"25,000-29,999\",\"3,000-3,999\",\"30,000-39,999\",\"4,000-4,999\",\"40,000-49,999\",\"5,000-7,499\",\"50,000-59,999\",\"60,000-69,999\",\"7,500-9,999\",\"70,000-79,999\",\"80,000-89,999\",\"> $500,000\",\"unanswered\"],\"xaxis\":\"x\",\"y\":[\"Nigeria\",\"Nigeria\",\"Nigeria\",\"Nigeria\",\"Nigeria\",\"Nigeria\",\"Nigeria\",\"Nigeria\",\"Nigeria\",\"Nigeria\",\"Nigeria\",\"Nigeria\",\"Nigeria\",\"Nigeria\",\"Nigeria\",\"Nigeria\",\"Nigeria\",\"Nigeria\",\"Nigeria\"],\"yaxis\":\"y\",\"type\":\"bar\"},{\"alignmentgroup\":\"True\",\"hovertemplate\":\"Paises Participantes en la Encuesta=%{y}<br>Sexo de los Participantes=%{x}<extra></extra>\",\"legendgroup\":\"Other\",\"marker\":{\"color\":\"#FECB52\",\"pattern\":{\"shape\":\"\"}},\"name\":\"Other\",\"offsetgroup\":\"Other\",\"orientation\":\"v\",\"showlegend\":true,\"textposition\":\"auto\",\"x\":[\"$0-999\",\"1,000-1,999\",\"10,000-14,999\",\"100,000-124,999\",\"125,000-149,999\",\"15,000-19,999\",\"150,000-199,999\",\"2,000-2,999\",\"20,000-24,999\",\"200,000-249,999\",\"25,000-29,999\",\"250,000-299,999\",\"3,000-3,999\",\"30,000-39,999\",\"300,000-500,000\",\"4,000-4,999\",\"40,000-49,999\",\"5,000-7,499\",\"50,000-59,999\",\"60,000-69,999\",\"7,500-9,999\",\"70,000-79,999\",\"80,000-89,999\",\"90,000-99,999\",\"> $500,000\",\"unanswered\"],\"xaxis\":\"x\",\"y\":[\"Other\",\"Other\",\"Other\",\"Other\",\"Other\",\"Other\",\"Other\",\"Other\",\"Other\",\"Other\",\"Other\",\"Other\",\"Other\",\"Other\",\"Other\",\"Other\",\"Other\",\"Other\",\"Other\",\"Other\",\"Other\",\"Other\",\"Other\",\"Other\",\"Other\",\"Other\"],\"yaxis\":\"y\",\"type\":\"bar\"},{\"alignmentgroup\":\"True\",\"hovertemplate\":\"Paises Participantes en la Encuesta=%{y}<br>Sexo de los Participantes=%{x}<extra></extra>\",\"legendgroup\":\"Pakistan\",\"marker\":{\"color\":\"#636efa\",\"pattern\":{\"shape\":\"\"}},\"name\":\"Pakistan\",\"offsetgroup\":\"Pakistan\",\"orientation\":\"v\",\"showlegend\":true,\"textposition\":\"auto\",\"x\":[\"$0-999\",\"1,000-1,999\",\"10,000-14,999\",\"15,000-19,999\",\"2,000-2,999\",\"20,000-24,999\",\"25,000-29,999\",\"3,000-3,999\",\"30,000-39,999\",\"4,000-4,999\",\"40,000-49,999\",\"5,000-7,499\",\"7,500-9,999\",\"80,000-89,999\",\"> $500,000\",\"unanswered\"],\"xaxis\":\"x\",\"y\":[\"Pakistan\",\"Pakistan\",\"Pakistan\",\"Pakistan\",\"Pakistan\",\"Pakistan\",\"Pakistan\",\"Pakistan\",\"Pakistan\",\"Pakistan\",\"Pakistan\",\"Pakistan\",\"Pakistan\",\"Pakistan\",\"Pakistan\",\"Pakistan\"],\"yaxis\":\"y\",\"type\":\"bar\"},{\"alignmentgroup\":\"True\",\"hovertemplate\":\"Paises Participantes en la Encuesta=%{y}<br>Sexo de los Participantes=%{x}<extra></extra>\",\"legendgroup\":\"Peru\",\"marker\":{\"color\":\"#EF553B\",\"pattern\":{\"shape\":\"\"}},\"name\":\"Peru\",\"offsetgroup\":\"Peru\",\"orientation\":\"v\",\"showlegend\":true,\"textposition\":\"auto\",\"x\":[\"$0-999\",\"1,000-1,999\",\"10,000-14,999\",\"125,000-149,999\",\"15,000-19,999\",\"2,000-2,999\",\"20,000-24,999\",\"25,000-29,999\",\"3,000-3,999\",\"30,000-39,999\",\"4,000-4,999\",\"40,000-49,999\",\"5,000-7,499\",\"50,000-59,999\",\"7,500-9,999\",\"70,000-79,999\",\"unanswered\"],\"xaxis\":\"x\",\"y\":[\"Peru\",\"Peru\",\"Peru\",\"Peru\",\"Peru\",\"Peru\",\"Peru\",\"Peru\",\"Peru\",\"Peru\",\"Peru\",\"Peru\",\"Peru\",\"Peru\",\"Peru\",\"Peru\",\"Peru\"],\"yaxis\":\"y\",\"type\":\"bar\"},{\"alignmentgroup\":\"True\",\"hovertemplate\":\"Paises Participantes en la Encuesta=%{y}<br>Sexo de los Participantes=%{x}<extra></extra>\",\"legendgroup\":\"Philippines\",\"marker\":{\"color\":\"#00cc96\",\"pattern\":{\"shape\":\"\"}},\"name\":\"Philippines\",\"offsetgroup\":\"Philippines\",\"orientation\":\"v\",\"showlegend\":true,\"textposition\":\"auto\",\"x\":[\"$0-999\",\"1,000-1,999\",\"10,000-14,999\",\"15,000-19,999\",\"150,000-199,999\",\"2,000-2,999\",\"20,000-24,999\",\"25,000-29,999\",\"3,000-3,999\",\"30,000-39,999\",\"40,000-49,999\",\"5,000-7,499\",\"50,000-59,999\",\"7,500-9,999\",\"unanswered\"],\"xaxis\":\"x\",\"y\":[\"Philippines\",\"Philippines\",\"Philippines\",\"Philippines\",\"Philippines\",\"Philippines\",\"Philippines\",\"Philippines\",\"Philippines\",\"Philippines\",\"Philippines\",\"Philippines\",\"Philippines\",\"Philippines\",\"Philippines\"],\"yaxis\":\"y\",\"type\":\"bar\"},{\"alignmentgroup\":\"True\",\"hovertemplate\":\"Paises Participantes en la Encuesta=%{y}<br>Sexo de los Participantes=%{x}<extra></extra>\",\"legendgroup\":\"Poland\",\"marker\":{\"color\":\"#ab63fa\",\"pattern\":{\"shape\":\"\"}},\"name\":\"Poland\",\"offsetgroup\":\"Poland\",\"orientation\":\"v\",\"showlegend\":true,\"textposition\":\"auto\",\"x\":[\"$0-999\",\"1,000-1,999\",\"10,000-14,999\",\"100,000-124,999\",\"15,000-19,999\",\"2,000-2,999\",\"20,000-24,999\",\"25,000-29,999\",\"3,000-3,999\",\"30,000-39,999\",\"40,000-49,999\",\"5,000-7,499\",\"50,000-59,999\",\"60,000-69,999\",\"7,500-9,999\",\"70,000-79,999\",\"80,000-89,999\",\"90,000-99,999\",\"unanswered\"],\"xaxis\":\"x\",\"y\":[\"Poland\",\"Poland\",\"Poland\",\"Poland\",\"Poland\",\"Poland\",\"Poland\",\"Poland\",\"Poland\",\"Poland\",\"Poland\",\"Poland\",\"Poland\",\"Poland\",\"Poland\",\"Poland\",\"Poland\",\"Poland\",\"Poland\"],\"yaxis\":\"y\",\"type\":\"bar\"},{\"alignmentgroup\":\"True\",\"hovertemplate\":\"Paises Participantes en la Encuesta=%{y}<br>Sexo de los Participantes=%{x}<extra></extra>\",\"legendgroup\":\"Portugal\",\"marker\":{\"color\":\"#FFA15A\",\"pattern\":{\"shape\":\"\"}},\"name\":\"Portugal\",\"offsetgroup\":\"Portugal\",\"orientation\":\"v\",\"showlegend\":true,\"textposition\":\"auto\",\"x\":[\"$0-999\",\"1,000-1,999\",\"10,000-14,999\",\"100,000-124,999\",\"15,000-19,999\",\"2,000-2,999\",\"20,000-24,999\",\"200,000-249,999\",\"25,000-29,999\",\"3,000-3,999\",\"30,000-39,999\",\"40,000-49,999\",\"5,000-7,499\",\"50,000-59,999\",\"60,000-69,999\",\"7,500-9,999\",\"80,000-89,999\",\"unanswered\"],\"xaxis\":\"x\",\"y\":[\"Portugal\",\"Portugal\",\"Portugal\",\"Portugal\",\"Portugal\",\"Portugal\",\"Portugal\",\"Portugal\",\"Portugal\",\"Portugal\",\"Portugal\",\"Portugal\",\"Portugal\",\"Portugal\",\"Portugal\",\"Portugal\",\"Portugal\",\"Portugal\"],\"yaxis\":\"y\",\"type\":\"bar\"},{\"alignmentgroup\":\"True\",\"hovertemplate\":\"Paises Participantes en la Encuesta=%{y}<br>Sexo de los Participantes=%{x}<extra></extra>\",\"legendgroup\":\"Republic of Korea\",\"marker\":{\"color\":\"#19d3f3\",\"pattern\":{\"shape\":\"\"}},\"name\":\"Republic of Korea\",\"offsetgroup\":\"Republic of Korea\",\"orientation\":\"v\",\"showlegend\":true,\"textposition\":\"auto\",\"x\":[\"$0-999\",\"10,000-14,999\",\"100,000-124,999\",\"15,000-19,999\",\"2,000-2,999\",\"20,000-24,999\",\"3,000-3,999\",\"30,000-39,999\",\"4,000-4,999\",\"40,000-49,999\",\"5,000-7,499\",\"50,000-59,999\",\"60,000-69,999\",\"7,500-9,999\",\"70,000-79,999\",\"80,000-89,999\",\"unanswered\"],\"xaxis\":\"x\",\"y\":[\"Republic of Korea\",\"Republic of Korea\",\"Republic of Korea\",\"Republic of Korea\",\"Republic of Korea\",\"Republic of Korea\",\"Republic of Korea\",\"Republic of Korea\",\"Republic of Korea\",\"Republic of Korea\",\"Republic of Korea\",\"Republic of Korea\",\"Republic of Korea\",\"Republic of Korea\",\"Republic of Korea\",\"Republic of Korea\",\"Republic of Korea\"],\"yaxis\":\"y\",\"type\":\"bar\"},{\"alignmentgroup\":\"True\",\"hovertemplate\":\"Paises Participantes en la Encuesta=%{y}<br>Sexo de los Participantes=%{x}<extra></extra>\",\"legendgroup\":\"Romania\",\"marker\":{\"color\":\"#FF6692\",\"pattern\":{\"shape\":\"\"}},\"name\":\"Romania\",\"offsetgroup\":\"Romania\",\"orientation\":\"v\",\"showlegend\":true,\"textposition\":\"auto\",\"x\":[\"$0-999\",\"1,000-1,999\",\"10,000-14,999\",\"15,000-19,999\",\"2,000-2,999\",\"20,000-24,999\",\"25,000-29,999\",\"30,000-39,999\",\"4,000-4,999\",\"40,000-49,999\",\"50,000-59,999\",\"60,000-69,999\",\"7,500-9,999\",\"90,000-99,999\",\"unanswered\"],\"xaxis\":\"x\",\"y\":[\"Romania\",\"Romania\",\"Romania\",\"Romania\",\"Romania\",\"Romania\",\"Romania\",\"Romania\",\"Romania\",\"Romania\",\"Romania\",\"Romania\",\"Romania\",\"Romania\",\"Romania\"],\"yaxis\":\"y\",\"type\":\"bar\"},{\"alignmentgroup\":\"True\",\"hovertemplate\":\"Paises Participantes en la Encuesta=%{y}<br>Sexo de los Participantes=%{x}<extra></extra>\",\"legendgroup\":\"Russia\",\"marker\":{\"color\":\"#B6E880\",\"pattern\":{\"shape\":\"\"}},\"name\":\"Russia\",\"offsetgroup\":\"Russia\",\"orientation\":\"v\",\"showlegend\":true,\"textposition\":\"auto\",\"x\":[\"$0-999\",\"1,000-1,999\",\"10,000-14,999\",\"100,000-124,999\",\"125,000-149,999\",\"15,000-19,999\",\"150,000-199,999\",\"2,000-2,999\",\"20,000-24,999\",\"25,000-29,999\",\"250,000-299,999\",\"3,000-3,999\",\"30,000-39,999\",\"300,000-500,000\",\"4,000-4,999\",\"40,000-49,999\",\"5,000-7,499\",\"50,000-59,999\",\"60,000-69,999\",\"7,500-9,999\",\"70,000-79,999\",\"80,000-89,999\",\"90,000-99,999\",\"unanswered\"],\"xaxis\":\"x\",\"y\":[\"Russia\",\"Russia\",\"Russia\",\"Russia\",\"Russia\",\"Russia\",\"Russia\",\"Russia\",\"Russia\",\"Russia\",\"Russia\",\"Russia\",\"Russia\",\"Russia\",\"Russia\",\"Russia\",\"Russia\",\"Russia\",\"Russia\",\"Russia\",\"Russia\",\"Russia\",\"Russia\",\"Russia\"],\"yaxis\":\"y\",\"type\":\"bar\"},{\"alignmentgroup\":\"True\",\"hovertemplate\":\"Paises Participantes en la Encuesta=%{y}<br>Sexo de los Participantes=%{x}<extra></extra>\",\"legendgroup\":\"Saudi Arabia\",\"marker\":{\"color\":\"#FF97FF\",\"pattern\":{\"shape\":\"\"}},\"name\":\"Saudi Arabia\",\"offsetgroup\":\"Saudi Arabia\",\"orientation\":\"v\",\"showlegend\":true,\"textposition\":\"auto\",\"x\":[\"$0-999\",\"1,000-1,999\",\"10,000-14,999\",\"100,000-124,999\",\"15,000-19,999\",\"150,000-199,999\",\"2,000-2,999\",\"25,000-29,999\",\"3,000-3,999\",\"30,000-39,999\",\"40,000-49,999\",\"5,000-7,499\",\"50,000-59,999\",\"60,000-69,999\",\"80,000-89,999\",\"90,000-99,999\",\"unanswered\"],\"xaxis\":\"x\",\"y\":[\"Saudi Arabia\",\"Saudi Arabia\",\"Saudi Arabia\",\"Saudi Arabia\",\"Saudi Arabia\",\"Saudi Arabia\",\"Saudi Arabia\",\"Saudi Arabia\",\"Saudi Arabia\",\"Saudi Arabia\",\"Saudi Arabia\",\"Saudi Arabia\",\"Saudi Arabia\",\"Saudi Arabia\",\"Saudi Arabia\",\"Saudi Arabia\",\"Saudi Arabia\"],\"yaxis\":\"y\",\"type\":\"bar\"},{\"alignmentgroup\":\"True\",\"hovertemplate\":\"Paises Participantes en la Encuesta=%{y}<br>Sexo de los Participantes=%{x}<extra></extra>\",\"legendgroup\":\"Singapore\",\"marker\":{\"color\":\"#FECB52\",\"pattern\":{\"shape\":\"\"}},\"name\":\"Singapore\",\"offsetgroup\":\"Singapore\",\"orientation\":\"v\",\"showlegend\":true,\"textposition\":\"auto\",\"x\":[\"$0-999\",\"1,000-1,999\",\"10,000-14,999\",\"100,000-124,999\",\"125,000-149,999\",\"15,000-19,999\",\"150,000-199,999\",\"2,000-2,999\",\"200,000-249,999\",\"25,000-29,999\",\"3,000-3,999\",\"30,000-39,999\",\"4,000-4,999\",\"40,000-49,999\",\"5,000-7,499\",\"50,000-59,999\",\"60,000-69,999\",\"7,500-9,999\",\"70,000-79,999\",\"80,000-89,999\",\"90,000-99,999\",\"unanswered\"],\"xaxis\":\"x\",\"y\":[\"Singapore\",\"Singapore\",\"Singapore\",\"Singapore\",\"Singapore\",\"Singapore\",\"Singapore\",\"Singapore\",\"Singapore\",\"Singapore\",\"Singapore\",\"Singapore\",\"Singapore\",\"Singapore\",\"Singapore\",\"Singapore\",\"Singapore\",\"Singapore\",\"Singapore\",\"Singapore\",\"Singapore\",\"Singapore\"],\"yaxis\":\"y\",\"type\":\"bar\"},{\"alignmentgroup\":\"True\",\"hovertemplate\":\"Paises Participantes en la Encuesta=%{y}<br>Sexo de los Participantes=%{x}<extra></extra>\",\"legendgroup\":\"South Africa\",\"marker\":{\"color\":\"#636efa\",\"pattern\":{\"shape\":\"\"}},\"name\":\"South Africa\",\"offsetgroup\":\"South Africa\",\"orientation\":\"v\",\"showlegend\":true,\"textposition\":\"auto\",\"x\":[\"$0-999\",\"1,000-1,999\",\"10,000-14,999\",\"100,000-124,999\",\"15,000-19,999\",\"150,000-199,999\",\"2,000-2,999\",\"20,000-24,999\",\"200,000-249,999\",\"25,000-29,999\",\"3,000-3,999\",\"30,000-39,999\",\"40,000-49,999\",\"50,000-59,999\",\"60,000-69,999\",\"7,500-9,999\",\"70,000-79,999\",\"80,000-89,999\",\"90,000-99,999\",\"unanswered\"],\"xaxis\":\"x\",\"y\":[\"South Africa\",\"South Africa\",\"South Africa\",\"South Africa\",\"South Africa\",\"South Africa\",\"South Africa\",\"South Africa\",\"South Africa\",\"South Africa\",\"South Africa\",\"South Africa\",\"South Africa\",\"South Africa\",\"South Africa\",\"South Africa\",\"South Africa\",\"South Africa\",\"South Africa\",\"South Africa\"],\"yaxis\":\"y\",\"type\":\"bar\"},{\"alignmentgroup\":\"True\",\"hovertemplate\":\"Paises Participantes en la Encuesta=%{y}<br>Sexo de los Participantes=%{x}<extra></extra>\",\"legendgroup\":\"South Korea\",\"marker\":{\"color\":\"#EF553B\",\"pattern\":{\"shape\":\"\"}},\"name\":\"South Korea\",\"offsetgroup\":\"South Korea\",\"orientation\":\"v\",\"showlegend\":true,\"textposition\":\"auto\",\"x\":[\"$0-999\",\"1,000-1,999\",\"10,000-14,999\",\"100,000-124,999\",\"15,000-19,999\",\"2,000-2,999\",\"25,000-29,999\",\"3,000-3,999\",\"30,000-39,999\",\"300,000-500,000\",\"4,000-4,999\",\"40,000-49,999\",\"5,000-7,499\",\"50,000-59,999\",\"60,000-69,999\",\"7,500-9,999\",\"70,000-79,999\",\"80,000-89,999\",\"> $500,000\",\"unanswered\"],\"xaxis\":\"x\",\"y\":[\"South Korea\",\"South Korea\",\"South Korea\",\"South Korea\",\"South Korea\",\"South Korea\",\"South Korea\",\"South Korea\",\"South Korea\",\"South Korea\",\"South Korea\",\"South Korea\",\"South Korea\",\"South Korea\",\"South Korea\",\"South Korea\",\"South Korea\",\"South Korea\",\"South Korea\",\"South Korea\"],\"yaxis\":\"y\",\"type\":\"bar\"},{\"alignmentgroup\":\"True\",\"hovertemplate\":\"Paises Participantes en la Encuesta=%{y}<br>Sexo de los Participantes=%{x}<extra></extra>\",\"legendgroup\":\"Spain\",\"marker\":{\"color\":\"#00cc96\",\"pattern\":{\"shape\":\"\"}},\"name\":\"Spain\",\"offsetgroup\":\"Spain\",\"orientation\":\"v\",\"showlegend\":true,\"textposition\":\"auto\",\"x\":[\"$0-999\",\"1,000-1,999\",\"10,000-14,999\",\"100,000-124,999\",\"125,000-149,999\",\"15,000-19,999\",\"150,000-199,999\",\"2,000-2,999\",\"20,000-24,999\",\"25,000-29,999\",\"3,000-3,999\",\"30,000-39,999\",\"4,000-4,999\",\"40,000-49,999\",\"50,000-59,999\",\"60,000-69,999\",\"7,500-9,999\",\"70,000-79,999\",\"80,000-89,999\",\"90,000-99,999\",\"unanswered\"],\"xaxis\":\"x\",\"y\":[\"Spain\",\"Spain\",\"Spain\",\"Spain\",\"Spain\",\"Spain\",\"Spain\",\"Spain\",\"Spain\",\"Spain\",\"Spain\",\"Spain\",\"Spain\",\"Spain\",\"Spain\",\"Spain\",\"Spain\",\"Spain\",\"Spain\",\"Spain\",\"Spain\"],\"yaxis\":\"y\",\"type\":\"bar\"},{\"alignmentgroup\":\"True\",\"hovertemplate\":\"Paises Participantes en la Encuesta=%{y}<br>Sexo de los Participantes=%{x}<extra></extra>\",\"legendgroup\":\"Sri Lanka\",\"marker\":{\"color\":\"#ab63fa\",\"pattern\":{\"shape\":\"\"}},\"name\":\"Sri Lanka\",\"offsetgroup\":\"Sri Lanka\",\"orientation\":\"v\",\"showlegend\":true,\"textposition\":\"auto\",\"x\":[\"$0-999\",\"1,000-1,999\",\"10,000-14,999\",\"15,000-19,999\",\"2,000-2,999\",\"20,000-24,999\",\"3,000-3,999\",\"30,000-39,999\",\"4,000-4,999\",\"40,000-49,999\",\"5,000-7,499\",\"50,000-59,999\",\"7,500-9,999\",\"unanswered\"],\"xaxis\":\"x\",\"y\":[\"Sri Lanka\",\"Sri Lanka\",\"Sri Lanka\",\"Sri Lanka\",\"Sri Lanka\",\"Sri Lanka\",\"Sri Lanka\",\"Sri Lanka\",\"Sri Lanka\",\"Sri Lanka\",\"Sri Lanka\",\"Sri Lanka\",\"Sri Lanka\",\"Sri Lanka\"],\"yaxis\":\"y\",\"type\":\"bar\"},{\"alignmentgroup\":\"True\",\"hovertemplate\":\"Paises Participantes en la Encuesta=%{y}<br>Sexo de los Participantes=%{x}<extra></extra>\",\"legendgroup\":\"Sweden\",\"marker\":{\"color\":\"#FFA15A\",\"pattern\":{\"shape\":\"\"}},\"name\":\"Sweden\",\"offsetgroup\":\"Sweden\",\"orientation\":\"v\",\"showlegend\":true,\"textposition\":\"auto\",\"x\":[\"$0-999\",\"10,000-14,999\",\"100,000-124,999\",\"125,000-149,999\",\"15,000-19,999\",\"20,000-24,999\",\"25,000-29,999\",\"30,000-39,999\",\"4,000-4,999\",\"40,000-49,999\",\"5,000-7,499\",\"50,000-59,999\",\"60,000-69,999\",\"70,000-79,999\",\"80,000-89,999\",\"90,000-99,999\",\"unanswered\"],\"xaxis\":\"x\",\"y\":[\"Sweden\",\"Sweden\",\"Sweden\",\"Sweden\",\"Sweden\",\"Sweden\",\"Sweden\",\"Sweden\",\"Sweden\",\"Sweden\",\"Sweden\",\"Sweden\",\"Sweden\",\"Sweden\",\"Sweden\",\"Sweden\",\"Sweden\"],\"yaxis\":\"y\",\"type\":\"bar\"},{\"alignmentgroup\":\"True\",\"hovertemplate\":\"Paises Participantes en la Encuesta=%{y}<br>Sexo de los Participantes=%{x}<extra></extra>\",\"legendgroup\":\"Switzerland\",\"marker\":{\"color\":\"#19d3f3\",\"pattern\":{\"shape\":\"\"}},\"name\":\"Switzerland\",\"offsetgroup\":\"Switzerland\",\"orientation\":\"v\",\"showlegend\":true,\"textposition\":\"auto\",\"x\":[\"10,000-14,999\",\"100,000-124,999\",\"125,000-149,999\",\"150,000-199,999\",\"2,000-2,999\",\"200,000-249,999\",\"25,000-29,999\",\"250,000-299,999\",\"30,000-39,999\",\"40,000-49,999\",\"50,000-59,999\",\"60,000-69,999\",\"70,000-79,999\",\"80,000-89,999\",\"90,000-99,999\",\"unanswered\"],\"xaxis\":\"x\",\"y\":[\"Switzerland\",\"Switzerland\",\"Switzerland\",\"Switzerland\",\"Switzerland\",\"Switzerland\",\"Switzerland\",\"Switzerland\",\"Switzerland\",\"Switzerland\",\"Switzerland\",\"Switzerland\",\"Switzerland\",\"Switzerland\",\"Switzerland\",\"Switzerland\"],\"yaxis\":\"y\",\"type\":\"bar\"},{\"alignmentgroup\":\"True\",\"hovertemplate\":\"Paises Participantes en la Encuesta=%{y}<br>Sexo de los Participantes=%{x}<extra></extra>\",\"legendgroup\":\"Taiwan\",\"marker\":{\"color\":\"#FF6692\",\"pattern\":{\"shape\":\"\"}},\"name\":\"Taiwan\",\"offsetgroup\":\"Taiwan\",\"orientation\":\"v\",\"showlegend\":true,\"textposition\":\"auto\",\"x\":[\"$0-999\",\"1,000-1,999\",\"10,000-14,999\",\"100,000-124,999\",\"15,000-19,999\",\"2,000-2,999\",\"20,000-24,999\",\"25,000-29,999\",\"3,000-3,999\",\"30,000-39,999\",\"4,000-4,999\",\"40,000-49,999\",\"5,000-7,499\",\"50,000-59,999\",\"60,000-69,999\",\"7,500-9,999\",\"70,000-79,999\",\"80,000-89,999\",\"unanswered\"],\"xaxis\":\"x\",\"y\":[\"Taiwan\",\"Taiwan\",\"Taiwan\",\"Taiwan\",\"Taiwan\",\"Taiwan\",\"Taiwan\",\"Taiwan\",\"Taiwan\",\"Taiwan\",\"Taiwan\",\"Taiwan\",\"Taiwan\",\"Taiwan\",\"Taiwan\",\"Taiwan\",\"Taiwan\",\"Taiwan\",\"Taiwan\"],\"yaxis\":\"y\",\"type\":\"bar\"},{\"alignmentgroup\":\"True\",\"hovertemplate\":\"Paises Participantes en la Encuesta=%{y}<br>Sexo de los Participantes=%{x}<extra></extra>\",\"legendgroup\":\"Thailand\",\"marker\":{\"color\":\"#B6E880\",\"pattern\":{\"shape\":\"\"}},\"name\":\"Thailand\",\"offsetgroup\":\"Thailand\",\"orientation\":\"v\",\"showlegend\":true,\"textposition\":\"auto\",\"x\":[\"$0-999\",\"1,000-1,999\",\"10,000-14,999\",\"100,000-124,999\",\"125,000-149,999\",\"15,000-19,999\",\"150,000-199,999\",\"2,000-2,999\",\"20,000-24,999\",\"25,000-29,999\",\"3,000-3,999\",\"30,000-39,999\",\"4,000-4,999\",\"40,000-49,999\",\"5,000-7,499\",\"60,000-69,999\",\"70,000-79,999\",\"> $500,000\",\"unanswered\"],\"xaxis\":\"x\",\"y\":[\"Thailand\",\"Thailand\",\"Thailand\",\"Thailand\",\"Thailand\",\"Thailand\",\"Thailand\",\"Thailand\",\"Thailand\",\"Thailand\",\"Thailand\",\"Thailand\",\"Thailand\",\"Thailand\",\"Thailand\",\"Thailand\",\"Thailand\",\"Thailand\",\"Thailand\"],\"yaxis\":\"y\",\"type\":\"bar\"},{\"alignmentgroup\":\"True\",\"hovertemplate\":\"Paises Participantes en la Encuesta=%{y}<br>Sexo de los Participantes=%{x}<extra></extra>\",\"legendgroup\":\"Tunisia\",\"marker\":{\"color\":\"#FF97FF\",\"pattern\":{\"shape\":\"\"}},\"name\":\"Tunisia\",\"offsetgroup\":\"Tunisia\",\"orientation\":\"v\",\"showlegend\":true,\"textposition\":\"auto\",\"x\":[\"$0-999\",\"1,000-1,999\",\"10,000-14,999\",\"15,000-19,999\",\"2,000-2,999\",\"3,000-3,999\",\"30,000-39,999\",\"4,000-4,999\",\"40,000-49,999\",\"5,000-7,499\",\"50,000-59,999\",\"7,500-9,999\",\"80,000-89,999\",\"> $500,000\",\"unanswered\"],\"xaxis\":\"x\",\"y\":[\"Tunisia\",\"Tunisia\",\"Tunisia\",\"Tunisia\",\"Tunisia\",\"Tunisia\",\"Tunisia\",\"Tunisia\",\"Tunisia\",\"Tunisia\",\"Tunisia\",\"Tunisia\",\"Tunisia\",\"Tunisia\",\"Tunisia\"],\"yaxis\":\"y\",\"type\":\"bar\"},{\"alignmentgroup\":\"True\",\"hovertemplate\":\"Paises Participantes en la Encuesta=%{y}<br>Sexo de los Participantes=%{x}<extra></extra>\",\"legendgroup\":\"Turkey\",\"marker\":{\"color\":\"#FECB52\",\"pattern\":{\"shape\":\"\"}},\"name\":\"Turkey\",\"offsetgroup\":\"Turkey\",\"orientation\":\"v\",\"showlegend\":true,\"textposition\":\"auto\",\"x\":[\"$0-999\",\"1,000-1,999\",\"10,000-14,999\",\"100,000-124,999\",\"15,000-19,999\",\"2,000-2,999\",\"20,000-24,999\",\"25,000-29,999\",\"3,000-3,999\",\"30,000-39,999\",\"4,000-4,999\",\"40,000-49,999\",\"5,000-7,499\",\"60,000-69,999\",\"7,500-9,999\",\"80,000-89,999\",\"90,000-99,999\",\"> $500,000\",\"unanswered\"],\"xaxis\":\"x\",\"y\":[\"Turkey\",\"Turkey\",\"Turkey\",\"Turkey\",\"Turkey\",\"Turkey\",\"Turkey\",\"Turkey\",\"Turkey\",\"Turkey\",\"Turkey\",\"Turkey\",\"Turkey\",\"Turkey\",\"Turkey\",\"Turkey\",\"Turkey\",\"Turkey\",\"Turkey\"],\"yaxis\":\"y\",\"type\":\"bar\"},{\"alignmentgroup\":\"True\",\"hovertemplate\":\"Paises Participantes en la Encuesta=%{y}<br>Sexo de los Participantes=%{x}<extra></extra>\",\"legendgroup\":\"Ukraine\",\"marker\":{\"color\":\"#636efa\",\"pattern\":{\"shape\":\"\"}},\"name\":\"Ukraine\",\"offsetgroup\":\"Ukraine\",\"orientation\":\"v\",\"showlegend\":true,\"textposition\":\"auto\",\"x\":[\"$0-999\",\"1,000-1,999\",\"10,000-14,999\",\"15,000-19,999\",\"2,000-2,999\",\"20,000-24,999\",\"25,000-29,999\",\"3,000-3,999\",\"30,000-39,999\",\"4,000-4,999\",\"40,000-49,999\",\"5,000-7,499\",\"50,000-59,999\",\"60,000-69,999\",\"7,500-9,999\",\"70,000-79,999\",\"80,000-89,999\",\"unanswered\"],\"xaxis\":\"x\",\"y\":[\"Ukraine\",\"Ukraine\",\"Ukraine\",\"Ukraine\",\"Ukraine\",\"Ukraine\",\"Ukraine\",\"Ukraine\",\"Ukraine\",\"Ukraine\",\"Ukraine\",\"Ukraine\",\"Ukraine\",\"Ukraine\",\"Ukraine\",\"Ukraine\",\"Ukraine\",\"Ukraine\"],\"yaxis\":\"y\",\"type\":\"bar\"},{\"alignmentgroup\":\"True\",\"hovertemplate\":\"Paises Participantes en la Encuesta=%{y}<br>Sexo de los Participantes=%{x}<extra></extra>\",\"legendgroup\":\"United Arab Emirates\",\"marker\":{\"color\":\"#EF553B\",\"pattern\":{\"shape\":\"\"}},\"name\":\"United Arab Emirates\",\"offsetgroup\":\"United Arab Emirates\",\"orientation\":\"v\",\"showlegend\":true,\"textposition\":\"auto\",\"x\":[\"$0-999\",\"1,000-1,999\",\"10,000-14,999\",\"100,000-124,999\",\"125,000-149,999\",\"15,000-19,999\",\"150,000-199,999\",\"25,000-29,999\",\"3,000-3,999\",\"4,000-4,999\",\"5,000-7,499\",\"50,000-59,999\",\"60,000-69,999\",\"7,500-9,999\",\"70,000-79,999\",\"80,000-89,999\",\"90,000-99,999\",\"unanswered\"],\"xaxis\":\"x\",\"y\":[\"United Arab Emirates\",\"United Arab Emirates\",\"United Arab Emirates\",\"United Arab Emirates\",\"United Arab Emirates\",\"United Arab Emirates\",\"United Arab Emirates\",\"United Arab Emirates\",\"United Arab Emirates\",\"United Arab Emirates\",\"United Arab Emirates\",\"United Arab Emirates\",\"United Arab Emirates\",\"United Arab Emirates\",\"United Arab Emirates\",\"United Arab Emirates\",\"United Arab Emirates\",\"United Arab Emirates\"],\"yaxis\":\"y\",\"type\":\"bar\"},{\"alignmentgroup\":\"True\",\"hovertemplate\":\"Paises Participantes en la Encuesta=%{y}<br>Sexo de los Participantes=%{x}<extra></extra>\",\"legendgroup\":\"United Kingdom of Great Britain and Northern Ireland\",\"marker\":{\"color\":\"#00cc96\",\"pattern\":{\"shape\":\"\"}},\"name\":\"United Kingdom of Great Britain and Northern Ireland\",\"offsetgroup\":\"United Kingdom of Great Britain and Northern Ireland\",\"orientation\":\"v\",\"showlegend\":true,\"textposition\":\"auto\",\"x\":[\"$0-999\",\"1,000-1,999\",\"10,000-14,999\",\"100,000-124,999\",\"125,000-149,999\",\"15,000-19,999\",\"150,000-199,999\",\"2,000-2,999\",\"20,000-24,999\",\"200,000-249,999\",\"25,000-29,999\",\"250,000-299,999\",\"3,000-3,999\",\"30,000-39,999\",\"300,000-500,000\",\"40,000-49,999\",\"5,000-7,499\",\"50,000-59,999\",\"60,000-69,999\",\"7,500-9,999\",\"70,000-79,999\",\"80,000-89,999\",\"90,000-99,999\",\"> $500,000\",\"unanswered\"],\"xaxis\":\"x\",\"y\":[\"United Kingdom of Great Britain and Northern Ireland\",\"United Kingdom of Great Britain and Northern Ireland\",\"United Kingdom of Great Britain and Northern Ireland\",\"United Kingdom of Great Britain and Northern Ireland\",\"United Kingdom of Great Britain and Northern Ireland\",\"United Kingdom of Great Britain and Northern Ireland\",\"United Kingdom of Great Britain and Northern Ireland\",\"United Kingdom of Great Britain and Northern Ireland\",\"United Kingdom of Great Britain and Northern Ireland\",\"United Kingdom of Great Britain and Northern Ireland\",\"United Kingdom of Great Britain and Northern Ireland\",\"United Kingdom of Great Britain and Northern Ireland\",\"United Kingdom of Great Britain and Northern Ireland\",\"United Kingdom of Great Britain and Northern Ireland\",\"United Kingdom of Great Britain and Northern Ireland\",\"United Kingdom of Great Britain and Northern Ireland\",\"United Kingdom of Great Britain and Northern Ireland\",\"United Kingdom of Great Britain and Northern Ireland\",\"United Kingdom of Great Britain and Northern Ireland\",\"United Kingdom of Great Britain and Northern Ireland\",\"United Kingdom of Great Britain and Northern Ireland\",\"United Kingdom of Great Britain and Northern Ireland\",\"United Kingdom of Great Britain and Northern Ireland\",\"United Kingdom of Great Britain and Northern Ireland\",\"United Kingdom of Great Britain and Northern Ireland\"],\"yaxis\":\"y\",\"type\":\"bar\"},{\"alignmentgroup\":\"True\",\"hovertemplate\":\"Paises Participantes en la Encuesta=%{y}<br>Sexo de los Participantes=%{x}<extra></extra>\",\"legendgroup\":\"United States of America\",\"marker\":{\"color\":\"#ab63fa\",\"pattern\":{\"shape\":\"\"}},\"name\":\"United States of America\",\"offsetgroup\":\"United States of America\",\"orientation\":\"v\",\"showlegend\":true,\"textposition\":\"auto\",\"x\":[\"$0-999\",\"1,000-1,999\",\"10,000-14,999\",\"100,000-124,999\",\"125,000-149,999\",\"15,000-19,999\",\"150,000-199,999\",\"2,000-2,999\",\"20,000-24,999\",\"200,000-249,999\",\"25,000-29,999\",\"250,000-299,999\",\"3,000-3,999\",\"30,000-39,999\",\"300,000-500,000\",\"4,000-4,999\",\"40,000-49,999\",\"5,000-7,499\",\"50,000-59,999\",\"60,000-69,999\",\"7,500-9,999\",\"70,000-79,999\",\"80,000-89,999\",\"90,000-99,999\",\"> $500,000\",\"unanswered\"],\"xaxis\":\"x\",\"y\":[\"United States of America\",\"United States of America\",\"United States of America\",\"United States of America\",\"United States of America\",\"United States of America\",\"United States of America\",\"United States of America\",\"United States of America\",\"United States of America\",\"United States of America\",\"United States of America\",\"United States of America\",\"United States of America\",\"United States of America\",\"United States of America\",\"United States of America\",\"United States of America\",\"United States of America\",\"United States of America\",\"United States of America\",\"United States of America\",\"United States of America\",\"United States of America\",\"United States of America\",\"United States of America\"],\"yaxis\":\"y\",\"type\":\"bar\"},{\"alignmentgroup\":\"True\",\"hovertemplate\":\"Paises Participantes en la Encuesta=%{y}<br>Sexo de los Participantes=%{x}<extra></extra>\",\"legendgroup\":\"Viet Nam\",\"marker\":{\"color\":\"#FFA15A\",\"pattern\":{\"shape\":\"\"}},\"name\":\"Viet Nam\",\"offsetgroup\":\"Viet Nam\",\"orientation\":\"v\",\"showlegend\":true,\"textposition\":\"auto\",\"x\":[\"$0-999\",\"1,000-1,999\",\"10,000-14,999\",\"125,000-149,999\",\"15,000-19,999\",\"2,000-2,999\",\"20,000-24,999\",\"25,000-29,999\",\"30,000-39,999\",\"4,000-4,999\",\"5,000-7,499\",\"50,000-59,999\",\"7,500-9,999\",\"70,000-79,999\",\"unanswered\"],\"xaxis\":\"x\",\"y\":[\"Viet Nam\",\"Viet Nam\",\"Viet Nam\",\"Viet Nam\",\"Viet Nam\",\"Viet Nam\",\"Viet Nam\",\"Viet Nam\",\"Viet Nam\",\"Viet Nam\",\"Viet Nam\",\"Viet Nam\",\"Viet Nam\",\"Viet Nam\",\"Viet Nam\"],\"yaxis\":\"y\",\"type\":\"bar\"}],                        {\"template\":{\"data\":{\"bar\":[{\"error_x\":{\"color\":\"#2a3f5f\"},\"error_y\":{\"color\":\"#2a3f5f\"},\"marker\":{\"line\":{\"color\":\"#E5ECF6\",\"width\":0.5},\"pattern\":{\"fillmode\":\"overlay\",\"size\":10,\"solidity\":0.2}},\"type\":\"bar\"}],\"barpolar\":[{\"marker\":{\"line\":{\"color\":\"#E5ECF6\",\"width\":0.5},\"pattern\":{\"fillmode\":\"overlay\",\"size\":10,\"solidity\":0.2}},\"type\":\"barpolar\"}],\"carpet\":[{\"aaxis\":{\"endlinecolor\":\"#2a3f5f\",\"gridcolor\":\"white\",\"linecolor\":\"white\",\"minorgridcolor\":\"white\",\"startlinecolor\":\"#2a3f5f\"},\"baxis\":{\"endlinecolor\":\"#2a3f5f\",\"gridcolor\":\"white\",\"linecolor\":\"white\",\"minorgridcolor\":\"white\",\"startlinecolor\":\"#2a3f5f\"},\"type\":\"carpet\"}],\"choropleth\":[{\"colorbar\":{\"outlinewidth\":0,\"ticks\":\"\"},\"type\":\"choropleth\"}],\"contour\":[{\"colorbar\":{\"outlinewidth\":0,\"ticks\":\"\"},\"colorscale\":[[0.0,\"#0d0887\"],[0.1111111111111111,\"#46039f\"],[0.2222222222222222,\"#7201a8\"],[0.3333333333333333,\"#9c179e\"],[0.4444444444444444,\"#bd3786\"],[0.5555555555555556,\"#d8576b\"],[0.6666666666666666,\"#ed7953\"],[0.7777777777777778,\"#fb9f3a\"],[0.8888888888888888,\"#fdca26\"],[1.0,\"#f0f921\"]],\"type\":\"contour\"}],\"contourcarpet\":[{\"colorbar\":{\"outlinewidth\":0,\"ticks\":\"\"},\"type\":\"contourcarpet\"}],\"heatmap\":[{\"colorbar\":{\"outlinewidth\":0,\"ticks\":\"\"},\"colorscale\":[[0.0,\"#0d0887\"],[0.1111111111111111,\"#46039f\"],[0.2222222222222222,\"#7201a8\"],[0.3333333333333333,\"#9c179e\"],[0.4444444444444444,\"#bd3786\"],[0.5555555555555556,\"#d8576b\"],[0.6666666666666666,\"#ed7953\"],[0.7777777777777778,\"#fb9f3a\"],[0.8888888888888888,\"#fdca26\"],[1.0,\"#f0f921\"]],\"type\":\"heatmap\"}],\"heatmapgl\":[{\"colorbar\":{\"outlinewidth\":0,\"ticks\":\"\"},\"colorscale\":[[0.0,\"#0d0887\"],[0.1111111111111111,\"#46039f\"],[0.2222222222222222,\"#7201a8\"],[0.3333333333333333,\"#9c179e\"],[0.4444444444444444,\"#bd3786\"],[0.5555555555555556,\"#d8576b\"],[0.6666666666666666,\"#ed7953\"],[0.7777777777777778,\"#fb9f3a\"],[0.8888888888888888,\"#fdca26\"],[1.0,\"#f0f921\"]],\"type\":\"heatmapgl\"}],\"histogram\":[{\"marker\":{\"pattern\":{\"fillmode\":\"overlay\",\"size\":10,\"solidity\":0.2}},\"type\":\"histogram\"}],\"histogram2d\":[{\"colorbar\":{\"outlinewidth\":0,\"ticks\":\"\"},\"colorscale\":[[0.0,\"#0d0887\"],[0.1111111111111111,\"#46039f\"],[0.2222222222222222,\"#7201a8\"],[0.3333333333333333,\"#9c179e\"],[0.4444444444444444,\"#bd3786\"],[0.5555555555555556,\"#d8576b\"],[0.6666666666666666,\"#ed7953\"],[0.7777777777777778,\"#fb9f3a\"],[0.8888888888888888,\"#fdca26\"],[1.0,\"#f0f921\"]],\"type\":\"histogram2d\"}],\"histogram2dcontour\":[{\"colorbar\":{\"outlinewidth\":0,\"ticks\":\"\"},\"colorscale\":[[0.0,\"#0d0887\"],[0.1111111111111111,\"#46039f\"],[0.2222222222222222,\"#7201a8\"],[0.3333333333333333,\"#9c179e\"],[0.4444444444444444,\"#bd3786\"],[0.5555555555555556,\"#d8576b\"],[0.6666666666666666,\"#ed7953\"],[0.7777777777777778,\"#fb9f3a\"],[0.8888888888888888,\"#fdca26\"],[1.0,\"#f0f921\"]],\"type\":\"histogram2dcontour\"}],\"mesh3d\":[{\"colorbar\":{\"outlinewidth\":0,\"ticks\":\"\"},\"type\":\"mesh3d\"}],\"parcoords\":[{\"line\":{\"colorbar\":{\"outlinewidth\":0,\"ticks\":\"\"}},\"type\":\"parcoords\"}],\"pie\":[{\"automargin\":true,\"type\":\"pie\"}],\"scatter\":[{\"marker\":{\"colorbar\":{\"outlinewidth\":0,\"ticks\":\"\"}},\"type\":\"scatter\"}],\"scatter3d\":[{\"line\":{\"colorbar\":{\"outlinewidth\":0,\"ticks\":\"\"}},\"marker\":{\"colorbar\":{\"outlinewidth\":0,\"ticks\":\"\"}},\"type\":\"scatter3d\"}],\"scattercarpet\":[{\"marker\":{\"colorbar\":{\"outlinewidth\":0,\"ticks\":\"\"}},\"type\":\"scattercarpet\"}],\"scattergeo\":[{\"marker\":{\"colorbar\":{\"outlinewidth\":0,\"ticks\":\"\"}},\"type\":\"scattergeo\"}],\"scattergl\":[{\"marker\":{\"colorbar\":{\"outlinewidth\":0,\"ticks\":\"\"}},\"type\":\"scattergl\"}],\"scattermapbox\":[{\"marker\":{\"colorbar\":{\"outlinewidth\":0,\"ticks\":\"\"}},\"type\":\"scattermapbox\"}],\"scatterpolar\":[{\"marker\":{\"colorbar\":{\"outlinewidth\":0,\"ticks\":\"\"}},\"type\":\"scatterpolar\"}],\"scatterpolargl\":[{\"marker\":{\"colorbar\":{\"outlinewidth\":0,\"ticks\":\"\"}},\"type\":\"scatterpolargl\"}],\"scatterternary\":[{\"marker\":{\"colorbar\":{\"outlinewidth\":0,\"ticks\":\"\"}},\"type\":\"scatterternary\"}],\"surface\":[{\"colorbar\":{\"outlinewidth\":0,\"ticks\":\"\"},\"colorscale\":[[0.0,\"#0d0887\"],[0.1111111111111111,\"#46039f\"],[0.2222222222222222,\"#7201a8\"],[0.3333333333333333,\"#9c179e\"],[0.4444444444444444,\"#bd3786\"],[0.5555555555555556,\"#d8576b\"],[0.6666666666666666,\"#ed7953\"],[0.7777777777777778,\"#fb9f3a\"],[0.8888888888888888,\"#fdca26\"],[1.0,\"#f0f921\"]],\"type\":\"surface\"}],\"table\":[{\"cells\":{\"fill\":{\"color\":\"#EBF0F8\"},\"line\":{\"color\":\"white\"}},\"header\":{\"fill\":{\"color\":\"#C8D4E3\"},\"line\":{\"color\":\"white\"}},\"type\":\"table\"}]},\"layout\":{\"annotationdefaults\":{\"arrowcolor\":\"#2a3f5f\",\"arrowhead\":0,\"arrowwidth\":1},\"autotypenumbers\":\"strict\",\"coloraxis\":{\"colorbar\":{\"outlinewidth\":0,\"ticks\":\"\"}},\"colorscale\":{\"diverging\":[[0,\"#8e0152\"],[0.1,\"#c51b7d\"],[0.2,\"#de77ae\"],[0.3,\"#f1b6da\"],[0.4,\"#fde0ef\"],[0.5,\"#f7f7f7\"],[0.6,\"#e6f5d0\"],[0.7,\"#b8e186\"],[0.8,\"#7fbc41\"],[0.9,\"#4d9221\"],[1,\"#276419\"]],\"sequential\":[[0.0,\"#0d0887\"],[0.1111111111111111,\"#46039f\"],[0.2222222222222222,\"#7201a8\"],[0.3333333333333333,\"#9c179e\"],[0.4444444444444444,\"#bd3786\"],[0.5555555555555556,\"#d8576b\"],[0.6666666666666666,\"#ed7953\"],[0.7777777777777778,\"#fb9f3a\"],[0.8888888888888888,\"#fdca26\"],[1.0,\"#f0f921\"]],\"sequentialminus\":[[0.0,\"#0d0887\"],[0.1111111111111111,\"#46039f\"],[0.2222222222222222,\"#7201a8\"],[0.3333333333333333,\"#9c179e\"],[0.4444444444444444,\"#bd3786\"],[0.5555555555555556,\"#d8576b\"],[0.6666666666666666,\"#ed7953\"],[0.7777777777777778,\"#fb9f3a\"],[0.8888888888888888,\"#fdca26\"],[1.0,\"#f0f921\"]]},\"colorway\":[\"#636efa\",\"#EF553B\",\"#00cc96\",\"#ab63fa\",\"#FFA15A\",\"#19d3f3\",\"#FF6692\",\"#B6E880\",\"#FF97FF\",\"#FECB52\"],\"font\":{\"color\":\"#2a3f5f\"},\"geo\":{\"bgcolor\":\"white\",\"lakecolor\":\"white\",\"landcolor\":\"#E5ECF6\",\"showlakes\":true,\"showland\":true,\"subunitcolor\":\"white\"},\"hoverlabel\":{\"align\":\"left\"},\"hovermode\":\"closest\",\"mapbox\":{\"style\":\"light\"},\"paper_bgcolor\":\"white\",\"plot_bgcolor\":\"#E5ECF6\",\"polar\":{\"angularaxis\":{\"gridcolor\":\"white\",\"linecolor\":\"white\",\"ticks\":\"\"},\"bgcolor\":\"#E5ECF6\",\"radialaxis\":{\"gridcolor\":\"white\",\"linecolor\":\"white\",\"ticks\":\"\"}},\"scene\":{\"xaxis\":{\"backgroundcolor\":\"#E5ECF6\",\"gridcolor\":\"white\",\"gridwidth\":2,\"linecolor\":\"white\",\"showbackground\":true,\"ticks\":\"\",\"zerolinecolor\":\"white\"},\"yaxis\":{\"backgroundcolor\":\"#E5ECF6\",\"gridcolor\":\"white\",\"gridwidth\":2,\"linecolor\":\"white\",\"showbackground\":true,\"ticks\":\"\",\"zerolinecolor\":\"white\"},\"zaxis\":{\"backgroundcolor\":\"#E5ECF6\",\"gridcolor\":\"white\",\"gridwidth\":2,\"linecolor\":\"white\",\"showbackground\":true,\"ticks\":\"\",\"zerolinecolor\":\"white\"}},\"shapedefaults\":{\"line\":{\"color\":\"#2a3f5f\"}},\"ternary\":{\"aaxis\":{\"gridcolor\":\"white\",\"linecolor\":\"white\",\"ticks\":\"\"},\"baxis\":{\"gridcolor\":\"white\",\"linecolor\":\"white\",\"ticks\":\"\"},\"bgcolor\":\"#E5ECF6\",\"caxis\":{\"gridcolor\":\"white\",\"linecolor\":\"white\",\"ticks\":\"\"}},\"title\":{\"x\":0.05},\"xaxis\":{\"automargin\":true,\"gridcolor\":\"white\",\"linecolor\":\"white\",\"ticks\":\"\",\"title\":{\"standoff\":15},\"zerolinecolor\":\"white\",\"zerolinewidth\":2},\"yaxis\":{\"automargin\":true,\"gridcolor\":\"white\",\"linecolor\":\"white\",\"ticks\":\"\",\"title\":{\"standoff\":15},\"zerolinecolor\":\"white\",\"zerolinewidth\":2}}},\"xaxis\":{\"anchor\":\"y\",\"domain\":[0.0,1.0],\"title\":{\"text\":\"Sexo de los Participantes\"}},\"yaxis\":{\"anchor\":\"x\",\"domain\":[0.0,1.0],\"title\":{\"text\":\"Paises Participantes en la Encuesta\"},\"categoryorder\":\"array\",\"categoryarray\":[\"Viet Nam\",\"United States of America\",\"United Kingdom of Great Britain and Northern Ireland\",\"United Arab Emirates\",\"Ukraine\",\"Turkey\",\"Tunisia\",\"Thailand\",\"Taiwan\",\"Switzerland\",\"Sweden\",\"Sri Lanka\",\"Spain\",\"South Korea\",\"South Africa\",\"Singapore\",\"Saudi Arabia\",\"Russia\",\"Romania\",\"Republic of Korea\",\"Portugal\",\"Poland\",\"Philippines\",\"Peru\",\"Pakistan\",\"Other\",\"Nigeria\",\"Netherlands\",\"Nepal\",\"Morocco\",\"Mexico\",\"Malaysia\",\"Kenya\",\"Japan\",\"Italy\",\"Israel\",\"Ireland\",\"Iran, Islamic Republic of...\",\"Indonesia\",\"India\",\"Greece\",\"Ghana\",\"Germany\",\"France\",\"Egypt\",\"Colombia\",\"China\",\"Chile\",\"Canada\",\"Brazil\",\"Belgium\",\"Belarus\",\"Bangladesh\",\"Australia\",\"Argentina\"]},\"legend\":{\"title\":{\"text\":\"Paises Participantes en la Encuesta\"},\"tracegroupgap\":0},\"title\":{\"text\":\"Agrupacion de generos de participantes por Pais\"},\"barmode\":\"relative\"},                        {\"responsive\": true}                    ).then(function(){\n                            \nvar gd = document.getElementById('fbb59fcd-3f6c-4a62-93a5-0eeb6972d306');\nvar x = new MutationObserver(function (mutations, observer) {{\n        var display = window.getComputedStyle(gd).display;\n        if (!display || display === 'none') {{\n            console.log([gd, 'removed!']);\n            Plotly.purge(gd);\n            observer.disconnect();\n        }}\n}});\n\n// Listen for the removal of the full notebook cells\nvar notebookContainer = gd.closest('#notebook-container');\nif (notebookContainer) {{\n    x.observe(notebookContainer, {childList: true});\n}}\n\n// Listen for the clearing of the current output cell\nvar outputEl = gd.closest('.output');\nif (outputEl) {{\n    x.observe(outputEl, {childList: true});\n}}\n\n                        })                };                });            </script>        </div>"
     },
     "metadata": {},
     "output_type": "display_data"
    }
   ],
   "source": [
    "import plotly.express as px\n",
    "\n",
    "px.bar(df, x='compensacion', y='pais', color='pais', labels={'conteo': 'Cantidad de Personas por Pais', 'pais': 'Paises Participantes en la Encuesta',\n",
    "                                                       'compensacion': 'Sexo de los Participantes'}, title='Agrupacion de generos de participantes por Pais')"
   ],
   "metadata": {
    "collapsed": false,
    "pycharm": {
     "name": "#%%\n"
    }
   }
  },
  {
   "cell_type": "code",
   "execution_count": null,
   "outputs": [],
   "source": [],
   "metadata": {
    "collapsed": false,
    "pycharm": {
     "name": "#%%\n"
    }
   }
  }
 ]
}